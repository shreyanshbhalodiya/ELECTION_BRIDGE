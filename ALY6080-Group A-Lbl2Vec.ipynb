{
 "cells": [
  {
   "cell_type": "code",
   "execution_count": 57,
   "id": "57ebd18b",
   "metadata": {
    "scrolled": true
   },
   "outputs": [],
   "source": [
    "#!pip install PyPDF2"
   ]
  },
  {
   "cell_type": "code",
   "execution_count": 1,
   "id": "0d3a6653",
   "metadata": {},
   "outputs": [],
   "source": [
    "import pandas as pd\n",
    "import requests\n",
    "from bs4 import BeautifulSoup\n",
    "import io\n",
    "import PyPDF2"
   ]
  },
  {
   "cell_type": "code",
   "execution_count": 2,
   "id": "6e7ebf16",
   "metadata": {},
   "outputs": [],
   "source": [
    "from tqdm import tqdm"
   ]
  },
  {
   "cell_type": "code",
   "execution_count": 3,
   "id": "95a3f78f",
   "metadata": {},
   "outputs": [],
   "source": [
    "from gensim.utils import simple_preprocess\n",
    "from gensim.parsing.preprocessing import strip_tags\n",
    "from gensim.models.doc2vec import TaggedDocument\n",
    "\n",
    "from lbl2vec import Lbl2Vec\n",
    "from gensim.utils import simple_preprocess\n",
    "from gensim.models.doc2vec import TaggedDocument\n",
    "from gensim.parsing.preprocessing import strip_tags\n",
    "from sklearn.metrics import f1_score"
   ]
  },
  {
   "cell_type": "code",
   "execution_count": 4,
   "id": "66a62633",
   "metadata": {},
   "outputs": [],
   "source": [
    "from lbl2vec import Lbl2Vec, Lbl2TransformerVec\n",
    "import torch\n",
    "\n",
    "# evaluation\n",
    "from sklearn.metrics import f1_score\n",
    "#splitting data\n",
    "from sklearn.model_selection import train_test_split"
   ]
  },
  {
   "cell_type": "code",
   "execution_count": 6,
   "id": "a6afd652",
   "metadata": {},
   "outputs": [],
   "source": [
    "df = pd.read_csv('data_election_bridge.csv')"
   ]
  },
  {
   "cell_type": "code",
   "execution_count": 8,
   "id": "699f032c",
   "metadata": {
    "scrolled": true
   },
   "outputs": [
    {
     "data": {
      "text/html": [
       "<div>\n",
       "<style scoped>\n",
       "    .dataframe tbody tr th:only-of-type {\n",
       "        vertical-align: middle;\n",
       "    }\n",
       "\n",
       "    .dataframe tbody tr th {\n",
       "        vertical-align: top;\n",
       "    }\n",
       "\n",
       "    .dataframe thead th {\n",
       "        text-align: right;\n",
       "    }\n",
       "</style>\n",
       "<table border=\"1\" class=\"dataframe\">\n",
       "  <thead>\n",
       "    <tr style=\"text-align: right;\">\n",
       "      <th></th>\n",
       "      <th>link</th>\n",
       "      <th>category</th>\n",
       "    </tr>\n",
       "  </thead>\n",
       "  <tbody>\n",
       "    <tr>\n",
       "      <th>0</th>\n",
       "      <td>https://content.civicplus.com/api/assets/bcff9...</td>\n",
       "      <td>Safety</td>\n",
       "    </tr>\n",
       "    <tr>\n",
       "      <th>1</th>\n",
       "      <td>https://content.civicplus.com/api/assets/f8a03...</td>\n",
       "      <td>Zoning</td>\n",
       "    </tr>\n",
       "    <tr>\n",
       "      <th>2</th>\n",
       "      <td>https://content.civicplus.com/api/assets/cc288...</td>\n",
       "      <td>Safety</td>\n",
       "    </tr>\n",
       "    <tr>\n",
       "      <th>3</th>\n",
       "      <td>https://content.civicplus.com/api/assets/0ea69...</td>\n",
       "      <td>Zoning</td>\n",
       "    </tr>\n",
       "    <tr>\n",
       "      <th>4</th>\n",
       "      <td>https://content.civicplus.com/api/assets/8ec46...</td>\n",
       "      <td>Education</td>\n",
       "    </tr>\n",
       "  </tbody>\n",
       "</table>\n",
       "</div>"
      ],
      "text/plain": [
       "                                                link   category\n",
       "0  https://content.civicplus.com/api/assets/bcff9...     Safety\n",
       "1  https://content.civicplus.com/api/assets/f8a03...     Zoning\n",
       "2  https://content.civicplus.com/api/assets/cc288...     Safety\n",
       "3  https://content.civicplus.com/api/assets/0ea69...     Zoning\n",
       "4  https://content.civicplus.com/api/assets/8ec46...  Education"
      ]
     },
     "execution_count": 8,
     "metadata": {},
     "output_type": "execute_result"
    }
   ],
   "source": [
    "df.head()"
   ]
  },
  {
   "cell_type": "code",
   "execution_count": 9,
   "id": "f2bfe7d7",
   "metadata": {},
   "outputs": [
    {
     "data": {
      "text/plain": [
       "array(['Safety', 'Zoning', 'Education', 'Infrastructure', 'Environmental'],\n",
       "      dtype=object)"
      ]
     },
     "execution_count": 9,
     "metadata": {},
     "output_type": "execute_result"
    }
   ],
   "source": [
    "df[\"category\"].unique()"
   ]
  },
  {
   "cell_type": "code",
   "execution_count": 10,
   "id": "e1bb5ede",
   "metadata": {},
   "outputs": [
    {
     "data": {
      "text/plain": [
       "category\n",
       "Education         102\n",
       "Safety             75\n",
       "Environmental      60\n",
       "Infrastructure     57\n",
       "Zoning             52\n",
       "Name: count, dtype: int64"
      ]
     },
     "execution_count": 10,
     "metadata": {},
     "output_type": "execute_result"
    }
   ],
   "source": [
    "df[\"category\"].value_counts()"
   ]
  },
  {
   "cell_type": "code",
   "execution_count": 11,
   "id": "258f328e",
   "metadata": {},
   "outputs": [],
   "source": [
    "df = df[(df[\"category\"].isin(['Education', 'Infrastructure', 'Zoning', 'Safety', 'Environmental']))]"
   ]
  },
  {
   "cell_type": "code",
   "execution_count": 12,
   "id": "5bd05397",
   "metadata": {},
   "outputs": [
    {
     "data": {
      "text/plain": [
       "category\n",
       "Education         102\n",
       "Safety             75\n",
       "Environmental      60\n",
       "Infrastructure     57\n",
       "Zoning             52\n",
       "Name: count, dtype: int64"
      ]
     },
     "execution_count": 12,
     "metadata": {},
     "output_type": "execute_result"
    }
   ],
   "source": [
    "df[\"category\"].value_counts()"
   ]
  },
  {
   "cell_type": "code",
   "execution_count": 13,
   "id": "d4a6ced2",
   "metadata": {
    "scrolled": true
   },
   "outputs": [
    {
     "data": {
      "text/plain": [
       "(346, 2)"
      ]
     },
     "execution_count": 13,
     "metadata": {},
     "output_type": "execute_result"
    }
   ],
   "source": [
    "df.shape"
   ]
  },
  {
   "cell_type": "code",
   "execution_count": 15,
   "id": "7a628040",
   "metadata": {
    "scrolled": true
   },
   "outputs": [
    {
     "name": "stderr",
     "output_type": "stream",
     "text": [
      " 31%|████████████████████████▋                                                       | 107/346 [03:11<03:27,  1.15it/s]unknown widths : \n",
      "[0, IndirectObject(198, 0, 2149312502672)]\n",
      "unknown widths : \n",
      "[0, IndirectObject(193, 0, 2149312502672)]\n",
      "unknown widths : \n",
      "[0, IndirectObject(188, 0, 2149312502672)]\n",
      "unknown widths : \n",
      "[0, IndirectObject(178, 0, 2149312502672)]\n",
      "unknown widths : \n",
      "[0, IndirectObject(173, 0, 2149312502672)]\n",
      "unknown widths : \n",
      "[0, IndirectObject(167, 0, 2149312502672)]\n",
      "unknown widths : \n",
      "[0, IndirectObject(156, 0, 2149312502672)]\n",
      "unknown widths : \n",
      "[0, IndirectObject(151, 0, 2149312502672)]\n",
      "unknown widths : \n",
      "[0, IndirectObject(142, 0, 2149312502672)]\n",
      " 48%|██████████████████████████████████████▌                                         | 167/346 [04:50<05:58,  2.00s/it]unknown widths : \n",
      "[0, IndirectObject(816, 0, 2149297041488)]\n",
      "unknown widths : \n",
      "[0, IndirectObject(811, 0, 2149297041488)]\n",
      "unknown widths : \n",
      "[0, IndirectObject(806, 0, 2149297041488)]\n",
      "unknown widths : \n",
      "[0, IndirectObject(801, 0, 2149297041488)]\n",
      "unknown widths : \n",
      "[0, IndirectObject(796, 0, 2149297041488)]\n",
      "unknown widths : \n",
      "[0, IndirectObject(791, 0, 2149297041488)]\n",
      "unknown widths : \n",
      "[0, IndirectObject(786, 0, 2149297041488)]\n",
      "unknown widths : \n",
      "[0, IndirectObject(781, 0, 2149297041488)]\n",
      "unknown widths : \n",
      "[0, IndirectObject(776, 0, 2149297041488)]\n",
      "unknown widths : \n",
      "[0, IndirectObject(417, 0, 2149297041488)]\n",
      "unknown widths : \n",
      "[0, IndirectObject(412, 0, 2149297041488)]\n",
      "unknown widths : \n",
      "[0, IndirectObject(407, 0, 2149297041488)]\n",
      "unknown widths : \n",
      "[0, IndirectObject(402, 0, 2149297041488)]\n",
      "unknown widths : \n",
      "[0, IndirectObject(397, 0, 2149297041488)]\n",
      "unknown widths : \n",
      "[0, IndirectObject(392, 0, 2149297041488)]\n",
      "unknown widths : \n",
      "[0, IndirectObject(387, 0, 2149297041488)]\n",
      " 73%|██████████████████████████████████████████████████████████▍                     | 253/346 [07:13<01:40,  1.08s/it]unknown widths : \n",
      "[0, IndirectObject(193, 0, 2147700213008)]\n",
      "unknown widths : \n",
      "[0, IndirectObject(188, 0, 2147700213008)]\n",
      "unknown widths : \n",
      "[0, IndirectObject(183, 0, 2147700213008)]\n",
      "unknown widths : \n",
      "[0, IndirectObject(178, 0, 2147700213008)]\n",
      "unknown widths : \n",
      "[0, IndirectObject(173, 0, 2147700213008)]\n",
      "unknown widths : \n",
      "[0, IndirectObject(168, 0, 2147700213008)]\n",
      "unknown widths : \n",
      "[0, IndirectObject(163, 0, 2147700213008)]\n",
      "unknown widths : \n",
      "[0, IndirectObject(158, 0, 2147700213008)]\n",
      "unknown widths : \n",
      "[0, IndirectObject(153, 0, 2147700213008)]\n",
      "unknown widths : \n",
      "[0, IndirectObject(141, 0, 2147700213008)]\n",
      "unknown widths : \n",
      "[0, IndirectObject(107, 0, 2147700213008)]\n",
      "unknown widths : \n",
      "[0, IndirectObject(132, 0, 2147700213008)]\n",
      "unknown widths : \n",
      "[0, IndirectObject(127, 0, 2147700213008)]\n",
      "unknown widths : \n",
      "[0, IndirectObject(122, 0, 2147700213008)]\n",
      "unknown widths : \n",
      "[0, IndirectObject(117, 0, 2147700213008)]\n",
      "unknown widths : \n",
      "[0, IndirectObject(112, 0, 2147700213008)]\n",
      "unknown widths : \n",
      "[0, IndirectObject(107, 0, 2147700213008)]\n",
      "100%|████████████████████████████████████████████████████████████████████████████████| 346/346 [09:59<00:00,  1.73s/it]\n"
     ]
    }
   ],
   "source": [
    "texts = []\n",
    "for i in tqdm(df['link']):\n",
    "    response = requests.get(i)\n",
    "    pdf_io_bytes = io.BytesIO(response.content)\n",
    "    text_list = []\n",
    "    pdf = PyPDF2.PdfReader(pdf_io_bytes)\n",
    "\n",
    "    num_pages = len(pdf.pages)\n",
    "\n",
    "    for page in range(num_pages):\n",
    "        page_text = pdf.pages[page].extract_text()\n",
    "        text_list.append(page_text)\n",
    "    text = \"\\n\".join(text_list)\n",
    "    texts.append(text)"
   ]
  },
  {
   "cell_type": "code",
   "execution_count": 16,
   "id": "83725917",
   "metadata": {},
   "outputs": [
    {
     "data": {
      "text/plain": [
       "346"
      ]
     },
     "execution_count": 16,
     "metadata": {},
     "output_type": "execute_result"
    }
   ],
   "source": [
    "len(texts)"
   ]
  },
  {
   "cell_type": "code",
   "execution_count": 17,
   "id": "e2e38312",
   "metadata": {},
   "outputs": [],
   "source": [
    "#texts"
   ]
  },
  {
   "cell_type": "code",
   "execution_count": 18,
   "id": "eb06ace7",
   "metadata": {},
   "outputs": [],
   "source": [
    "df[\"Description\"] = texts"
   ]
  },
  {
   "cell_type": "code",
   "execution_count": 19,
   "id": "87d5eb20",
   "metadata": {
    "scrolled": false
   },
   "outputs": [
    {
     "data": {
      "text/html": [
       "<div>\n",
       "<style scoped>\n",
       "    .dataframe tbody tr th:only-of-type {\n",
       "        vertical-align: middle;\n",
       "    }\n",
       "\n",
       "    .dataframe tbody tr th {\n",
       "        vertical-align: top;\n",
       "    }\n",
       "\n",
       "    .dataframe thead th {\n",
       "        text-align: right;\n",
       "    }\n",
       "</style>\n",
       "<table border=\"1\" class=\"dataframe\">\n",
       "  <thead>\n",
       "    <tr style=\"text-align: right;\">\n",
       "      <th></th>\n",
       "      <th>link</th>\n",
       "      <th>category</th>\n",
       "      <th>Description</th>\n",
       "    </tr>\n",
       "  </thead>\n",
       "  <tbody>\n",
       "    <tr>\n",
       "      <th>0</th>\n",
       "      <td>https://content.civicplus.com/api/assets/bcff9...</td>\n",
       "      <td>Safety</td>\n",
       "      <td>Order 1 1-21/22  \\nPassage: 9 -0 on 7/19/2021 ...</td>\n",
       "    </tr>\n",
       "    <tr>\n",
       "      <th>1</th>\n",
       "      <td>https://content.civicplus.com/api/assets/f8a03...</td>\n",
       "      <td>Zoning</td>\n",
       "      <td>\\nOrder 1 2-21/22 \\nPassage: 9 -0 on 7/19/202...</td>\n",
       "    </tr>\n",
       "    <tr>\n",
       "      <th>2</th>\n",
       "      <td>https://content.civicplus.com/api/assets/cc288...</td>\n",
       "      <td>Safety</td>\n",
       "      <td>\\n \\n13432743.1   \\nOrder 1 3-21/22 \\nPassage...</td>\n",
       "    </tr>\n",
       "    <tr>\n",
       "      <th>3</th>\n",
       "      <td>https://content.civicplus.com/api/assets/0ea69...</td>\n",
       "      <td>Zoning</td>\n",
       "      <td>\\n1 Order 14-21/22 \\nPassage:  9-0 on 7/19/20...</td>\n",
       "    </tr>\n",
       "    <tr>\n",
       "      <th>4</th>\n",
       "      <td>https://content.civicplus.com/api/assets/8ec46...</td>\n",
       "      <td>Education</td>\n",
       "      <td>Order 15 -21/22 \\nMotion to amend with Amendme...</td>\n",
       "    </tr>\n",
       "  </tbody>\n",
       "</table>\n",
       "</div>"
      ],
      "text/plain": [
       "                                                link   category  \\\n",
       "0  https://content.civicplus.com/api/assets/bcff9...     Safety   \n",
       "1  https://content.civicplus.com/api/assets/f8a03...     Zoning   \n",
       "2  https://content.civicplus.com/api/assets/cc288...     Safety   \n",
       "3  https://content.civicplus.com/api/assets/0ea69...     Zoning   \n",
       "4  https://content.civicplus.com/api/assets/8ec46...  Education   \n",
       "\n",
       "                                         Description  \n",
       "0  Order 1 1-21/22  \\nPassage: 9 -0 on 7/19/2021 ...  \n",
       "1   \\nOrder 1 2-21/22 \\nPassage: 9 -0 on 7/19/202...  \n",
       "2   \\n \\n13432743.1   \\nOrder 1 3-21/22 \\nPassage...  \n",
       "3   \\n1 Order 14-21/22 \\nPassage:  9-0 on 7/19/20...  \n",
       "4  Order 15 -21/22 \\nMotion to amend with Amendme...  "
      ]
     },
     "execution_count": 19,
     "metadata": {},
     "output_type": "execute_result"
    }
   ],
   "source": [
    "df.head()"
   ]
  },
  {
   "cell_type": "code",
   "execution_count": 20,
   "id": "0ff4a4f0",
   "metadata": {},
   "outputs": [
    {
     "data": {
      "text/html": [
       "<div>\n",
       "<style scoped>\n",
       "    .dataframe tbody tr th:only-of-type {\n",
       "        vertical-align: middle;\n",
       "    }\n",
       "\n",
       "    .dataframe tbody tr th {\n",
       "        vertical-align: top;\n",
       "    }\n",
       "\n",
       "    .dataframe thead th {\n",
       "        text-align: right;\n",
       "    }\n",
       "</style>\n",
       "<table border=\"1\" class=\"dataframe\">\n",
       "  <thead>\n",
       "    <tr style=\"text-align: right;\">\n",
       "      <th></th>\n",
       "      <th>link</th>\n",
       "      <th>category</th>\n",
       "      <th>Description</th>\n",
       "    </tr>\n",
       "  </thead>\n",
       "  <tbody>\n",
       "    <tr>\n",
       "      <th>341</th>\n",
       "      <td>https://content.civicplus.com/api/assets/89003...</td>\n",
       "      <td>Safety</td>\n",
       "      <td>Order 2 55-22/23 \\nPassage as an emergency : 7...</td>\n",
       "    </tr>\n",
       "    <tr>\n",
       "      <th>342</th>\n",
       "      <td>https://content.civicplus.com/api/assets/a147d...</td>\n",
       "      <td>Education</td>\n",
       "      <td>Order 260 -22/23 \\nMotion to amend to set  eff...</td>\n",
       "    </tr>\n",
       "    <tr>\n",
       "      <th>343</th>\n",
       "      <td>https://content.civicplus.com/api/assets/a258d...</td>\n",
       "      <td>Education</td>\n",
       "      <td>Orders \\Appointments \\Police Chief Sauschuck  ...</td>\n",
       "    </tr>\n",
       "    <tr>\n",
       "      <th>344</th>\n",
       "      <td>https://content.civicplus.com/api/assets/19ab9...</td>\n",
       "      <td>Education</td>\n",
       "      <td>Order 263- 22/23 \\nPassage as an emergency : 7...</td>\n",
       "    </tr>\n",
       "    <tr>\n",
       "      <th>345</th>\n",
       "      <td>https://content.civicplus.com/api/assets/175b1...</td>\n",
       "      <td>Environmental</td>\n",
       "      <td>Order 173- 22/23 \\nPassage: 9 -0 on 4/24/2023 ...</td>\n",
       "    </tr>\n",
       "  </tbody>\n",
       "</table>\n",
       "</div>"
      ],
      "text/plain": [
       "                                                  link       category  \\\n",
       "341  https://content.civicplus.com/api/assets/89003...         Safety   \n",
       "342  https://content.civicplus.com/api/assets/a147d...      Education   \n",
       "343  https://content.civicplus.com/api/assets/a258d...      Education   \n",
       "344  https://content.civicplus.com/api/assets/19ab9...      Education   \n",
       "345  https://content.civicplus.com/api/assets/175b1...  Environmental   \n",
       "\n",
       "                                           Description  \n",
       "341  Order 2 55-22/23 \\nPassage as an emergency : 7...  \n",
       "342  Order 260 -22/23 \\nMotion to amend to set  eff...  \n",
       "343  Orders \\Appointments \\Police Chief Sauschuck  ...  \n",
       "344  Order 263- 22/23 \\nPassage as an emergency : 7...  \n",
       "345  Order 173- 22/23 \\nPassage: 9 -0 on 4/24/2023 ...  "
      ]
     },
     "execution_count": 20,
     "metadata": {},
     "output_type": "execute_result"
    }
   ],
   "source": [
    "df.tail()"
   ]
  },
  {
   "cell_type": "code",
   "execution_count": 21,
   "id": "eaeb6d00",
   "metadata": {
    "scrolled": false
   },
   "outputs": [
    {
     "data": {
      "text/plain": [
       "' \\nOrder 1 2-21/22 \\nPassage: 9 -0 on 7/19/2021      Effective 7/29/2021 \\n \\nKATE SNYDER (MAYOR)  \\nBELINDA S. RAY (1)  \\nSPENCER R. THIBODEAU (2)  \\nTAE Y. CHONG (3)  \\nANDREW ZARRO (4)  CITY OF PORTLAND  \\nIN THE CITY COUNCIL  MARK DION (5)  \\nAPRIL D. FOURNIER(A/L)  \\nPIOUS ALI (A/L)  \\nNICHOLAS M. MAVODONES, JR (A/L)  \\n \\n \\n \\nORDER AMENDING ORDER 257 -20/21  \\nFISCAL YEAR 2021- 2022 APPROPRIATION RESOLVE \\n \\n \\nRESOLVED,  that the sum of $268,216,301 is hereby a ppropriated for Fiscal Year 202 2 \\nfor General Municipal purposes; and  \\n \\nBE IT FURTHER RESOLVED,  that the sum of $125,154,700 $126,454,700 is hereby \\nappropriated for Fiscal Year 2022 for School purposes; and  \\n \\nBE IT FURTHER RESOLVED,  that the Assessor of Taxes of the City of Portland be  \\nand hereby is directed to assess a tax upon all real estate liable to be taxed \\ntherein and to assess the owner of, or such other pe rsons as may be liable \\nby law for, personal property liable to be taxed therein on the first day of April, 2021 and not exempt from taxation, to the aggregate amount of $91,014,931 for municipal purposes and $100,582,406 $99,083,251 for \\nschool purposes for  a total tax levy of $191,597,337 190,098,182 for \\nFiscal Year 2022, in accordance with the provisions of the Statutes of Maine; and  \\n \\nBE IT FURTHER RESOLVED, all taxes assessed as above and committed to the \\nDirector of Finance shall be due 30 days after the  City’s Tax \\nCommitment 2021, and payable in two equal installments, the first due 30 days after the City’s Tax Commitment 2021, and the second installment due on the 18th day of March, 2022.  The delinquency rate of interest shall be six percent (6%) per annum on all payments received after the respective due dates and the abatement rate of interest shall be two percent (2%) per annum.  '"
      ]
     },
     "execution_count": 21,
     "metadata": {},
     "output_type": "execute_result"
    }
   ],
   "source": [
    "df[\"Description\"][1]"
   ]
  },
  {
   "cell_type": "code",
   "execution_count": 22,
   "id": "469df2df",
   "metadata": {},
   "outputs": [],
   "source": [
    "df[\"Description\"] = df[\"Description\"].map(lambda Description: Description.lower())"
   ]
  },
  {
   "cell_type": "code",
   "execution_count": 23,
   "id": "70c7d064",
   "metadata": {},
   "outputs": [
    {
     "data": {
      "text/html": [
       "<div>\n",
       "<style scoped>\n",
       "    .dataframe tbody tr th:only-of-type {\n",
       "        vertical-align: middle;\n",
       "    }\n",
       "\n",
       "    .dataframe tbody tr th {\n",
       "        vertical-align: top;\n",
       "    }\n",
       "\n",
       "    .dataframe thead th {\n",
       "        text-align: right;\n",
       "    }\n",
       "</style>\n",
       "<table border=\"1\" class=\"dataframe\">\n",
       "  <thead>\n",
       "    <tr style=\"text-align: right;\">\n",
       "      <th></th>\n",
       "      <th>category</th>\n",
       "      <th>words</th>\n",
       "      <th>number_of_keywords</th>\n",
       "    </tr>\n",
       "  </thead>\n",
       "  <tbody>\n",
       "    <tr>\n",
       "      <th>0</th>\n",
       "      <td>Environmental</td>\n",
       "      <td>[nature, ecology, conversation, green, environ...</td>\n",
       "      <td>6</td>\n",
       "    </tr>\n",
       "    <tr>\n",
       "      <th>1</th>\n",
       "      <td>Infrastructure</td>\n",
       "      <td>[installation, street, transportation, develop...</td>\n",
       "      <td>11</td>\n",
       "    </tr>\n",
       "    <tr>\n",
       "      <th>2</th>\n",
       "      <td>Education</td>\n",
       "      <td>[teaching, curriculum, school, education, lear...</td>\n",
       "      <td>6</td>\n",
       "    </tr>\n",
       "    <tr>\n",
       "      <th>3</th>\n",
       "      <td>Zoning</td>\n",
       "      <td>[housing, land, zoning, planning, regulations,...</td>\n",
       "      <td>8</td>\n",
       "    </tr>\n",
       "    <tr>\n",
       "      <th>4</th>\n",
       "      <td>Safety</td>\n",
       "      <td>[fire, emergency, health, security, safety, pr...</td>\n",
       "      <td>6</td>\n",
       "    </tr>\n",
       "  </tbody>\n",
       "</table>\n",
       "</div>"
      ],
      "text/plain": [
       "         category                                              words  \\\n",
       "0   Environmental  [nature, ecology, conversation, green, environ...   \n",
       "1  Infrastructure  [installation, street, transportation, develop...   \n",
       "2       Education  [teaching, curriculum, school, education, lear...   \n",
       "3          Zoning  [housing, land, zoning, planning, regulations,...   \n",
       "4          Safety  [fire, emergency, health, security, safety, pr...   \n",
       "\n",
       "   number_of_keywords  \n",
       "0                   6  \n",
       "1                  11  \n",
       "2                   6  \n",
       "3                   8  \n",
       "4                   6  "
      ]
     },
     "execution_count": 23,
     "metadata": {},
     "output_type": "execute_result"
    }
   ],
   "source": [
    "words = [['nature', 'ecology', 'conversation', 'green', 'environment', 'suistainability'],\n",
    "         ['installation', 'street', 'transportation', 'development', 'utility', 'street', 'infrastructure', 'construction', 'development', 'bridges', 'roads'],\n",
    "         ['teaching', 'curriculum', 'school', 'education', 'learning', 'students'],\n",
    "         ['housing', 'land', 'zoning', 'planning', 'regulations', 'permit', 'development', 'parking'],\n",
    "         ['fire', 'emergency', 'health', 'security', 'safety', 'protection']]\n",
    "category = [\"Environmental\",\"Infrastructure\",\"Education\",\"Zoning\",\"Safety\"]\n",
    "\n",
    "d = {'category': category,'words': words}\n",
    "keyword = pd.DataFrame(data=d)\n",
    "keyword['words'] = keyword['words']\n",
    "keyword['number_of_keywords'] = keyword['words'].apply(lambda row: len(row))\n",
    "\n",
    "keyword.head()"
   ]
  },
  {
   "cell_type": "code",
   "execution_count": 24,
   "id": "8819ed7d",
   "metadata": {
    "scrolled": true
   },
   "outputs": [
    {
     "data": {
      "text/html": [
       "<div>\n",
       "<style scoped>\n",
       "    .dataframe tbody tr th:only-of-type {\n",
       "        vertical-align: middle;\n",
       "    }\n",
       "\n",
       "    .dataframe tbody tr th {\n",
       "        vertical-align: top;\n",
       "    }\n",
       "\n",
       "    .dataframe thead th {\n",
       "        text-align: right;\n",
       "    }\n",
       "</style>\n",
       "<table border=\"1\" class=\"dataframe\">\n",
       "  <thead>\n",
       "    <tr style=\"text-align: right;\">\n",
       "      <th></th>\n",
       "      <th>category</th>\n",
       "      <th>count</th>\n",
       "      <th>category_count_letters</th>\n",
       "    </tr>\n",
       "  </thead>\n",
       "  <tbody>\n",
       "    <tr>\n",
       "      <th>0</th>\n",
       "      <td>Education</td>\n",
       "      <td>102</td>\n",
       "      <td>9</td>\n",
       "    </tr>\n",
       "    <tr>\n",
       "      <th>1</th>\n",
       "      <td>Safety</td>\n",
       "      <td>75</td>\n",
       "      <td>6</td>\n",
       "    </tr>\n",
       "    <tr>\n",
       "      <th>2</th>\n",
       "      <td>Environmental</td>\n",
       "      <td>60</td>\n",
       "      <td>13</td>\n",
       "    </tr>\n",
       "    <tr>\n",
       "      <th>3</th>\n",
       "      <td>Infrastructure</td>\n",
       "      <td>57</td>\n",
       "      <td>14</td>\n",
       "    </tr>\n",
       "    <tr>\n",
       "      <th>4</th>\n",
       "      <td>Zoning</td>\n",
       "      <td>52</td>\n",
       "      <td>6</td>\n",
       "    </tr>\n",
       "  </tbody>\n",
       "</table>\n",
       "</div>"
      ],
      "text/plain": [
       "         category  count  category_count_letters\n",
       "0       Education    102                       9\n",
       "1          Safety     75                       6\n",
       "2   Environmental     60                      13\n",
       "3  Infrastructure     57                      14\n",
       "4          Zoning     52                       6"
      ]
     },
     "execution_count": 24,
     "metadata": {},
     "output_type": "execute_result"
    }
   ],
   "source": [
    "tf = pd.DataFrame(df[\"category\"].value_counts()).reset_index()\n",
    "tf['category_count_letters'] = tf['category'].str.len()\n",
    "tf"
   ]
  },
  {
   "cell_type": "code",
   "execution_count": 25,
   "id": "21cec2de",
   "metadata": {},
   "outputs": [
    {
     "data": {
      "text/html": [
       "<div>\n",
       "<style scoped>\n",
       "    .dataframe tbody tr th:only-of-type {\n",
       "        vertical-align: middle;\n",
       "    }\n",
       "\n",
       "    .dataframe tbody tr th {\n",
       "        vertical-align: top;\n",
       "    }\n",
       "\n",
       "    .dataframe thead th {\n",
       "        text-align: right;\n",
       "    }\n",
       "</style>\n",
       "<table border=\"1\" class=\"dataframe\">\n",
       "  <thead>\n",
       "    <tr style=\"text-align: right;\">\n",
       "      <th></th>\n",
       "      <th>category</th>\n",
       "      <th>count</th>\n",
       "      <th>category_count_letters</th>\n",
       "    </tr>\n",
       "  </thead>\n",
       "  <tbody>\n",
       "    <tr>\n",
       "      <th>0</th>\n",
       "      <td>Environmental</td>\n",
       "      <td>1</td>\n",
       "      <td>13</td>\n",
       "    </tr>\n",
       "    <tr>\n",
       "      <th>1</th>\n",
       "      <td>Infrastructure</td>\n",
       "      <td>1</td>\n",
       "      <td>14</td>\n",
       "    </tr>\n",
       "    <tr>\n",
       "      <th>2</th>\n",
       "      <td>Education</td>\n",
       "      <td>1</td>\n",
       "      <td>9</td>\n",
       "    </tr>\n",
       "    <tr>\n",
       "      <th>3</th>\n",
       "      <td>Zoning</td>\n",
       "      <td>1</td>\n",
       "      <td>6</td>\n",
       "    </tr>\n",
       "    <tr>\n",
       "      <th>4</th>\n",
       "      <td>Safety</td>\n",
       "      <td>1</td>\n",
       "      <td>6</td>\n",
       "    </tr>\n",
       "  </tbody>\n",
       "</table>\n",
       "</div>"
      ],
      "text/plain": [
       "         category  count  category_count_letters\n",
       "0   Environmental      1                      13\n",
       "1  Infrastructure      1                      14\n",
       "2       Education      1                       9\n",
       "3          Zoning      1                       6\n",
       "4          Safety      1                       6"
      ]
     },
     "execution_count": 25,
     "metadata": {},
     "output_type": "execute_result"
    }
   ],
   "source": [
    "rf = pd.DataFrame(keyword[\"category\"].value_counts()).reset_index()\n",
    "rf['category_count_letters'] = rf['category'].str.len()\n",
    "rf"
   ]
  },
  {
   "cell_type": "code",
   "execution_count": 26,
   "id": "1f7364b8",
   "metadata": {},
   "outputs": [
    {
     "data": {
      "text/html": [
       "<div>\n",
       "<style scoped>\n",
       "    .dataframe tbody tr th:only-of-type {\n",
       "        vertical-align: middle;\n",
       "    }\n",
       "\n",
       "    .dataframe tbody tr th {\n",
       "        vertical-align: top;\n",
       "    }\n",
       "\n",
       "    .dataframe thead th {\n",
       "        text-align: right;\n",
       "    }\n",
       "</style>\n",
       "<table border=\"1\" class=\"dataframe\">\n",
       "  <thead>\n",
       "    <tr style=\"text-align: right;\">\n",
       "      <th></th>\n",
       "      <th>category</th>\n",
       "      <th>words</th>\n",
       "      <th>number_of_keywords</th>\n",
       "    </tr>\n",
       "  </thead>\n",
       "  <tbody>\n",
       "    <tr>\n",
       "      <th>0</th>\n",
       "      <td>Environmental</td>\n",
       "      <td>[nature, ecology, conversation, green, environ...</td>\n",
       "      <td>6</td>\n",
       "    </tr>\n",
       "    <tr>\n",
       "      <th>1</th>\n",
       "      <td>Infrastructure</td>\n",
       "      <td>[installation, street, transportation, develop...</td>\n",
       "      <td>11</td>\n",
       "    </tr>\n",
       "    <tr>\n",
       "      <th>2</th>\n",
       "      <td>Education</td>\n",
       "      <td>[teaching, curriculum, school, education, lear...</td>\n",
       "      <td>6</td>\n",
       "    </tr>\n",
       "    <tr>\n",
       "      <th>3</th>\n",
       "      <td>Zoning</td>\n",
       "      <td>[housing, land, zoning, planning, regulations,...</td>\n",
       "      <td>8</td>\n",
       "    </tr>\n",
       "    <tr>\n",
       "      <th>4</th>\n",
       "      <td>Safety</td>\n",
       "      <td>[fire, emergency, health, security, safety, pr...</td>\n",
       "      <td>6</td>\n",
       "    </tr>\n",
       "  </tbody>\n",
       "</table>\n",
       "</div>"
      ],
      "text/plain": [
       "         category                                              words  \\\n",
       "0   Environmental  [nature, ecology, conversation, green, environ...   \n",
       "1  Infrastructure  [installation, street, transportation, develop...   \n",
       "2       Education  [teaching, curriculum, school, education, lear...   \n",
       "3          Zoning  [housing, land, zoning, planning, regulations,...   \n",
       "4          Safety  [fire, emergency, health, security, safety, pr...   \n",
       "\n",
       "   number_of_keywords  \n",
       "0                   6  \n",
       "1                  11  \n",
       "2                   6  \n",
       "3                   8  \n",
       "4                   6  "
      ]
     },
     "execution_count": 26,
     "metadata": {},
     "output_type": "execute_result"
    }
   ],
   "source": [
    "keyword"
   ]
  },
  {
   "cell_type": "code",
   "execution_count": 27,
   "id": "f706e475",
   "metadata": {
    "scrolled": false
   },
   "outputs": [
    {
     "data": {
      "text/plain": [
       "category\n",
       "Environmental     1\n",
       "Infrastructure    1\n",
       "Education         1\n",
       "Zoning            1\n",
       "Safety            1\n",
       "Name: count, dtype: int64"
      ]
     },
     "execution_count": 27,
     "metadata": {},
     "output_type": "execute_result"
    }
   ],
   "source": [
    "keyword[\"category\"].value_counts()"
   ]
  },
  {
   "cell_type": "code",
   "execution_count": 28,
   "id": "fd2cd86f",
   "metadata": {},
   "outputs": [
    {
     "data": {
      "text/plain": [
       "' \\norder 1 2-21/22 \\npassage: 9 -0 on 7/19/2021      effective 7/29/2021 \\n \\nkate snyder (mayor)  \\nbelinda s. ray (1)  \\nspencer r. thibodeau (2)  \\ntae y. chong (3)  \\nandrew zarro (4)  city of portland  \\nin the city council  mark dion (5)  \\napril d. fournier(a/l)  \\npious ali (a/l)  \\nnicholas m. mavodones, jr (a/l)  \\n \\n \\n \\norder amending order 257 -20/21  \\nfiscal year 2021- 2022 appropriation resolve \\n \\n \\nresolved,  that the sum of $268,216,301 is hereby a ppropriated for fiscal year 202 2 \\nfor general municipal purposes; and  \\n \\nbe it further resolved,  that the sum of $125,154,700 $126,454,700 is hereby \\nappropriated for fiscal year 2022 for school purposes; and  \\n \\nbe it further resolved,  that the assessor of taxes of the city of portland be  \\nand hereby is directed to assess a tax upon all real estate liable to be taxed \\ntherein and to assess the owner of, or such other pe rsons as may be liable \\nby law for, personal property liable to be taxed therein on the first day of april, 2021 and not exempt from taxation, to the aggregate amount of $91,014,931 for municipal purposes and $100,582,406 $99,083,251 for \\nschool purposes for  a total tax levy of $191,597,337 190,098,182 for \\nfiscal year 2022, in accordance with the provisions of the statutes of maine; and  \\n \\nbe it further resolved, all taxes assessed as above and committed to the \\ndirector of finance shall be due 30 days after the  city’s tax \\ncommitment 2021, and payable in two equal installments, the first due 30 days after the city’s tax commitment 2021, and the second installment due on the 18th day of march, 2022.  the delinquency rate of interest shall be six percent (6%) per annum on all payments received after the respective due dates and the abatement rate of interest shall be two percent (2%) per annum.  '"
      ]
     },
     "execution_count": 28,
     "metadata": {},
     "output_type": "execute_result"
    }
   ],
   "source": [
    "df[\"Description\"][1]"
   ]
  },
  {
   "cell_type": "code",
   "execution_count": null,
   "id": "dfedbc8c",
   "metadata": {},
   "outputs": [],
   "source": []
  },
  {
   "cell_type": "code",
   "execution_count": null,
   "id": "a56f2d7c",
   "metadata": {},
   "outputs": [],
   "source": []
  },
  {
   "cell_type": "code",
   "execution_count": null,
   "id": "556f6f70",
   "metadata": {},
   "outputs": [],
   "source": []
  },
  {
   "cell_type": "code",
   "execution_count": null,
   "id": "7f4fea27",
   "metadata": {
    "scrolled": true
   },
   "outputs": [],
   "source": []
  },
  {
   "cell_type": "code",
   "execution_count": 29,
   "id": "28e2ebbb",
   "metadata": {},
   "outputs": [],
   "source": [
    "# doc: document text string\n",
    "# returns tokenized document\n",
    "# strip_tags removes meta tags from the text\n",
    "# simple preprocess converts a document into a list of lowercase tokens, ignoring tokens that are too short or too long \n",
    "# simple preprocess also removes numerical values as well as punktuation characters\n",
    "def tokenize(doc):\n",
    "    return simple_preprocess(strip_tags(doc), deacc=True, min_len=2, max_len=15)"
   ]
  },
  {
   "cell_type": "code",
   "execution_count": 30,
   "id": "7d8c7011",
   "metadata": {},
   "outputs": [],
   "source": [
    "# tokenize and tag documents combined title + description for Lbl2Vec training\n",
    "df[\"Description_tok\"] = df.apply(lambda row: TaggedDocument(tokenize(row['Description']), [str(row.name)]), axis=1)\n"
   ]
  },
  {
   "cell_type": "code",
   "execution_count": 32,
   "id": "d394cb22",
   "metadata": {
    "scrolled": true
   },
   "outputs": [],
   "source": [
    "#df['Description_tok'][10]"
   ]
  },
  {
   "cell_type": "code",
   "execution_count": 33,
   "id": "fd259e71",
   "metadata": {
    "scrolled": true
   },
   "outputs": [
    {
     "data": {
      "text/html": [
       "<div>\n",
       "<style scoped>\n",
       "    .dataframe tbody tr th:only-of-type {\n",
       "        vertical-align: middle;\n",
       "    }\n",
       "\n",
       "    .dataframe tbody tr th {\n",
       "        vertical-align: top;\n",
       "    }\n",
       "\n",
       "    .dataframe thead th {\n",
       "        text-align: right;\n",
       "    }\n",
       "</style>\n",
       "<table border=\"1\" class=\"dataframe\">\n",
       "  <thead>\n",
       "    <tr style=\"text-align: right;\">\n",
       "      <th></th>\n",
       "      <th>link</th>\n",
       "      <th>category</th>\n",
       "      <th>Description</th>\n",
       "      <th>Description_tok</th>\n",
       "    </tr>\n",
       "  </thead>\n",
       "  <tbody>\n",
       "    <tr>\n",
       "      <th>341</th>\n",
       "      <td>https://content.civicplus.com/api/assets/89003...</td>\n",
       "      <td>Safety</td>\n",
       "      <td>order 2 55-22/23 \\npassage as an emergency : 7...</td>\n",
       "      <td>([order, passage, as, an, emergency, dion, fou...</td>\n",
       "    </tr>\n",
       "    <tr>\n",
       "      <th>342</th>\n",
       "      <td>https://content.civicplus.com/api/assets/a147d...</td>\n",
       "      <td>Education</td>\n",
       "      <td>order 260 -22/23 \\nmotion to amend to set  eff...</td>\n",
       "      <td>([order, motion, to, amend, to, set, effective...</td>\n",
       "    </tr>\n",
       "    <tr>\n",
       "      <th>343</th>\n",
       "      <td>https://content.civicplus.com/api/assets/a258d...</td>\n",
       "      <td>Education</td>\n",
       "      <td>orders \\appointments \\police chief sauschuck  ...</td>\n",
       "      <td>([orders, appointments, police, chief, sauschu...</td>\n",
       "    </tr>\n",
       "    <tr>\n",
       "      <th>344</th>\n",
       "      <td>https://content.civicplus.com/api/assets/19ab9...</td>\n",
       "      <td>Education</td>\n",
       "      <td>order 263- 22/23 \\npassage as an emergency : 7...</td>\n",
       "      <td>([order, passage, as, an, emergency, dion, fou...</td>\n",
       "    </tr>\n",
       "    <tr>\n",
       "      <th>345</th>\n",
       "      <td>https://content.civicplus.com/api/assets/175b1...</td>\n",
       "      <td>Environmental</td>\n",
       "      <td>order 173- 22/23 \\npassage: 9 -0 on 4/24/2023 ...</td>\n",
       "      <td>([order, passage, on, effective, kate, snyder,...</td>\n",
       "    </tr>\n",
       "  </tbody>\n",
       "</table>\n",
       "</div>"
      ],
      "text/plain": [
       "                                                  link       category  \\\n",
       "341  https://content.civicplus.com/api/assets/89003...         Safety   \n",
       "342  https://content.civicplus.com/api/assets/a147d...      Education   \n",
       "343  https://content.civicplus.com/api/assets/a258d...      Education   \n",
       "344  https://content.civicplus.com/api/assets/19ab9...      Education   \n",
       "345  https://content.civicplus.com/api/assets/175b1...  Environmental   \n",
       "\n",
       "                                           Description  \\\n",
       "341  order 2 55-22/23 \\npassage as an emergency : 7...   \n",
       "342  order 260 -22/23 \\nmotion to amend to set  eff...   \n",
       "343  orders \\appointments \\police chief sauschuck  ...   \n",
       "344  order 263- 22/23 \\npassage as an emergency : 7...   \n",
       "345  order 173- 22/23 \\npassage: 9 -0 on 4/24/2023 ...   \n",
       "\n",
       "                                       Description_tok  \n",
       "341  ([order, passage, as, an, emergency, dion, fou...  \n",
       "342  ([order, motion, to, amend, to, set, effective...  \n",
       "343  ([orders, appointments, police, chief, sauschu...  \n",
       "344  ([order, passage, as, an, emergency, dion, fou...  \n",
       "345  ([order, passage, on, effective, kate, snyder,...  "
      ]
     },
     "execution_count": 33,
     "metadata": {},
     "output_type": "execute_result"
    }
   ],
   "source": [
    "df.tail()"
   ]
  },
  {
   "cell_type": "code",
   "execution_count": 34,
   "id": "5668f145",
   "metadata": {},
   "outputs": [
    {
     "data": {
      "text/html": [
       "<div>\n",
       "<style scoped>\n",
       "    .dataframe tbody tr th:only-of-type {\n",
       "        vertical-align: middle;\n",
       "    }\n",
       "\n",
       "    .dataframe tbody tr th {\n",
       "        vertical-align: top;\n",
       "    }\n",
       "\n",
       "    .dataframe thead th {\n",
       "        text-align: right;\n",
       "    }\n",
       "</style>\n",
       "<table border=\"1\" class=\"dataframe\">\n",
       "  <thead>\n",
       "    <tr style=\"text-align: right;\">\n",
       "      <th></th>\n",
       "      <th>link</th>\n",
       "      <th>category</th>\n",
       "      <th>Description</th>\n",
       "      <th>Description_tok</th>\n",
       "      <th>doc_key</th>\n",
       "    </tr>\n",
       "  </thead>\n",
       "  <tbody>\n",
       "    <tr>\n",
       "      <th>0</th>\n",
       "      <td>https://content.civicplus.com/api/assets/bcff9...</td>\n",
       "      <td>Safety</td>\n",
       "      <td>order 1 1-21/22  \\npassage: 9 -0 on 7/19/2021 ...</td>\n",
       "      <td>([order, passage, on, effective, kate, snyder,...</td>\n",
       "      <td>0</td>\n",
       "    </tr>\n",
       "    <tr>\n",
       "      <th>1</th>\n",
       "      <td>https://content.civicplus.com/api/assets/f8a03...</td>\n",
       "      <td>Zoning</td>\n",
       "      <td>\\norder 1 2-21/22 \\npassage: 9 -0 on 7/19/202...</td>\n",
       "      <td>([order, passage, on, effective, kate, snyder,...</td>\n",
       "      <td>1</td>\n",
       "    </tr>\n",
       "    <tr>\n",
       "      <th>2</th>\n",
       "      <td>https://content.civicplus.com/api/assets/cc288...</td>\n",
       "      <td>Safety</td>\n",
       "      <td>\\n \\n13432743.1   \\norder 1 3-21/22 \\npassage...</td>\n",
       "      <td>([order, passage, on, effective, kate, snyder,...</td>\n",
       "      <td>2</td>\n",
       "    </tr>\n",
       "    <tr>\n",
       "      <th>3</th>\n",
       "      <td>https://content.civicplus.com/api/assets/0ea69...</td>\n",
       "      <td>Zoning</td>\n",
       "      <td>\\n1 order 14-21/22 \\npassage:  9-0 on 7/19/20...</td>\n",
       "      <td>([order, passage, on, effective, kate, snyder,...</td>\n",
       "      <td>3</td>\n",
       "    </tr>\n",
       "    <tr>\n",
       "      <th>4</th>\n",
       "      <td>https://content.civicplus.com/api/assets/8ec46...</td>\n",
       "      <td>Education</td>\n",
       "      <td>order 15 -21/22 \\nmotion to amend with amendme...</td>\n",
       "      <td>([order, motion, to, amend, with, amendment, i...</td>\n",
       "      <td>4</td>\n",
       "    </tr>\n",
       "  </tbody>\n",
       "</table>\n",
       "</div>"
      ],
      "text/plain": [
       "                                                link   category  \\\n",
       "0  https://content.civicplus.com/api/assets/bcff9...     Safety   \n",
       "1  https://content.civicplus.com/api/assets/f8a03...     Zoning   \n",
       "2  https://content.civicplus.com/api/assets/cc288...     Safety   \n",
       "3  https://content.civicplus.com/api/assets/0ea69...     Zoning   \n",
       "4  https://content.civicplus.com/api/assets/8ec46...  Education   \n",
       "\n",
       "                                         Description  \\\n",
       "0  order 1 1-21/22  \\npassage: 9 -0 on 7/19/2021 ...   \n",
       "1   \\norder 1 2-21/22 \\npassage: 9 -0 on 7/19/202...   \n",
       "2   \\n \\n13432743.1   \\norder 1 3-21/22 \\npassage...   \n",
       "3   \\n1 order 14-21/22 \\npassage:  9-0 on 7/19/20...   \n",
       "4  order 15 -21/22 \\nmotion to amend with amendme...   \n",
       "\n",
       "                                     Description_tok doc_key  \n",
       "0  ([order, passage, on, effective, kate, snyder,...       0  \n",
       "1  ([order, passage, on, effective, kate, snyder,...       1  \n",
       "2  ([order, passage, on, effective, kate, snyder,...       2  \n",
       "3  ([order, passage, on, effective, kate, snyder,...       3  \n",
       "4  ([order, motion, to, amend, with, amendment, i...       4  "
      ]
     },
     "execution_count": 34,
     "metadata": {},
     "output_type": "execute_result"
    }
   ],
   "source": [
    "df.reset_index(drop=True,inplace=True)\n",
    "df['doc_key'] = df.index.astype(str)\n",
    "df.head()"
   ]
  },
  {
   "cell_type": "code",
   "execution_count": 35,
   "id": "ba973fa2",
   "metadata": {},
   "outputs": [],
   "source": [
    "df_train = df[:250]\n",
    "df_train['data_set_type'] = 'train'\n",
    "df_test = df[251:]\n",
    "df_test['data_set_type'] = 'test'"
   ]
  },
  {
   "cell_type": "code",
   "execution_count": 36,
   "id": "4f3d5b62",
   "metadata": {
    "scrolled": false
   },
   "outputs": [
    {
     "name": "stdout",
     "output_type": "stream",
     "text": [
      "train data shape (250, 6)\n",
      "test data shape (95, 6)\n"
     ]
    },
    {
     "data": {
      "text/html": [
       "<div>\n",
       "<style scoped>\n",
       "    .dataframe tbody tr th:only-of-type {\n",
       "        vertical-align: middle;\n",
       "    }\n",
       "\n",
       "    .dataframe tbody tr th {\n",
       "        vertical-align: top;\n",
       "    }\n",
       "\n",
       "    .dataframe thead th {\n",
       "        text-align: right;\n",
       "    }\n",
       "</style>\n",
       "<table border=\"1\" class=\"dataframe\">\n",
       "  <thead>\n",
       "    <tr style=\"text-align: right;\">\n",
       "      <th></th>\n",
       "      <th>link</th>\n",
       "      <th>category</th>\n",
       "      <th>Description</th>\n",
       "      <th>Description_tok</th>\n",
       "      <th>doc_key</th>\n",
       "      <th>data_set_type</th>\n",
       "    </tr>\n",
       "  </thead>\n",
       "  <tbody>\n",
       "    <tr>\n",
       "      <th>0</th>\n",
       "      <td>https://content.civicplus.com/api/assets/bcff9...</td>\n",
       "      <td>Safety</td>\n",
       "      <td>order 1 1-21/22  \\npassage: 9 -0 on 7/19/2021 ...</td>\n",
       "      <td>([order, passage, on, effective, kate, snyder,...</td>\n",
       "      <td>0</td>\n",
       "      <td>train</td>\n",
       "    </tr>\n",
       "    <tr>\n",
       "      <th>1</th>\n",
       "      <td>https://content.civicplus.com/api/assets/f8a03...</td>\n",
       "      <td>Zoning</td>\n",
       "      <td>\\norder 1 2-21/22 \\npassage: 9 -0 on 7/19/202...</td>\n",
       "      <td>([order, passage, on, effective, kate, snyder,...</td>\n",
       "      <td>1</td>\n",
       "      <td>train</td>\n",
       "    </tr>\n",
       "    <tr>\n",
       "      <th>2</th>\n",
       "      <td>https://content.civicplus.com/api/assets/cc288...</td>\n",
       "      <td>Safety</td>\n",
       "      <td>\\n \\n13432743.1   \\norder 1 3-21/22 \\npassage...</td>\n",
       "      <td>([order, passage, on, effective, kate, snyder,...</td>\n",
       "      <td>2</td>\n",
       "      <td>train</td>\n",
       "    </tr>\n",
       "    <tr>\n",
       "      <th>3</th>\n",
       "      <td>https://content.civicplus.com/api/assets/0ea69...</td>\n",
       "      <td>Zoning</td>\n",
       "      <td>\\n1 order 14-21/22 \\npassage:  9-0 on 7/19/20...</td>\n",
       "      <td>([order, passage, on, effective, kate, snyder,...</td>\n",
       "      <td>3</td>\n",
       "      <td>train</td>\n",
       "    </tr>\n",
       "    <tr>\n",
       "      <th>4</th>\n",
       "      <td>https://content.civicplus.com/api/assets/8ec46...</td>\n",
       "      <td>Education</td>\n",
       "      <td>order 15 -21/22 \\nmotion to amend with amendme...</td>\n",
       "      <td>([order, motion, to, amend, with, amendment, i...</td>\n",
       "      <td>4</td>\n",
       "      <td>train</td>\n",
       "    </tr>\n",
       "  </tbody>\n",
       "</table>\n",
       "</div>"
      ],
      "text/plain": [
       "                                                link   category  \\\n",
       "0  https://content.civicplus.com/api/assets/bcff9...     Safety   \n",
       "1  https://content.civicplus.com/api/assets/f8a03...     Zoning   \n",
       "2  https://content.civicplus.com/api/assets/cc288...     Safety   \n",
       "3  https://content.civicplus.com/api/assets/0ea69...     Zoning   \n",
       "4  https://content.civicplus.com/api/assets/8ec46...  Education   \n",
       "\n",
       "                                         Description  \\\n",
       "0  order 1 1-21/22  \\npassage: 9 -0 on 7/19/2021 ...   \n",
       "1   \\norder 1 2-21/22 \\npassage: 9 -0 on 7/19/202...   \n",
       "2   \\n \\n13432743.1   \\norder 1 3-21/22 \\npassage...   \n",
       "3   \\n1 order 14-21/22 \\npassage:  9-0 on 7/19/20...   \n",
       "4  order 15 -21/22 \\nmotion to amend with amendme...   \n",
       "\n",
       "                                     Description_tok doc_key data_set_type  \n",
       "0  ([order, passage, on, effective, kate, snyder,...       0         train  \n",
       "1  ([order, passage, on, effective, kate, snyder,...       1         train  \n",
       "2  ([order, passage, on, effective, kate, snyder,...       2         train  \n",
       "3  ([order, passage, on, effective, kate, snyder,...       3         train  \n",
       "4  ([order, motion, to, amend, with, amendment, i...       4         train  "
      ]
     },
     "execution_count": 36,
     "metadata": {},
     "output_type": "execute_result"
    }
   ],
   "source": [
    "print(\"train data shape\",df_train.shape)\n",
    "print(\"test data shape\",df_test.shape)\n",
    "\n",
    "\n",
    "# concat train and test data\n",
    "ag_full_corpus = pd.concat([df_train,df_test]).reset_index(drop=True)\n",
    "\n",
    "ag_full_corpus.head()"
   ]
  },
  {
   "cell_type": "code",
   "execution_count": 37,
   "id": "d388474b",
   "metadata": {
    "scrolled": false
   },
   "outputs": [
    {
     "data": {
      "text/plain": [
       "link               object\n",
       "category           object\n",
       "Description        object\n",
       "Description_tok    object\n",
       "doc_key            object\n",
       "data_set_type      object\n",
       "dtype: object"
      ]
     },
     "execution_count": 37,
     "metadata": {},
     "output_type": "execute_result"
    }
   ],
   "source": [
    "ag_full_corpus.dtypes"
   ]
  },
  {
   "cell_type": "code",
   "execution_count": 38,
   "id": "33bdc626",
   "metadata": {},
   "outputs": [],
   "source": [
    "# init model with parameters\n",
    "#lbl2vec_model = Lbl2Vec(keywords_list=list(labels['keywords']), \n",
    "#                        tagged_documents=ag_full_corpus['tagged_docs'][ag_full_corpus['data_set_type']=='train'],\n",
    "#                        label_names=list(labels['class_name']), similarity_threshold=0.30, min_num_docs=100, epochs=10)\n",
    "#"
   ]
  },
  {
   "cell_type": "code",
   "execution_count": 39,
   "id": "89a2cf44",
   "metadata": {
    "scrolled": false
   },
   "outputs": [
    {
     "data": {
      "text/html": [
       "<div>\n",
       "<style scoped>\n",
       "    .dataframe tbody tr th:only-of-type {\n",
       "        vertical-align: middle;\n",
       "    }\n",
       "\n",
       "    .dataframe tbody tr th {\n",
       "        vertical-align: top;\n",
       "    }\n",
       "\n",
       "    .dataframe thead th {\n",
       "        text-align: right;\n",
       "    }\n",
       "</style>\n",
       "<table border=\"1\" class=\"dataframe\">\n",
       "  <thead>\n",
       "    <tr style=\"text-align: right;\">\n",
       "      <th></th>\n",
       "      <th>category</th>\n",
       "      <th>words</th>\n",
       "      <th>number_of_keywords</th>\n",
       "    </tr>\n",
       "  </thead>\n",
       "  <tbody>\n",
       "    <tr>\n",
       "      <th>0</th>\n",
       "      <td>Environmental</td>\n",
       "      <td>[nature, ecology, conversation, green, environ...</td>\n",
       "      <td>6</td>\n",
       "    </tr>\n",
       "    <tr>\n",
       "      <th>1</th>\n",
       "      <td>Infrastructure</td>\n",
       "      <td>[installation, street, transportation, develop...</td>\n",
       "      <td>11</td>\n",
       "    </tr>\n",
       "    <tr>\n",
       "      <th>2</th>\n",
       "      <td>Education</td>\n",
       "      <td>[teaching, curriculum, school, education, lear...</td>\n",
       "      <td>6</td>\n",
       "    </tr>\n",
       "    <tr>\n",
       "      <th>3</th>\n",
       "      <td>Zoning</td>\n",
       "      <td>[housing, land, zoning, planning, regulations,...</td>\n",
       "      <td>8</td>\n",
       "    </tr>\n",
       "    <tr>\n",
       "      <th>4</th>\n",
       "      <td>Safety</td>\n",
       "      <td>[fire, emergency, health, security, safety, pr...</td>\n",
       "      <td>6</td>\n",
       "    </tr>\n",
       "  </tbody>\n",
       "</table>\n",
       "</div>"
      ],
      "text/plain": [
       "         category                                              words  \\\n",
       "0   Environmental  [nature, ecology, conversation, green, environ...   \n",
       "1  Infrastructure  [installation, street, transportation, develop...   \n",
       "2       Education  [teaching, curriculum, school, education, lear...   \n",
       "3          Zoning  [housing, land, zoning, planning, regulations,...   \n",
       "4          Safety  [fire, emergency, health, security, safety, pr...   \n",
       "\n",
       "   number_of_keywords  \n",
       "0                   6  \n",
       "1                  11  \n",
       "2                   6  \n",
       "3                   8  \n",
       "4                   6  "
      ]
     },
     "execution_count": 39,
     "metadata": {},
     "output_type": "execute_result"
    }
   ],
   "source": [
    "keyword.head()"
   ]
  },
  {
   "cell_type": "code",
   "execution_count": null,
   "id": "3cf32cf0",
   "metadata": {},
   "outputs": [],
   "source": []
  },
  {
   "cell_type": "markdown",
   "id": "77a16bfb",
   "metadata": {},
   "source": [
    "# LABEL 2 VECTOR"
   ]
  },
  {
   "cell_type": "code",
   "execution_count": 40,
   "id": "d2f44246",
   "metadata": {},
   "outputs": [],
   "source": [
    "# init model with parameters\n",
    "lbl2vec_model = Lbl2Vec(keywords_list=list(keyword['words']),\n",
    "                        tagged_documents=ag_full_corpus['Description_tok'][ag_full_corpus['data_set_type']=='train'],\n",
    "                        label_names=list(keyword['category']),min_count = 2,similarity_threshold=0.20, min_num_docs=32, epochs=10)\n"
   ]
  },
  {
   "cell_type": "code",
   "execution_count": 41,
   "id": "7cb90a5a",
   "metadata": {
    "scrolled": true
   },
   "outputs": [
    {
     "name": "stderr",
     "output_type": "stream",
     "text": [
      "2023-12-14 03:47:43,658 - Lbl2Vec - INFO - Train document and word embeddings\n",
      "2023-12-14 03:48:59,661 - Lbl2Vec - INFO - Train label embeddings\n",
      "2023-12-14 03:48:59,661 - Lbl2Vec - WARNING - The following keywords from the 'keywords_list' are unknown to the Doc2Vec model and therefore not used to train the model: ecology suistainability\n",
      "2023-12-14 03:48:59,735 - Lbl2Vec - WARNING - The following keywords from the 'keywords_list' are unknown to the Doc2Vec model and therefore not used to train the model: curriculum\n"
     ]
    }
   ],
   "source": [
    "lbl2vec_model.fit()"
   ]
  },
  {
   "cell_type": "markdown",
   "id": "07d6ba55",
   "metadata": {},
   "source": [
    "### Predict topics of documents used to train Lbl2Vec\n",
    "\n",
    "\n",
    "Compute similarity scores of learned document vectors from documents that were used to train the model to each of the learned label vectors. The similarity scores consist of cosine similarities and therefore have a value range of [-1,1]."
   ]
  },
  {
   "cell_type": "code",
   "execution_count": 43,
   "id": "66a8dbb1",
   "metadata": {
    "scrolled": true
   },
   "outputs": [
    {
     "name": "stderr",
     "output_type": "stream",
     "text": [
      "2023-12-14 03:51:26,843 - Lbl2Vec - INFO - Get document embeddings from model\n",
      "2023-12-14 03:51:26,850 - Lbl2Vec - INFO - Calculate document<->label similarities\n"
     ]
    }
   ],
   "source": [
    "# predict similarity scores\n",
    "model_docs_lbl_similarities = lbl2vec_model.predict_model_docs()"
   ]
  },
  {
   "cell_type": "code",
   "execution_count": 44,
   "id": "563644ac",
   "metadata": {},
   "outputs": [
    {
     "data": {
      "text/html": [
       "<div>\n",
       "<style scoped>\n",
       "    .dataframe tbody tr th:only-of-type {\n",
       "        vertical-align: middle;\n",
       "    }\n",
       "\n",
       "    .dataframe tbody tr th {\n",
       "        vertical-align: top;\n",
       "    }\n",
       "\n",
       "    .dataframe thead th {\n",
       "        text-align: right;\n",
       "    }\n",
       "</style>\n",
       "<table border=\"1\" class=\"dataframe\">\n",
       "  <thead>\n",
       "    <tr style=\"text-align: right;\">\n",
       "      <th></th>\n",
       "      <th>doc_key</th>\n",
       "      <th>most_similar_label</th>\n",
       "      <th>highest_similarity_score</th>\n",
       "      <th>Environmental</th>\n",
       "      <th>Infrastructure</th>\n",
       "      <th>Education</th>\n",
       "      <th>Zoning</th>\n",
       "      <th>Safety</th>\n",
       "    </tr>\n",
       "  </thead>\n",
       "  <tbody>\n",
       "    <tr>\n",
       "      <th>0</th>\n",
       "      <td>0</td>\n",
       "      <td>Safety</td>\n",
       "      <td>0.774035</td>\n",
       "      <td>0.742092</td>\n",
       "      <td>0.728910</td>\n",
       "      <td>0.765886</td>\n",
       "      <td>0.741531</td>\n",
       "      <td>0.774035</td>\n",
       "    </tr>\n",
       "    <tr>\n",
       "      <th>1</th>\n",
       "      <td>1</td>\n",
       "      <td>Environmental</td>\n",
       "      <td>0.564886</td>\n",
       "      <td>0.564886</td>\n",
       "      <td>0.503945</td>\n",
       "      <td>0.515262</td>\n",
       "      <td>0.537485</td>\n",
       "      <td>0.505996</td>\n",
       "    </tr>\n",
       "    <tr>\n",
       "      <th>2</th>\n",
       "      <td>2</td>\n",
       "      <td>Environmental</td>\n",
       "      <td>0.692392</td>\n",
       "      <td>0.692392</td>\n",
       "      <td>0.649376</td>\n",
       "      <td>0.674425</td>\n",
       "      <td>0.653328</td>\n",
       "      <td>0.688099</td>\n",
       "    </tr>\n",
       "    <tr>\n",
       "      <th>3</th>\n",
       "      <td>3</td>\n",
       "      <td>Infrastructure</td>\n",
       "      <td>0.626605</td>\n",
       "      <td>0.543646</td>\n",
       "      <td>0.626605</td>\n",
       "      <td>0.617145</td>\n",
       "      <td>0.625556</td>\n",
       "      <td>0.599429</td>\n",
       "    </tr>\n",
       "    <tr>\n",
       "      <th>4</th>\n",
       "      <td>4</td>\n",
       "      <td>Education</td>\n",
       "      <td>0.465770</td>\n",
       "      <td>0.432288</td>\n",
       "      <td>0.431041</td>\n",
       "      <td>0.465770</td>\n",
       "      <td>0.451420</td>\n",
       "      <td>0.445979</td>\n",
       "    </tr>\n",
       "  </tbody>\n",
       "</table>\n",
       "</div>"
      ],
      "text/plain": [
       "  doc_key most_similar_label  highest_similarity_score  Environmental  \\\n",
       "0       0             Safety                  0.774035       0.742092   \n",
       "1       1      Environmental                  0.564886       0.564886   \n",
       "2       2      Environmental                  0.692392       0.692392   \n",
       "3       3     Infrastructure                  0.626605       0.543646   \n",
       "4       4          Education                  0.465770       0.432288   \n",
       "\n",
       "   Infrastructure  Education    Zoning    Safety  \n",
       "0        0.728910   0.765886  0.741531  0.774035  \n",
       "1        0.503945   0.515262  0.537485  0.505996  \n",
       "2        0.649376   0.674425  0.653328  0.688099  \n",
       "3        0.626605   0.617145  0.625556  0.599429  \n",
       "4        0.431041   0.465770  0.451420  0.445979  "
      ]
     },
     "execution_count": 44,
     "metadata": {},
     "output_type": "execute_result"
    }
   ],
   "source": [
    "model_docs_lbl_similarities.head()"
   ]
  },
  {
   "cell_type": "markdown",
   "id": "37a17a03",
   "metadata": {},
   "source": [
    "### Evaluate prediction of documents used to train Lbl2Vec"
   ]
  },
  {
   "cell_type": "code",
   "execution_count": 45,
   "id": "8aa28451",
   "metadata": {},
   "outputs": [],
   "source": [
    "# merge DataFrames to compare the predicted and true topic labels\n",
    "evaluation_train = model_docs_lbl_similarities.merge(ag_full_corpus[ag_full_corpus['data_set_type']=='train'], left_on='doc_key', right_on='doc_key')\n"
   ]
  },
  {
   "cell_type": "code",
   "execution_count": 46,
   "id": "48d18d7b",
   "metadata": {},
   "outputs": [
    {
     "data": {
      "text/html": [
       "<div>\n",
       "<style scoped>\n",
       "    .dataframe tbody tr th:only-of-type {\n",
       "        vertical-align: middle;\n",
       "    }\n",
       "\n",
       "    .dataframe tbody tr th {\n",
       "        vertical-align: top;\n",
       "    }\n",
       "\n",
       "    .dataframe thead th {\n",
       "        text-align: right;\n",
       "    }\n",
       "</style>\n",
       "<table border=\"1\" class=\"dataframe\">\n",
       "  <thead>\n",
       "    <tr style=\"text-align: right;\">\n",
       "      <th></th>\n",
       "      <th>doc_key</th>\n",
       "      <th>most_similar_label</th>\n",
       "      <th>highest_similarity_score</th>\n",
       "      <th>Environmental</th>\n",
       "      <th>Infrastructure</th>\n",
       "      <th>Education</th>\n",
       "      <th>Zoning</th>\n",
       "      <th>Safety</th>\n",
       "      <th>link</th>\n",
       "      <th>category</th>\n",
       "      <th>Description</th>\n",
       "      <th>Description_tok</th>\n",
       "      <th>data_set_type</th>\n",
       "    </tr>\n",
       "  </thead>\n",
       "  <tbody>\n",
       "    <tr>\n",
       "      <th>0</th>\n",
       "      <td>0</td>\n",
       "      <td>Safety</td>\n",
       "      <td>0.774035</td>\n",
       "      <td>0.742092</td>\n",
       "      <td>0.728910</td>\n",
       "      <td>0.765886</td>\n",
       "      <td>0.741531</td>\n",
       "      <td>0.774035</td>\n",
       "      <td>https://content.civicplus.com/api/assets/bcff9...</td>\n",
       "      <td>Safety</td>\n",
       "      <td>order 1 1-21/22  \\npassage: 9 -0 on 7/19/2021 ...</td>\n",
       "      <td>([order, passage, on, effective, kate, snyder,...</td>\n",
       "      <td>train</td>\n",
       "    </tr>\n",
       "    <tr>\n",
       "      <th>1</th>\n",
       "      <td>1</td>\n",
       "      <td>Environmental</td>\n",
       "      <td>0.564886</td>\n",
       "      <td>0.564886</td>\n",
       "      <td>0.503945</td>\n",
       "      <td>0.515262</td>\n",
       "      <td>0.537485</td>\n",
       "      <td>0.505996</td>\n",
       "      <td>https://content.civicplus.com/api/assets/f8a03...</td>\n",
       "      <td>Zoning</td>\n",
       "      <td>\\norder 1 2-21/22 \\npassage: 9 -0 on 7/19/202...</td>\n",
       "      <td>([order, passage, on, effective, kate, snyder,...</td>\n",
       "      <td>train</td>\n",
       "    </tr>\n",
       "  </tbody>\n",
       "</table>\n",
       "</div>"
      ],
      "text/plain": [
       "  doc_key most_similar_label  highest_similarity_score  Environmental  \\\n",
       "0       0             Safety                  0.774035       0.742092   \n",
       "1       1      Environmental                  0.564886       0.564886   \n",
       "\n",
       "   Infrastructure  Education    Zoning    Safety  \\\n",
       "0        0.728910   0.765886  0.741531  0.774035   \n",
       "1        0.503945   0.515262  0.537485  0.505996   \n",
       "\n",
       "                                                link category  \\\n",
       "0  https://content.civicplus.com/api/assets/bcff9...   Safety   \n",
       "1  https://content.civicplus.com/api/assets/f8a03...   Zoning   \n",
       "\n",
       "                                         Description  \\\n",
       "0  order 1 1-21/22  \\npassage: 9 -0 on 7/19/2021 ...   \n",
       "1   \\norder 1 2-21/22 \\npassage: 9 -0 on 7/19/202...   \n",
       "\n",
       "                                     Description_tok data_set_type  \n",
       "0  ([order, passage, on, effective, kate, snyder,...         train  \n",
       "1  ([order, passage, on, effective, kate, snyder,...         train  "
      ]
     },
     "execution_count": 46,
     "metadata": {},
     "output_type": "execute_result"
    }
   ],
   "source": [
    "evaluation_train.head(2)"
   ]
  },
  {
   "cell_type": "code",
   "execution_count": 47,
   "id": "d483d732",
   "metadata": {
    "scrolled": true
   },
   "outputs": [
    {
     "name": "stdout",
     "output_type": "stream",
     "text": [
      "F1 score: 0.544\n"
     ]
    }
   ],
   "source": [
    "y_true_train = evaluation_train['category']\n",
    "y_pred_train = evaluation_train['most_similar_label']\n",
    "print('F1 score:',f1_score(y_true_train, y_pred_train, average='micro'))"
   ]
  },
  {
   "cell_type": "code",
   "execution_count": 48,
   "id": "02ed3f4c",
   "metadata": {},
   "outputs": [
    {
     "name": "stderr",
     "output_type": "stream",
     "text": [
      "2023-12-14 03:51:30,311 - Lbl2Vec - INFO - Calculate document embeddings\n",
      "2023-12-14 03:51:33,574 - Lbl2Vec - INFO - Calculate document<->label similarities\n"
     ]
    }
   ],
   "source": [
    "# predict similarity scores of new test documents (they were not used during Lbl2Vec training)\n",
    "new_docs_lbl_similarities = lbl2vec_model.predict_new_docs(tagged_docs=ag_full_corpus['Description_tok'][ag_full_corpus['data_set_type']=='test'])\n"
   ]
  },
  {
   "cell_type": "code",
   "execution_count": 49,
   "id": "fb935946",
   "metadata": {},
   "outputs": [
    {
     "data": {
      "text/html": [
       "<div>\n",
       "<style scoped>\n",
       "    .dataframe tbody tr th:only-of-type {\n",
       "        vertical-align: middle;\n",
       "    }\n",
       "\n",
       "    .dataframe tbody tr th {\n",
       "        vertical-align: top;\n",
       "    }\n",
       "\n",
       "    .dataframe thead th {\n",
       "        text-align: right;\n",
       "    }\n",
       "</style>\n",
       "<table border=\"1\" class=\"dataframe\">\n",
       "  <thead>\n",
       "    <tr style=\"text-align: right;\">\n",
       "      <th></th>\n",
       "      <th>doc_key</th>\n",
       "      <th>most_similar_label</th>\n",
       "      <th>highest_similarity_score</th>\n",
       "      <th>Environmental</th>\n",
       "      <th>Infrastructure</th>\n",
       "      <th>Education</th>\n",
       "      <th>Zoning</th>\n",
       "      <th>Safety</th>\n",
       "    </tr>\n",
       "  </thead>\n",
       "  <tbody>\n",
       "    <tr>\n",
       "      <th>0</th>\n",
       "      <td>251</td>\n",
       "      <td>Safety</td>\n",
       "      <td>0.602468</td>\n",
       "      <td>0.576034</td>\n",
       "      <td>0.577311</td>\n",
       "      <td>0.597208</td>\n",
       "      <td>0.579584</td>\n",
       "      <td>0.602468</td>\n",
       "    </tr>\n",
       "    <tr>\n",
       "      <th>1</th>\n",
       "      <td>252</td>\n",
       "      <td>Safety</td>\n",
       "      <td>0.722294</td>\n",
       "      <td>0.696671</td>\n",
       "      <td>0.701737</td>\n",
       "      <td>0.712892</td>\n",
       "      <td>0.697790</td>\n",
       "      <td>0.722294</td>\n",
       "    </tr>\n",
       "    <tr>\n",
       "      <th>2</th>\n",
       "      <td>253</td>\n",
       "      <td>Zoning</td>\n",
       "      <td>0.234598</td>\n",
       "      <td>0.227706</td>\n",
       "      <td>0.222269</td>\n",
       "      <td>0.210095</td>\n",
       "      <td>0.234598</td>\n",
       "      <td>0.207891</td>\n",
       "    </tr>\n",
       "    <tr>\n",
       "      <th>3</th>\n",
       "      <td>254</td>\n",
       "      <td>Infrastructure</td>\n",
       "      <td>0.241501</td>\n",
       "      <td>0.241436</td>\n",
       "      <td>0.241501</td>\n",
       "      <td>0.220715</td>\n",
       "      <td>0.228321</td>\n",
       "      <td>0.200641</td>\n",
       "    </tr>\n",
       "    <tr>\n",
       "      <th>4</th>\n",
       "      <td>255</td>\n",
       "      <td>Infrastructure</td>\n",
       "      <td>0.298345</td>\n",
       "      <td>0.281899</td>\n",
       "      <td>0.298345</td>\n",
       "      <td>0.256753</td>\n",
       "      <td>0.297620</td>\n",
       "      <td>0.221819</td>\n",
       "    </tr>\n",
       "  </tbody>\n",
       "</table>\n",
       "</div>"
      ],
      "text/plain": [
       "  doc_key most_similar_label  highest_similarity_score  Environmental  \\\n",
       "0     251             Safety                  0.602468       0.576034   \n",
       "1     252             Safety                  0.722294       0.696671   \n",
       "2     253             Zoning                  0.234598       0.227706   \n",
       "3     254     Infrastructure                  0.241501       0.241436   \n",
       "4     255     Infrastructure                  0.298345       0.281899   \n",
       "\n",
       "   Infrastructure  Education    Zoning    Safety  \n",
       "0        0.577311   0.597208  0.579584  0.602468  \n",
       "1        0.701737   0.712892  0.697790  0.722294  \n",
       "2        0.222269   0.210095  0.234598  0.207891  \n",
       "3        0.241501   0.220715  0.228321  0.200641  \n",
       "4        0.298345   0.256753  0.297620  0.221819  "
      ]
     },
     "execution_count": 49,
     "metadata": {},
     "output_type": "execute_result"
    }
   ],
   "source": [
    "new_docs_lbl_similarities.head()"
   ]
  },
  {
   "cell_type": "markdown",
   "id": "666e9a42",
   "metadata": {},
   "source": [
    "### Evaluate prediction of new documents"
   ]
  },
  {
   "cell_type": "code",
   "execution_count": 50,
   "id": "09aa38db",
   "metadata": {},
   "outputs": [],
   "source": [
    "# merge DataFrames to compare the predicted and true topic labels\n",
    "evaluation_test = new_docs_lbl_similarities.merge(ag_full_corpus[ag_full_corpus['data_set_type']=='test'], left_on='doc_key', right_on='doc_key')\n"
   ]
  },
  {
   "cell_type": "code",
   "execution_count": 51,
   "id": "a562598e",
   "metadata": {},
   "outputs": [
    {
     "name": "stdout",
     "output_type": "stream",
     "text": [
      "F1 score: 0.5473684210526316\n"
     ]
    }
   ],
   "source": [
    "y_true_test = evaluation_test['category']\n",
    "y_pred_test = evaluation_test['most_similar_label']\n",
    "print('F1 score:',f1_score(y_true_test, y_pred_test, average='micro'))"
   ]
  },
  {
   "cell_type": "markdown",
   "id": "4492efff",
   "metadata": {},
   "source": [
    "##### Let's Check Accuracy "
   ]
  },
  {
   "cell_type": "code",
   "execution_count": 52,
   "id": "608a10ad",
   "metadata": {},
   "outputs": [
    {
     "name": "stdout",
     "output_type": "stream",
     "text": [
      "(95, 13)\n",
      "(250, 13)\n"
     ]
    }
   ],
   "source": [
    "print(evaluation_test.shape)\n",
    "print(evaluation_train.shape)"
   ]
  },
  {
   "cell_type": "code",
   "execution_count": 53,
   "id": "36923da6",
   "metadata": {},
   "outputs": [],
   "source": [
    "final_frame = pd.concat([evaluation_train,evaluation_test])"
   ]
  },
  {
   "cell_type": "code",
   "execution_count": 54,
   "id": "e15cc2b9",
   "metadata": {
    "scrolled": true
   },
   "outputs": [
    {
     "data": {
      "text/html": [
       "<div>\n",
       "<style scoped>\n",
       "    .dataframe tbody tr th:only-of-type {\n",
       "        vertical-align: middle;\n",
       "    }\n",
       "\n",
       "    .dataframe tbody tr th {\n",
       "        vertical-align: top;\n",
       "    }\n",
       "\n",
       "    .dataframe thead th {\n",
       "        text-align: right;\n",
       "    }\n",
       "</style>\n",
       "<table border=\"1\" class=\"dataframe\">\n",
       "  <thead>\n",
       "    <tr style=\"text-align: right;\">\n",
       "      <th></th>\n",
       "      <th>doc_key</th>\n",
       "      <th>most_similar_label</th>\n",
       "      <th>highest_similarity_score</th>\n",
       "      <th>Environmental</th>\n",
       "      <th>Infrastructure</th>\n",
       "      <th>Education</th>\n",
       "      <th>Zoning</th>\n",
       "      <th>Safety</th>\n",
       "      <th>link</th>\n",
       "      <th>category</th>\n",
       "      <th>Description</th>\n",
       "      <th>Description_tok</th>\n",
       "      <th>data_set_type</th>\n",
       "    </tr>\n",
       "  </thead>\n",
       "  <tbody>\n",
       "    <tr>\n",
       "      <th>0</th>\n",
       "      <td>0</td>\n",
       "      <td>Safety</td>\n",
       "      <td>0.774035</td>\n",
       "      <td>0.742092</td>\n",
       "      <td>0.728910</td>\n",
       "      <td>0.765886</td>\n",
       "      <td>0.741531</td>\n",
       "      <td>0.774035</td>\n",
       "      <td>https://content.civicplus.com/api/assets/bcff9...</td>\n",
       "      <td>Safety</td>\n",
       "      <td>order 1 1-21/22  \\npassage: 9 -0 on 7/19/2021 ...</td>\n",
       "      <td>([order, passage, on, effective, kate, snyder,...</td>\n",
       "      <td>train</td>\n",
       "    </tr>\n",
       "    <tr>\n",
       "      <th>1</th>\n",
       "      <td>1</td>\n",
       "      <td>Environmental</td>\n",
       "      <td>0.564886</td>\n",
       "      <td>0.564886</td>\n",
       "      <td>0.503945</td>\n",
       "      <td>0.515262</td>\n",
       "      <td>0.537485</td>\n",
       "      <td>0.505996</td>\n",
       "      <td>https://content.civicplus.com/api/assets/f8a03...</td>\n",
       "      <td>Zoning</td>\n",
       "      <td>\\norder 1 2-21/22 \\npassage: 9 -0 on 7/19/202...</td>\n",
       "      <td>([order, passage, on, effective, kate, snyder,...</td>\n",
       "      <td>train</td>\n",
       "    </tr>\n",
       "    <tr>\n",
       "      <th>2</th>\n",
       "      <td>2</td>\n",
       "      <td>Environmental</td>\n",
       "      <td>0.692392</td>\n",
       "      <td>0.692392</td>\n",
       "      <td>0.649376</td>\n",
       "      <td>0.674425</td>\n",
       "      <td>0.653328</td>\n",
       "      <td>0.688099</td>\n",
       "      <td>https://content.civicplus.com/api/assets/cc288...</td>\n",
       "      <td>Safety</td>\n",
       "      <td>\\n \\n13432743.1   \\norder 1 3-21/22 \\npassage...</td>\n",
       "      <td>([order, passage, on, effective, kate, snyder,...</td>\n",
       "      <td>train</td>\n",
       "    </tr>\n",
       "    <tr>\n",
       "      <th>3</th>\n",
       "      <td>3</td>\n",
       "      <td>Infrastructure</td>\n",
       "      <td>0.626605</td>\n",
       "      <td>0.543646</td>\n",
       "      <td>0.626605</td>\n",
       "      <td>0.617145</td>\n",
       "      <td>0.625556</td>\n",
       "      <td>0.599429</td>\n",
       "      <td>https://content.civicplus.com/api/assets/0ea69...</td>\n",
       "      <td>Zoning</td>\n",
       "      <td>\\n1 order 14-21/22 \\npassage:  9-0 on 7/19/20...</td>\n",
       "      <td>([order, passage, on, effective, kate, snyder,...</td>\n",
       "      <td>train</td>\n",
       "    </tr>\n",
       "    <tr>\n",
       "      <th>4</th>\n",
       "      <td>4</td>\n",
       "      <td>Education</td>\n",
       "      <td>0.465770</td>\n",
       "      <td>0.432288</td>\n",
       "      <td>0.431041</td>\n",
       "      <td>0.465770</td>\n",
       "      <td>0.451420</td>\n",
       "      <td>0.445979</td>\n",
       "      <td>https://content.civicplus.com/api/assets/8ec46...</td>\n",
       "      <td>Education</td>\n",
       "      <td>order 15 -21/22 \\nmotion to amend with amendme...</td>\n",
       "      <td>([order, motion, to, amend, with, amendment, i...</td>\n",
       "      <td>train</td>\n",
       "    </tr>\n",
       "  </tbody>\n",
       "</table>\n",
       "</div>"
      ],
      "text/plain": [
       "  doc_key most_similar_label  highest_similarity_score  Environmental  \\\n",
       "0       0             Safety                  0.774035       0.742092   \n",
       "1       1      Environmental                  0.564886       0.564886   \n",
       "2       2      Environmental                  0.692392       0.692392   \n",
       "3       3     Infrastructure                  0.626605       0.543646   \n",
       "4       4          Education                  0.465770       0.432288   \n",
       "\n",
       "   Infrastructure  Education    Zoning    Safety  \\\n",
       "0        0.728910   0.765886  0.741531  0.774035   \n",
       "1        0.503945   0.515262  0.537485  0.505996   \n",
       "2        0.649376   0.674425  0.653328  0.688099   \n",
       "3        0.626605   0.617145  0.625556  0.599429   \n",
       "4        0.431041   0.465770  0.451420  0.445979   \n",
       "\n",
       "                                                link   category  \\\n",
       "0  https://content.civicplus.com/api/assets/bcff9...     Safety   \n",
       "1  https://content.civicplus.com/api/assets/f8a03...     Zoning   \n",
       "2  https://content.civicplus.com/api/assets/cc288...     Safety   \n",
       "3  https://content.civicplus.com/api/assets/0ea69...     Zoning   \n",
       "4  https://content.civicplus.com/api/assets/8ec46...  Education   \n",
       "\n",
       "                                         Description  \\\n",
       "0  order 1 1-21/22  \\npassage: 9 -0 on 7/19/2021 ...   \n",
       "1   \\norder 1 2-21/22 \\npassage: 9 -0 on 7/19/202...   \n",
       "2   \\n \\n13432743.1   \\norder 1 3-21/22 \\npassage...   \n",
       "3   \\n1 order 14-21/22 \\npassage:  9-0 on 7/19/20...   \n",
       "4  order 15 -21/22 \\nmotion to amend with amendme...   \n",
       "\n",
       "                                     Description_tok data_set_type  \n",
       "0  ([order, passage, on, effective, kate, snyder,...         train  \n",
       "1  ([order, passage, on, effective, kate, snyder,...         train  \n",
       "2  ([order, passage, on, effective, kate, snyder,...         train  \n",
       "3  ([order, passage, on, effective, kate, snyder,...         train  \n",
       "4  ([order, motion, to, amend, with, amendment, i...         train  "
      ]
     },
     "execution_count": 54,
     "metadata": {},
     "output_type": "execute_result"
    }
   ],
   "source": [
    "final_frame.head()"
   ]
  },
  {
   "cell_type": "code",
   "execution_count": 55,
   "id": "fc429202",
   "metadata": {
    "scrolled": true
   },
   "outputs": [],
   "source": [
    "final_frame[[\"link\",\"most_similar_label\"]].to_csv(\"data_election_bridge.csv\")"
   ]
  },
  {
   "cell_type": "code",
   "execution_count": null,
   "id": "a239e4da",
   "metadata": {},
   "outputs": [],
   "source": []
  },
  {
   "cell_type": "code",
   "execution_count": null,
   "id": "7693efc0",
   "metadata": {},
   "outputs": [],
   "source": []
  },
  {
   "cell_type": "code",
   "execution_count": null,
   "id": "a39593a1",
   "metadata": {},
   "outputs": [],
   "source": []
  },
  {
   "cell_type": "code",
   "execution_count": 56,
   "id": "27183ee7",
   "metadata": {},
   "outputs": [],
   "source": [
    "new_frame = final_frame[[\"category\",\"most_similar_label\"]]\n"
   ]
  },
  {
   "cell_type": "code",
   "execution_count": 57,
   "id": "2b4667e4",
   "metadata": {},
   "outputs": [],
   "source": [
    "new_frame.loc[new_frame.category == new_frame.most_similar_label, \"score\"] = 1\n",
    "new_frame.loc[new_frame.category != new_frame.most_similar_label, \"score\"] = 0"
   ]
  },
  {
   "cell_type": "code",
   "execution_count": 58,
   "id": "1d2a8e56",
   "metadata": {},
   "outputs": [
    {
     "data": {
      "text/html": [
       "<div>\n",
       "<style scoped>\n",
       "    .dataframe tbody tr th:only-of-type {\n",
       "        vertical-align: middle;\n",
       "    }\n",
       "\n",
       "    .dataframe tbody tr th {\n",
       "        vertical-align: top;\n",
       "    }\n",
       "\n",
       "    .dataframe thead th {\n",
       "        text-align: right;\n",
       "    }\n",
       "</style>\n",
       "<table border=\"1\" class=\"dataframe\">\n",
       "  <thead>\n",
       "    <tr style=\"text-align: right;\">\n",
       "      <th></th>\n",
       "      <th>category</th>\n",
       "      <th>most_similar_label</th>\n",
       "      <th>score</th>\n",
       "    </tr>\n",
       "  </thead>\n",
       "  <tbody>\n",
       "    <tr>\n",
       "      <th>0</th>\n",
       "      <td>Safety</td>\n",
       "      <td>Safety</td>\n",
       "      <td>1.0</td>\n",
       "    </tr>\n",
       "    <tr>\n",
       "      <th>1</th>\n",
       "      <td>Zoning</td>\n",
       "      <td>Environmental</td>\n",
       "      <td>0.0</td>\n",
       "    </tr>\n",
       "    <tr>\n",
       "      <th>2</th>\n",
       "      <td>Safety</td>\n",
       "      <td>Environmental</td>\n",
       "      <td>0.0</td>\n",
       "    </tr>\n",
       "    <tr>\n",
       "      <th>3</th>\n",
       "      <td>Zoning</td>\n",
       "      <td>Infrastructure</td>\n",
       "      <td>0.0</td>\n",
       "    </tr>\n",
       "    <tr>\n",
       "      <th>4</th>\n",
       "      <td>Education</td>\n",
       "      <td>Education</td>\n",
       "      <td>1.0</td>\n",
       "    </tr>\n",
       "  </tbody>\n",
       "</table>\n",
       "</div>"
      ],
      "text/plain": [
       "    category most_similar_label  score\n",
       "0     Safety             Safety    1.0\n",
       "1     Zoning      Environmental    0.0\n",
       "2     Safety      Environmental    0.0\n",
       "3     Zoning     Infrastructure    0.0\n",
       "4  Education          Education    1.0"
      ]
     },
     "execution_count": 58,
     "metadata": {},
     "output_type": "execute_result"
    }
   ],
   "source": [
    "new_frame.head()"
   ]
  },
  {
   "cell_type": "code",
   "execution_count": 59,
   "id": "7917f0ab",
   "metadata": {},
   "outputs": [
    {
     "data": {
      "text/plain": [
       "0.5449275362318841"
      ]
     },
     "execution_count": 59,
     "metadata": {},
     "output_type": "execute_result"
    }
   ],
   "source": [
    "### Accuracy is simple \n",
    "\n",
    "new_frame[\"score\"].sum()/len(new_frame)"
   ]
  },
  {
   "cell_type": "markdown",
   "id": "67377133",
   "metadata": {},
   "source": [
    "# LABEL 2 Transformer VECTOR"
   ]
  },
  {
   "cell_type": "code",
   "execution_count": null,
   "id": "9178523b",
   "metadata": {},
   "outputs": [],
   "source": []
  },
  {
   "cell_type": "code",
   "execution_count": 60,
   "id": "ca4ffb66",
   "metadata": {},
   "outputs": [],
   "source": [
    "X_train, X_test, y_train, y_test = train_test_split(ag_full_corpus['Description'],ag_full_corpus['category'], test_size=0.10, random_state=42)"
   ]
  },
  {
   "cell_type": "code",
   "execution_count": 61,
   "id": "3371f306",
   "metadata": {
    "scrolled": false
   },
   "outputs": [
    {
     "name": "stderr",
     "output_type": "stream",
     "text": [
      "2023-12-14 03:52:04,025 - Lbl2TransformerVec - INFO - Compute keyword embeddings\n",
      "2023-12-14 03:52:05,410 - Lbl2TransformerVec - INFO - Compute document embeddings\n",
      "2023-12-14 04:07:45,958 - Lbl2TransformerVec - INFO - Train label embeddings\n"
     ]
    }
   ],
   "source": [
    "#init model with parameters\n",
    "model = Lbl2TransformerVec(keywords_list=list(keyword['words']), documents=X_train)\n",
    "\n",
    "# train model\n",
    "model.fit()"
   ]
  },
  {
   "cell_type": "code",
   "execution_count": 62,
   "id": "05d3da82",
   "metadata": {
    "scrolled": true
   },
   "outputs": [
    {
     "name": "stderr",
     "output_type": "stream",
     "text": [
      "2023-12-14 04:11:12,786 - Lbl2TransformerVec - INFO - Get document embeddings from model\n",
      "2023-12-14 04:11:12,793 - Lbl2TransformerVec - INFO - Calculate document<->label similarities\n"
     ]
    }
   ],
   "source": [
    "# predict similarity scores\n",
    "model_docs_lbl_similarities = model.predict_model_docs()\n",
    "\n"
   ]
  },
  {
   "cell_type": "code",
   "execution_count": 63,
   "id": "247764f6",
   "metadata": {},
   "outputs": [
    {
     "data": {
      "text/html": [
       "<div>\n",
       "<style scoped>\n",
       "    .dataframe tbody tr th:only-of-type {\n",
       "        vertical-align: middle;\n",
       "    }\n",
       "\n",
       "    .dataframe tbody tr th {\n",
       "        vertical-align: top;\n",
       "    }\n",
       "\n",
       "    .dataframe thead th {\n",
       "        text-align: right;\n",
       "    }\n",
       "</style>\n",
       "<table border=\"1\" class=\"dataframe\">\n",
       "  <thead>\n",
       "    <tr style=\"text-align: right;\">\n",
       "      <th></th>\n",
       "      <th>category</th>\n",
       "      <th>words</th>\n",
       "      <th>number_of_keywords</th>\n",
       "    </tr>\n",
       "  </thead>\n",
       "  <tbody>\n",
       "    <tr>\n",
       "      <th>0</th>\n",
       "      <td>Environmental</td>\n",
       "      <td>[nature, ecology, conversation, green, environ...</td>\n",
       "      <td>6</td>\n",
       "    </tr>\n",
       "    <tr>\n",
       "      <th>1</th>\n",
       "      <td>Infrastructure</td>\n",
       "      <td>[installation, street, transportation, develop...</td>\n",
       "      <td>11</td>\n",
       "    </tr>\n",
       "    <tr>\n",
       "      <th>2</th>\n",
       "      <td>Education</td>\n",
       "      <td>[teaching, curriculum, school, education, lear...</td>\n",
       "      <td>6</td>\n",
       "    </tr>\n",
       "    <tr>\n",
       "      <th>3</th>\n",
       "      <td>Zoning</td>\n",
       "      <td>[housing, land, zoning, planning, regulations,...</td>\n",
       "      <td>8</td>\n",
       "    </tr>\n",
       "    <tr>\n",
       "      <th>4</th>\n",
       "      <td>Safety</td>\n",
       "      <td>[fire, emergency, health, security, safety, pr...</td>\n",
       "      <td>6</td>\n",
       "    </tr>\n",
       "  </tbody>\n",
       "</table>\n",
       "</div>"
      ],
      "text/plain": [
       "         category                                              words  \\\n",
       "0   Environmental  [nature, ecology, conversation, green, environ...   \n",
       "1  Infrastructure  [installation, street, transportation, develop...   \n",
       "2       Education  [teaching, curriculum, school, education, lear...   \n",
       "3          Zoning  [housing, land, zoning, planning, regulations,...   \n",
       "4          Safety  [fire, emergency, health, security, safety, pr...   \n",
       "\n",
       "   number_of_keywords  \n",
       "0                   6  \n",
       "1                  11  \n",
       "2                   6  \n",
       "3                   8  \n",
       "4                   6  "
      ]
     },
     "execution_count": 63,
     "metadata": {},
     "output_type": "execute_result"
    }
   ],
   "source": [
    "keyword"
   ]
  },
  {
   "cell_type": "code",
   "execution_count": 64,
   "id": "78a68395",
   "metadata": {
    "scrolled": true
   },
   "outputs": [
    {
     "data": {
      "text/html": [
       "<div>\n",
       "<style scoped>\n",
       "    .dataframe tbody tr th:only-of-type {\n",
       "        vertical-align: middle;\n",
       "    }\n",
       "\n",
       "    .dataframe tbody tr th {\n",
       "        vertical-align: top;\n",
       "    }\n",
       "\n",
       "    .dataframe thead th {\n",
       "        text-align: right;\n",
       "    }\n",
       "</style>\n",
       "<table border=\"1\" class=\"dataframe\">\n",
       "  <thead>\n",
       "    <tr style=\"text-align: right;\">\n",
       "      <th></th>\n",
       "      <th>doc_key</th>\n",
       "      <th>most_similar_label</th>\n",
       "      <th>highest_similarity_score</th>\n",
       "      <th>label_0</th>\n",
       "      <th>label_1</th>\n",
       "      <th>label_2</th>\n",
       "      <th>label_3</th>\n",
       "      <th>label_4</th>\n",
       "    </tr>\n",
       "  </thead>\n",
       "  <tbody>\n",
       "    <tr>\n",
       "      <th>201</th>\n",
       "      <td>201</td>\n",
       "      <td>label_4</td>\n",
       "      <td>0.759605</td>\n",
       "      <td>0.702538</td>\n",
       "      <td>0.732785</td>\n",
       "      <td>0.756705</td>\n",
       "      <td>0.317061</td>\n",
       "      <td>0.759605</td>\n",
       "    </tr>\n",
       "  </tbody>\n",
       "</table>\n",
       "</div>"
      ],
      "text/plain": [
       "     doc_key most_similar_label  highest_similarity_score   label_0   label_1  \\\n",
       "201      201            label_4                  0.759605  0.702538  0.732785   \n",
       "\n",
       "      label_2   label_3   label_4  \n",
       "201  0.756705  0.317061  0.759605  "
      ]
     },
     "execution_count": 64,
     "metadata": {},
     "output_type": "execute_result"
    }
   ],
   "source": [
    "model_docs_lbl_similarities.sample(1)"
   ]
  },
  {
   "cell_type": "code",
   "execution_count": 65,
   "id": "047df5b3",
   "metadata": {},
   "outputs": [
    {
     "data": {
      "text/html": [
       "<div>\n",
       "<style scoped>\n",
       "    .dataframe tbody tr th:only-of-type {\n",
       "        vertical-align: middle;\n",
       "    }\n",
       "\n",
       "    .dataframe tbody tr th {\n",
       "        vertical-align: top;\n",
       "    }\n",
       "\n",
       "    .dataframe thead th {\n",
       "        text-align: right;\n",
       "    }\n",
       "</style>\n",
       "<table border=\"1\" class=\"dataframe\">\n",
       "  <thead>\n",
       "    <tr style=\"text-align: right;\">\n",
       "      <th></th>\n",
       "      <th>doc_key</th>\n",
       "      <th>most_similar_label</th>\n",
       "      <th>highest_similarity_score</th>\n",
       "      <th>label_0</th>\n",
       "      <th>label_1</th>\n",
       "      <th>label_2</th>\n",
       "      <th>label_3</th>\n",
       "      <th>label_4</th>\n",
       "      <th>prediction</th>\n",
       "    </tr>\n",
       "  </thead>\n",
       "  <tbody>\n",
       "    <tr>\n",
       "      <th>0</th>\n",
       "      <td>0</td>\n",
       "      <td>label_0</td>\n",
       "      <td>0.968625</td>\n",
       "      <td>0.968625</td>\n",
       "      <td>0.770401</td>\n",
       "      <td>0.707191</td>\n",
       "      <td>0.308134</td>\n",
       "      <td>0.831536</td>\n",
       "      <td>Environmental</td>\n",
       "    </tr>\n",
       "    <tr>\n",
       "      <th>1</th>\n",
       "      <td>1</td>\n",
       "      <td>label_1</td>\n",
       "      <td>0.529829</td>\n",
       "      <td>0.509282</td>\n",
       "      <td>0.529829</td>\n",
       "      <td>0.488037</td>\n",
       "      <td>0.435918</td>\n",
       "      <td>0.509213</td>\n",
       "      <td>Infrastructure</td>\n",
       "    </tr>\n",
       "    <tr>\n",
       "      <th>2</th>\n",
       "      <td>2</td>\n",
       "      <td>label_0</td>\n",
       "      <td>0.414925</td>\n",
       "      <td>0.414925</td>\n",
       "      <td>0.338329</td>\n",
       "      <td>0.290241</td>\n",
       "      <td>0.312018</td>\n",
       "      <td>0.413073</td>\n",
       "      <td>Environmental</td>\n",
       "    </tr>\n",
       "    <tr>\n",
       "      <th>3</th>\n",
       "      <td>3</td>\n",
       "      <td>label_4</td>\n",
       "      <td>0.784255</td>\n",
       "      <td>0.773353</td>\n",
       "      <td>0.765571</td>\n",
       "      <td>0.712455</td>\n",
       "      <td>0.292661</td>\n",
       "      <td>0.784255</td>\n",
       "      <td>Safety</td>\n",
       "    </tr>\n",
       "    <tr>\n",
       "      <th>4</th>\n",
       "      <td>4</td>\n",
       "      <td>label_0</td>\n",
       "      <td>0.778304</td>\n",
       "      <td>0.778304</td>\n",
       "      <td>0.740584</td>\n",
       "      <td>0.661643</td>\n",
       "      <td>0.245599</td>\n",
       "      <td>0.725083</td>\n",
       "      <td>Environmental</td>\n",
       "    </tr>\n",
       "  </tbody>\n",
       "</table>\n",
       "</div>"
      ],
      "text/plain": [
       "   doc_key most_similar_label  highest_similarity_score   label_0   label_1  \\\n",
       "0        0            label_0                  0.968625  0.968625  0.770401   \n",
       "1        1            label_1                  0.529829  0.509282  0.529829   \n",
       "2        2            label_0                  0.414925  0.414925  0.338329   \n",
       "3        3            label_4                  0.784255  0.773353  0.765571   \n",
       "4        4            label_0                  0.778304  0.778304  0.740584   \n",
       "\n",
       "    label_2   label_3   label_4      prediction  \n",
       "0  0.707191  0.308134  0.831536   Environmental  \n",
       "1  0.488037  0.435918  0.509213  Infrastructure  \n",
       "2  0.290241  0.312018  0.413073   Environmental  \n",
       "3  0.712455  0.292661  0.784255          Safety  \n",
       "4  0.661643  0.245599  0.725083   Environmental  "
      ]
     },
     "execution_count": 65,
     "metadata": {},
     "output_type": "execute_result"
    }
   ],
   "source": [
    "model_docs_lbl_similarities['prediction'] = model_docs_lbl_similarities['most_similar_label'].map({\n",
    "    'label_0': 'Environmental', 'label_1': 'Infrastructure','label_2':'Education','label_3':'Zoning','label_4':'Safety'})\n",
    "model_docs_lbl_similarities.head()"
   ]
  },
  {
   "cell_type": "code",
   "execution_count": 66,
   "id": "40405802",
   "metadata": {},
   "outputs": [
    {
     "data": {
      "text/plain": [
       "prediction\n",
       "Environmental     130\n",
       "Infrastructure     68\n",
       "Zoning             41\n",
       "Safety             40\n",
       "Education          31\n",
       "Name: count, dtype: int64"
      ]
     },
     "execution_count": 66,
     "metadata": {},
     "output_type": "execute_result"
    }
   ],
   "source": [
    "model_docs_lbl_similarities[\"prediction\"].value_counts()"
   ]
  },
  {
   "cell_type": "code",
   "execution_count": 67,
   "id": "155511db",
   "metadata": {},
   "outputs": [
    {
     "name": "stdout",
     "output_type": "stream",
     "text": [
      "F1 score: 0.23548387096774193\n"
     ]
    }
   ],
   "source": [
    "# evaluation_train = model_docs_lbl_similarities.merge(df, left_on='doc_key', right_on='doc_key')\n",
    "y_true_train = y_train\n",
    "y_pred_train = model_docs_lbl_similarities['prediction']\n",
    "print('F1 score:',f1_score(y_true_train, y_pred_train, average='micro'))"
   ]
  },
  {
   "cell_type": "code",
   "execution_count": 68,
   "id": "86598bb4",
   "metadata": {
    "scrolled": true
   },
   "outputs": [
    {
     "data": {
      "text/plain": [
       "0.5449275362318841"
      ]
     },
     "execution_count": 68,
     "metadata": {},
     "output_type": "execute_result"
    }
   ],
   "source": [
    "d = {'TRUE': y_train,'PRED': y_pred_train}\n",
    "ff = pd.DataFrame(data=d)\n",
    "\n",
    "ff.loc[ff.TRUE == ff.PRED, \"score\"] = 1\n",
    "ff.loc[ff.TRUE != ff.PRED, \"score\"] = 0\n",
    "\n",
    "### Accuracy is simple \n",
    "\n",
    "new_frame[\"score\"].sum()/len(new_frame)"
   ]
  },
  {
   "cell_type": "code",
   "execution_count": null,
   "id": "f35c0811",
   "metadata": {},
   "outputs": [],
   "source": []
  },
  {
   "cell_type": "code",
   "execution_count": null,
   "id": "a17310f6",
   "metadata": {},
   "outputs": [],
   "source": []
  },
  {
   "cell_type": "code",
   "execution_count": null,
   "id": "b9469908",
   "metadata": {},
   "outputs": [],
   "source": []
  },
  {
   "cell_type": "code",
   "execution_count": null,
   "id": "98f34d03",
   "metadata": {},
   "outputs": [],
   "source": []
  },
  {
   "cell_type": "code",
   "execution_count": null,
   "id": "53dbf5eb",
   "metadata": {},
   "outputs": [],
   "source": []
  },
  {
   "cell_type": "markdown",
   "id": "5b105d46",
   "metadata": {},
   "source": [
    "### TRUE LABLE DATA 40 POLICY"
   ]
  },
  {
   "cell_type": "code",
   "execution_count": 33,
   "id": "52886727",
   "metadata": {},
   "outputs": [],
   "source": [
    "df = pd.read_excel('TRUE_LABEL_BY_SPONSOR.xlsx')"
   ]
  },
  {
   "cell_type": "code",
   "execution_count": 34,
   "id": "4c81b8e3",
   "metadata": {
    "scrolled": true
   },
   "outputs": [
    {
     "data": {
      "text/html": [
       "<div>\n",
       "<style scoped>\n",
       "    .dataframe tbody tr th:only-of-type {\n",
       "        vertical-align: middle;\n",
       "    }\n",
       "\n",
       "    .dataframe tbody tr th {\n",
       "        vertical-align: top;\n",
       "    }\n",
       "\n",
       "    .dataframe thead th {\n",
       "        text-align: right;\n",
       "    }\n",
       "</style>\n",
       "<table border=\"1\" class=\"dataframe\">\n",
       "  <thead>\n",
       "    <tr style=\"text-align: right;\">\n",
       "      <th></th>\n",
       "      <th>link</th>\n",
       "      <th>category</th>\n",
       "      <th>title</th>\n",
       "    </tr>\n",
       "  </thead>\n",
       "  <tbody>\n",
       "    <tr>\n",
       "      <th>0</th>\n",
       "      <td>https://content.civicplus.com/api/assets/b2e87...</td>\n",
       "      <td>Zoning and infrastructure</td>\n",
       "      <td>AMENDMENT TO PORTLAND CITY CODE CHAPTER 8\\nRe:...</td>\n",
       "    </tr>\n",
       "    <tr>\n",
       "      <th>1</th>\n",
       "      <td>https://content.civicplus.com/api/assets/ea087...</td>\n",
       "      <td>Environmental</td>\n",
       "      <td>ORDER APPROVING THE APPLICATION FOR, ACCEPTANC...</td>\n",
       "    </tr>\n",
       "    <tr>\n",
       "      <th>2</th>\n",
       "      <td>https://content.civicplus.com/api/assets/299d3...</td>\n",
       "      <td>Infrastructure</td>\n",
       "      <td>ORDER APPROVING MODIFICATION TO TWO-PARTY AGRE...</td>\n",
       "    </tr>\n",
       "    <tr>\n",
       "      <th>3</th>\n",
       "      <td>https://content.civicplus.com/api/assets/e1184...</td>\n",
       "      <td>Infrastructure</td>\n",
       "      <td>ORDER ACCEPTING AND ADOPTING THE 2020 HOUSING ...</td>\n",
       "    </tr>\n",
       "    <tr>\n",
       "      <th>4</th>\n",
       "      <td>https://content.civicplus.com/api/assets/1768f...</td>\n",
       "      <td>Infrastructure</td>\n",
       "      <td>ORDER APPROPRIATING $36,000 FROM THE HOUSING T...</td>\n",
       "    </tr>\n",
       "  </tbody>\n",
       "</table>\n",
       "</div>"
      ],
      "text/plain": [
       "                                                link  \\\n",
       "0  https://content.civicplus.com/api/assets/b2e87...   \n",
       "1  https://content.civicplus.com/api/assets/ea087...   \n",
       "2  https://content.civicplus.com/api/assets/299d3...   \n",
       "3  https://content.civicplus.com/api/assets/e1184...   \n",
       "4  https://content.civicplus.com/api/assets/1768f...   \n",
       "\n",
       "                    category  \\\n",
       "0  Zoning and infrastructure   \n",
       "1              Environmental   \n",
       "2             Infrastructure   \n",
       "3             Infrastructure   \n",
       "4             Infrastructure   \n",
       "\n",
       "                                               title  \n",
       "0  AMENDMENT TO PORTLAND CITY CODE CHAPTER 8\\nRe:...  \n",
       "1  ORDER APPROVING THE APPLICATION FOR, ACCEPTANC...  \n",
       "2  ORDER APPROVING MODIFICATION TO TWO-PARTY AGRE...  \n",
       "3  ORDER ACCEPTING AND ADOPTING THE 2020 HOUSING ...  \n",
       "4  ORDER APPROPRIATING $36,000 FROM THE HOUSING T...  "
      ]
     },
     "execution_count": 34,
     "metadata": {},
     "output_type": "execute_result"
    }
   ],
   "source": [
    "df.head()"
   ]
  },
  {
   "cell_type": "code",
   "execution_count": 35,
   "id": "754a15d6",
   "metadata": {},
   "outputs": [
    {
     "data": {
      "text/plain": [
       "array(['Zoning and infrastructure', 'Environmental', 'Infrastructure',\n",
       "       'Safety', 'Zoning', 'Education', 'Education/Infrastructure'],\n",
       "      dtype=object)"
      ]
     },
     "execution_count": 35,
     "metadata": {},
     "output_type": "execute_result"
    }
   ],
   "source": [
    "df[\"category\"].unique()"
   ]
  },
  {
   "cell_type": "code",
   "execution_count": 36,
   "id": "0d84535b",
   "metadata": {},
   "outputs": [
    {
     "data": {
      "text/plain": [
       "category\n",
       "Safety                       10\n",
       "Infrastructure                9\n",
       "Education                     8\n",
       "Environmental                 5\n",
       "Zoning                        4\n",
       "Zoning and infrastructure     1\n",
       "Education/Infrastructure      1\n",
       "Name: count, dtype: int64"
      ]
     },
     "execution_count": 36,
     "metadata": {},
     "output_type": "execute_result"
    }
   ],
   "source": [
    "df[\"category\"].value_counts()"
   ]
  },
  {
   "cell_type": "code",
   "execution_count": 37,
   "id": "6ff7a6de",
   "metadata": {},
   "outputs": [],
   "source": [
    "df = df[(df[\"category\"].isin(['Education', 'Infrastructure', 'Zoning', 'Safety', 'Environmental']))]"
   ]
  },
  {
   "cell_type": "code",
   "execution_count": 38,
   "id": "66c5bd30",
   "metadata": {},
   "outputs": [
    {
     "data": {
      "text/plain": [
       "category\n",
       "Safety            10\n",
       "Infrastructure     9\n",
       "Education          8\n",
       "Environmental      5\n",
       "Zoning             4\n",
       "Name: count, dtype: int64"
      ]
     },
     "execution_count": 38,
     "metadata": {},
     "output_type": "execute_result"
    }
   ],
   "source": [
    "df[\"category\"].value_counts()"
   ]
  },
  {
   "cell_type": "code",
   "execution_count": 39,
   "id": "08af9ac1",
   "metadata": {
    "scrolled": true
   },
   "outputs": [
    {
     "data": {
      "text/plain": [
       "(36, 3)"
      ]
     },
     "execution_count": 39,
     "metadata": {},
     "output_type": "execute_result"
    }
   ],
   "source": [
    "df.shape"
   ]
  },
  {
   "cell_type": "code",
   "execution_count": 40,
   "id": "9c6aad3d",
   "metadata": {},
   "outputs": [
    {
     "name": "stderr",
     "output_type": "stream",
     "text": [
      "100%|██████████████████████████████████████████████████████████████████████████████████| 36/36 [00:32<00:00,  1.11it/s]\n"
     ]
    }
   ],
   "source": [
    "texts = []\n",
    "for i in tqdm(df['link']):\n",
    "    response = requests.get(i)\n",
    "    pdf_io_bytes = io.BytesIO(response.content)\n",
    "    text_list = []\n",
    "    pdf = PyPDF2.PdfReader(pdf_io_bytes)\n",
    "\n",
    "    num_pages = len(pdf.pages)\n",
    "\n",
    "    for page in range(num_pages):\n",
    "        page_text = pdf.pages[page].extract_text()\n",
    "        text_list.append(page_text)\n",
    "    text = \"\\n\".join(text_list)\n",
    "    texts.append(text)"
   ]
  },
  {
   "cell_type": "code",
   "execution_count": 41,
   "id": "7137487d",
   "metadata": {},
   "outputs": [
    {
     "data": {
      "text/plain": [
       "36"
      ]
     },
     "execution_count": 41,
     "metadata": {},
     "output_type": "execute_result"
    }
   ],
   "source": [
    "len(texts)"
   ]
  },
  {
   "cell_type": "code",
   "execution_count": 42,
   "id": "5bac169a",
   "metadata": {},
   "outputs": [],
   "source": [
    "#texts"
   ]
  },
  {
   "cell_type": "code",
   "execution_count": 43,
   "id": "cb04df90",
   "metadata": {},
   "outputs": [],
   "source": [
    "df[\"Description\"] = texts"
   ]
  },
  {
   "cell_type": "code",
   "execution_count": 44,
   "id": "de8e3596",
   "metadata": {
    "scrolled": false
   },
   "outputs": [
    {
     "data": {
      "text/html": [
       "<div>\n",
       "<style scoped>\n",
       "    .dataframe tbody tr th:only-of-type {\n",
       "        vertical-align: middle;\n",
       "    }\n",
       "\n",
       "    .dataframe tbody tr th {\n",
       "        vertical-align: top;\n",
       "    }\n",
       "\n",
       "    .dataframe thead th {\n",
       "        text-align: right;\n",
       "    }\n",
       "</style>\n",
       "<table border=\"1\" class=\"dataframe\">\n",
       "  <thead>\n",
       "    <tr style=\"text-align: right;\">\n",
       "      <th></th>\n",
       "      <th>link</th>\n",
       "      <th>category</th>\n",
       "      <th>title</th>\n",
       "      <th>Description</th>\n",
       "    </tr>\n",
       "  </thead>\n",
       "  <tbody>\n",
       "    <tr>\n",
       "      <th>1</th>\n",
       "      <td>https://content.civicplus.com/api/assets/ea087...</td>\n",
       "      <td>Environmental</td>\n",
       "      <td>ORDER APPROVING THE APPLICATION FOR, ACCEPTANC...</td>\n",
       "      <td>Order 84 -19/20 \\nPassage: 8 -0 (Cook absent)...</td>\n",
       "    </tr>\n",
       "    <tr>\n",
       "      <th>2</th>\n",
       "      <td>https://content.civicplus.com/api/assets/299d3...</td>\n",
       "      <td>Infrastructure</td>\n",
       "      <td>ORDER APPROVING MODIFICATION TO TWO-PARTY AGRE...</td>\n",
       "      <td>Order 83 -19/20 \\nPassage: 8 -0 (Cook absent) ...</td>\n",
       "    </tr>\n",
       "    <tr>\n",
       "      <th>3</th>\n",
       "      <td>https://content.civicplus.com/api/assets/e1184...</td>\n",
       "      <td>Infrastructure</td>\n",
       "      <td>ORDER ACCEPTING AND ADOPTING THE 2020 HOUSING ...</td>\n",
       "      <td>\\nOrder 146 -19/20 \\nPassage: 9 -0 on 3/ 2/20...</td>\n",
       "    </tr>\n",
       "    <tr>\n",
       "      <th>4</th>\n",
       "      <td>https://content.civicplus.com/api/assets/1768f...</td>\n",
       "      <td>Infrastructure</td>\n",
       "      <td>ORDER APPROPRIATING $36,000 FROM THE HOUSING T...</td>\n",
       "      <td>Order 54 -19/20 \\nPassage: 8 -0 (Ali absent) o...</td>\n",
       "    </tr>\n",
       "    <tr>\n",
       "      <th>5</th>\n",
       "      <td>https://content.civicplus.com/api/assets/af3b4...</td>\n",
       "      <td>Safety</td>\n",
       "      <td>AMENDMENT TO PORTLAND CITY CODE CHAPTER 10 RE:...</td>\n",
       "      <td>Order 59 -19/20 \\nMotion to postpone to Novem...</td>\n",
       "    </tr>\n",
       "  </tbody>\n",
       "</table>\n",
       "</div>"
      ],
      "text/plain": [
       "                                                link        category  \\\n",
       "1  https://content.civicplus.com/api/assets/ea087...   Environmental   \n",
       "2  https://content.civicplus.com/api/assets/299d3...  Infrastructure   \n",
       "3  https://content.civicplus.com/api/assets/e1184...  Infrastructure   \n",
       "4  https://content.civicplus.com/api/assets/1768f...  Infrastructure   \n",
       "5  https://content.civicplus.com/api/assets/af3b4...          Safety   \n",
       "\n",
       "                                               title  \\\n",
       "1  ORDER APPROVING THE APPLICATION FOR, ACCEPTANC...   \n",
       "2  ORDER APPROVING MODIFICATION TO TWO-PARTY AGRE...   \n",
       "3  ORDER ACCEPTING AND ADOPTING THE 2020 HOUSING ...   \n",
       "4  ORDER APPROPRIATING $36,000 FROM THE HOUSING T...   \n",
       "5  AMENDMENT TO PORTLAND CITY CODE CHAPTER 10 RE:...   \n",
       "\n",
       "                                         Description  \n",
       "1   Order 84 -19/20 \\nPassage: 8 -0 (Cook absent)...  \n",
       "2  Order 83 -19/20 \\nPassage: 8 -0 (Cook absent) ...  \n",
       "3   \\nOrder 146 -19/20 \\nPassage: 9 -0 on 3/ 2/20...  \n",
       "4  Order 54 -19/20 \\nPassage: 8 -0 (Ali absent) o...  \n",
       "5   Order 59 -19/20 \\nMotion to postpone to Novem...  "
      ]
     },
     "execution_count": 44,
     "metadata": {},
     "output_type": "execute_result"
    }
   ],
   "source": [
    "df.head()"
   ]
  },
  {
   "cell_type": "code",
   "execution_count": 45,
   "id": "b8a729ae",
   "metadata": {},
   "outputs": [
    {
     "data": {
      "text/html": [
       "<div>\n",
       "<style scoped>\n",
       "    .dataframe tbody tr th:only-of-type {\n",
       "        vertical-align: middle;\n",
       "    }\n",
       "\n",
       "    .dataframe tbody tr th {\n",
       "        vertical-align: top;\n",
       "    }\n",
       "\n",
       "    .dataframe thead th {\n",
       "        text-align: right;\n",
       "    }\n",
       "</style>\n",
       "<table border=\"1\" class=\"dataframe\">\n",
       "  <thead>\n",
       "    <tr style=\"text-align: right;\">\n",
       "      <th></th>\n",
       "      <th>link</th>\n",
       "      <th>category</th>\n",
       "      <th>title</th>\n",
       "      <th>Description</th>\n",
       "    </tr>\n",
       "  </thead>\n",
       "  <tbody>\n",
       "    <tr>\n",
       "      <th>33</th>\n",
       "      <td>https://content.civicplus.com/api/assets/e1184...</td>\n",
       "      <td>Infrastructure</td>\n",
       "      <td>ORDER APPROVING AN OPTION TO LEASE AGREEMENT W...</td>\n",
       "      <td>\\nOrder 146 -19/20 \\nPassage: 9 -0 on 3/ 2/20...</td>\n",
       "    </tr>\n",
       "    <tr>\n",
       "      <th>34</th>\n",
       "      <td>https://content.civicplus.com/api/assets/e1184...</td>\n",
       "      <td>Infrastructure</td>\n",
       "      <td>ORDER ACCEPTING AND ADOPTING THE 2020 HOUSING ...</td>\n",
       "      <td>\\nOrder 146 -19/20 \\nPassage: 9 -0 on 3/ 2/20...</td>\n",
       "    </tr>\n",
       "    <tr>\n",
       "      <th>35</th>\n",
       "      <td>https://content.civicplus.com/api/assets/18278...</td>\n",
       "      <td>Safety</td>\n",
       "      <td>ORDER ACCEPTING A HOUSING AND URBAN DEVELOPMEN...</td>\n",
       "      <td>Order 103 -19/20 \\nMotion to waive the second ...</td>\n",
       "    </tr>\n",
       "    <tr>\n",
       "      <th>36</th>\n",
       "      <td>https://content.civicplus.com/api/assets/c73c8...</td>\n",
       "      <td>Infrastructure</td>\n",
       "      <td>ORDER APPROPRIATING $193,266 IN HOME INVESTMEN...</td>\n",
       "      <td>Order 34 -19/20 \\nPassage: 9 -0 on 9/4/2019   ...</td>\n",
       "    </tr>\n",
       "    <tr>\n",
       "      <th>37</th>\n",
       "      <td>https://content.civicplus.com/api/assets/8c493...</td>\n",
       "      <td>Zoning</td>\n",
       "      <td>ORDER APPROVING THE SECOND AMENDMENT TO CONDIT...</td>\n",
       "      <td>Order 13 -19/20 \\nPassag e: 7-0 (Batson and Co...</td>\n",
       "    </tr>\n",
       "  </tbody>\n",
       "</table>\n",
       "</div>"
      ],
      "text/plain": [
       "                                                 link        category  \\\n",
       "33  https://content.civicplus.com/api/assets/e1184...  Infrastructure   \n",
       "34  https://content.civicplus.com/api/assets/e1184...  Infrastructure   \n",
       "35  https://content.civicplus.com/api/assets/18278...          Safety   \n",
       "36  https://content.civicplus.com/api/assets/c73c8...  Infrastructure   \n",
       "37  https://content.civicplus.com/api/assets/8c493...          Zoning   \n",
       "\n",
       "                                                title  \\\n",
       "33  ORDER APPROVING AN OPTION TO LEASE AGREEMENT W...   \n",
       "34  ORDER ACCEPTING AND ADOPTING THE 2020 HOUSING ...   \n",
       "35  ORDER ACCEPTING A HOUSING AND URBAN DEVELOPMEN...   \n",
       "36  ORDER APPROPRIATING $193,266 IN HOME INVESTMEN...   \n",
       "37  ORDER APPROVING THE SECOND AMENDMENT TO CONDIT...   \n",
       "\n",
       "                                          Description  \n",
       "33   \\nOrder 146 -19/20 \\nPassage: 9 -0 on 3/ 2/20...  \n",
       "34   \\nOrder 146 -19/20 \\nPassage: 9 -0 on 3/ 2/20...  \n",
       "35  Order 103 -19/20 \\nMotion to waive the second ...  \n",
       "36  Order 34 -19/20 \\nPassage: 9 -0 on 9/4/2019   ...  \n",
       "37  Order 13 -19/20 \\nPassag e: 7-0 (Batson and Co...  "
      ]
     },
     "execution_count": 45,
     "metadata": {},
     "output_type": "execute_result"
    }
   ],
   "source": [
    "df.tail()"
   ]
  },
  {
   "cell_type": "code",
   "execution_count": 46,
   "id": "ee1717e6",
   "metadata": {},
   "outputs": [],
   "source": [
    "df[\"Description\"] = df[\"Description\"].map(lambda Description: Description.lower())"
   ]
  },
  {
   "cell_type": "code",
   "execution_count": 47,
   "id": "3df9ea97",
   "metadata": {},
   "outputs": [
    {
     "data": {
      "text/html": [
       "<div>\n",
       "<style scoped>\n",
       "    .dataframe tbody tr th:only-of-type {\n",
       "        vertical-align: middle;\n",
       "    }\n",
       "\n",
       "    .dataframe tbody tr th {\n",
       "        vertical-align: top;\n",
       "    }\n",
       "\n",
       "    .dataframe thead th {\n",
       "        text-align: right;\n",
       "    }\n",
       "</style>\n",
       "<table border=\"1\" class=\"dataframe\">\n",
       "  <thead>\n",
       "    <tr style=\"text-align: right;\">\n",
       "      <th></th>\n",
       "      <th>category</th>\n",
       "      <th>words</th>\n",
       "      <th>number_of_keywords</th>\n",
       "    </tr>\n",
       "  </thead>\n",
       "  <tbody>\n",
       "    <tr>\n",
       "      <th>0</th>\n",
       "      <td>Environmental</td>\n",
       "      <td>[nature, ecology, conversation, green, environ...</td>\n",
       "      <td>6</td>\n",
       "    </tr>\n",
       "    <tr>\n",
       "      <th>1</th>\n",
       "      <td>Infrastructure</td>\n",
       "      <td>[installation, street, transportation, develop...</td>\n",
       "      <td>11</td>\n",
       "    </tr>\n",
       "    <tr>\n",
       "      <th>2</th>\n",
       "      <td>Education</td>\n",
       "      <td>[teaching, curriculum, school, education, lear...</td>\n",
       "      <td>6</td>\n",
       "    </tr>\n",
       "    <tr>\n",
       "      <th>3</th>\n",
       "      <td>Zoning</td>\n",
       "      <td>[housing, land, zoning, planning, regulations,...</td>\n",
       "      <td>8</td>\n",
       "    </tr>\n",
       "    <tr>\n",
       "      <th>4</th>\n",
       "      <td>Safety</td>\n",
       "      <td>[fire, emergency, health, security, safety, pr...</td>\n",
       "      <td>6</td>\n",
       "    </tr>\n",
       "  </tbody>\n",
       "</table>\n",
       "</div>"
      ],
      "text/plain": [
       "         category                                              words  \\\n",
       "0   Environmental  [nature, ecology, conversation, green, environ...   \n",
       "1  Infrastructure  [installation, street, transportation, develop...   \n",
       "2       Education  [teaching, curriculum, school, education, lear...   \n",
       "3          Zoning  [housing, land, zoning, planning, regulations,...   \n",
       "4          Safety  [fire, emergency, health, security, safety, pr...   \n",
       "\n",
       "   number_of_keywords  \n",
       "0                   6  \n",
       "1                  11  \n",
       "2                   6  \n",
       "3                   8  \n",
       "4                   6  "
      ]
     },
     "execution_count": 47,
     "metadata": {},
     "output_type": "execute_result"
    }
   ],
   "source": [
    "words = [['nature', 'ecology', 'conversation', 'green', 'environment', 'suistainability'],['installation', 'street', 'transportation', 'development', 'utility', 'street', 'infrastructure', 'construction', 'development', 'bridges', 'roads'],['teaching', 'curriculum', 'school', 'education', 'learning', 'students'],['housing', 'land', 'zoning', 'planning', 'regulations', 'permit', 'development', 'parking'],['fire', 'emergency', 'health', 'security', 'safety', 'protection']]\n",
    "category = [\"Environmental\",\"Infrastructure\",\"Education\",\"Zoning\",\"Safety\"]\n",
    "\n",
    "d = {'category': category,'words': words}\n",
    "keyword = pd.DataFrame(data=d)\n",
    "keyword['words'] = keyword['words']\n",
    "keyword['number_of_keywords'] = keyword['words'].apply(lambda row: len(row))\n",
    "\n",
    "keyword.head()"
   ]
  },
  {
   "cell_type": "code",
   "execution_count": 48,
   "id": "722c1009",
   "metadata": {
    "scrolled": false
   },
   "outputs": [
    {
     "data": {
      "text/html": [
       "<div>\n",
       "<style scoped>\n",
       "    .dataframe tbody tr th:only-of-type {\n",
       "        vertical-align: middle;\n",
       "    }\n",
       "\n",
       "    .dataframe tbody tr th {\n",
       "        vertical-align: top;\n",
       "    }\n",
       "\n",
       "    .dataframe thead th {\n",
       "        text-align: right;\n",
       "    }\n",
       "</style>\n",
       "<table border=\"1\" class=\"dataframe\">\n",
       "  <thead>\n",
       "    <tr style=\"text-align: right;\">\n",
       "      <th></th>\n",
       "      <th>category</th>\n",
       "      <th>count</th>\n",
       "      <th>category_count_letters</th>\n",
       "    </tr>\n",
       "  </thead>\n",
       "  <tbody>\n",
       "    <tr>\n",
       "      <th>0</th>\n",
       "      <td>Safety</td>\n",
       "      <td>10</td>\n",
       "      <td>6</td>\n",
       "    </tr>\n",
       "    <tr>\n",
       "      <th>1</th>\n",
       "      <td>Infrastructure</td>\n",
       "      <td>9</td>\n",
       "      <td>14</td>\n",
       "    </tr>\n",
       "    <tr>\n",
       "      <th>2</th>\n",
       "      <td>Education</td>\n",
       "      <td>8</td>\n",
       "      <td>9</td>\n",
       "    </tr>\n",
       "    <tr>\n",
       "      <th>3</th>\n",
       "      <td>Environmental</td>\n",
       "      <td>5</td>\n",
       "      <td>13</td>\n",
       "    </tr>\n",
       "    <tr>\n",
       "      <th>4</th>\n",
       "      <td>Zoning</td>\n",
       "      <td>4</td>\n",
       "      <td>6</td>\n",
       "    </tr>\n",
       "  </tbody>\n",
       "</table>\n",
       "</div>"
      ],
      "text/plain": [
       "         category  count  category_count_letters\n",
       "0          Safety     10                       6\n",
       "1  Infrastructure      9                      14\n",
       "2       Education      8                       9\n",
       "3   Environmental      5                      13\n",
       "4          Zoning      4                       6"
      ]
     },
     "execution_count": 48,
     "metadata": {},
     "output_type": "execute_result"
    }
   ],
   "source": [
    "tf = pd.DataFrame(df[\"category\"].value_counts()).reset_index()\n",
    "tf['category_count_letters'] = tf['category'].str.len()\n",
    "tf"
   ]
  },
  {
   "cell_type": "code",
   "execution_count": 49,
   "id": "e7027b27",
   "metadata": {},
   "outputs": [
    {
     "data": {
      "text/html": [
       "<div>\n",
       "<style scoped>\n",
       "    .dataframe tbody tr th:only-of-type {\n",
       "        vertical-align: middle;\n",
       "    }\n",
       "\n",
       "    .dataframe tbody tr th {\n",
       "        vertical-align: top;\n",
       "    }\n",
       "\n",
       "    .dataframe thead th {\n",
       "        text-align: right;\n",
       "    }\n",
       "</style>\n",
       "<table border=\"1\" class=\"dataframe\">\n",
       "  <thead>\n",
       "    <tr style=\"text-align: right;\">\n",
       "      <th></th>\n",
       "      <th>category</th>\n",
       "      <th>count</th>\n",
       "      <th>category_count_letters</th>\n",
       "    </tr>\n",
       "  </thead>\n",
       "  <tbody>\n",
       "    <tr>\n",
       "      <th>0</th>\n",
       "      <td>Environmental</td>\n",
       "      <td>1</td>\n",
       "      <td>13</td>\n",
       "    </tr>\n",
       "    <tr>\n",
       "      <th>1</th>\n",
       "      <td>Infrastructure</td>\n",
       "      <td>1</td>\n",
       "      <td>14</td>\n",
       "    </tr>\n",
       "    <tr>\n",
       "      <th>2</th>\n",
       "      <td>Education</td>\n",
       "      <td>1</td>\n",
       "      <td>9</td>\n",
       "    </tr>\n",
       "    <tr>\n",
       "      <th>3</th>\n",
       "      <td>Zoning</td>\n",
       "      <td>1</td>\n",
       "      <td>6</td>\n",
       "    </tr>\n",
       "    <tr>\n",
       "      <th>4</th>\n",
       "      <td>Safety</td>\n",
       "      <td>1</td>\n",
       "      <td>6</td>\n",
       "    </tr>\n",
       "  </tbody>\n",
       "</table>\n",
       "</div>"
      ],
      "text/plain": [
       "         category  count  category_count_letters\n",
       "0   Environmental      1                      13\n",
       "1  Infrastructure      1                      14\n",
       "2       Education      1                       9\n",
       "3          Zoning      1                       6\n",
       "4          Safety      1                       6"
      ]
     },
     "execution_count": 49,
     "metadata": {},
     "output_type": "execute_result"
    }
   ],
   "source": [
    "rf = pd.DataFrame(keyword[\"category\"].value_counts()).reset_index()\n",
    "rf['category_count_letters'] = rf['category'].str.len()\n",
    "rf"
   ]
  },
  {
   "cell_type": "code",
   "execution_count": 50,
   "id": "2a096d75",
   "metadata": {},
   "outputs": [
    {
     "data": {
      "text/html": [
       "<div>\n",
       "<style scoped>\n",
       "    .dataframe tbody tr th:only-of-type {\n",
       "        vertical-align: middle;\n",
       "    }\n",
       "\n",
       "    .dataframe tbody tr th {\n",
       "        vertical-align: top;\n",
       "    }\n",
       "\n",
       "    .dataframe thead th {\n",
       "        text-align: right;\n",
       "    }\n",
       "</style>\n",
       "<table border=\"1\" class=\"dataframe\">\n",
       "  <thead>\n",
       "    <tr style=\"text-align: right;\">\n",
       "      <th></th>\n",
       "      <th>category</th>\n",
       "      <th>words</th>\n",
       "      <th>number_of_keywords</th>\n",
       "    </tr>\n",
       "  </thead>\n",
       "  <tbody>\n",
       "    <tr>\n",
       "      <th>0</th>\n",
       "      <td>Environmental</td>\n",
       "      <td>[nature, ecology, conversation, green, environ...</td>\n",
       "      <td>6</td>\n",
       "    </tr>\n",
       "    <tr>\n",
       "      <th>1</th>\n",
       "      <td>Infrastructure</td>\n",
       "      <td>[installation, street, transportation, develop...</td>\n",
       "      <td>11</td>\n",
       "    </tr>\n",
       "    <tr>\n",
       "      <th>2</th>\n",
       "      <td>Education</td>\n",
       "      <td>[teaching, curriculum, school, education, lear...</td>\n",
       "      <td>6</td>\n",
       "    </tr>\n",
       "    <tr>\n",
       "      <th>3</th>\n",
       "      <td>Zoning</td>\n",
       "      <td>[housing, land, zoning, planning, regulations,...</td>\n",
       "      <td>8</td>\n",
       "    </tr>\n",
       "    <tr>\n",
       "      <th>4</th>\n",
       "      <td>Safety</td>\n",
       "      <td>[fire, emergency, health, security, safety, pr...</td>\n",
       "      <td>6</td>\n",
       "    </tr>\n",
       "  </tbody>\n",
       "</table>\n",
       "</div>"
      ],
      "text/plain": [
       "         category                                              words  \\\n",
       "0   Environmental  [nature, ecology, conversation, green, environ...   \n",
       "1  Infrastructure  [installation, street, transportation, develop...   \n",
       "2       Education  [teaching, curriculum, school, education, lear...   \n",
       "3          Zoning  [housing, land, zoning, planning, regulations,...   \n",
       "4          Safety  [fire, emergency, health, security, safety, pr...   \n",
       "\n",
       "   number_of_keywords  \n",
       "0                   6  \n",
       "1                  11  \n",
       "2                   6  \n",
       "3                   8  \n",
       "4                   6  "
      ]
     },
     "execution_count": 50,
     "metadata": {},
     "output_type": "execute_result"
    }
   ],
   "source": [
    "keyword"
   ]
  },
  {
   "cell_type": "code",
   "execution_count": 51,
   "id": "e2796e14",
   "metadata": {
    "scrolled": false
   },
   "outputs": [
    {
     "data": {
      "text/plain": [
       "category\n",
       "Environmental     1\n",
       "Infrastructure    1\n",
       "Education         1\n",
       "Zoning            1\n",
       "Safety            1\n",
       "Name: count, dtype: int64"
      ]
     },
     "execution_count": 51,
     "metadata": {},
     "output_type": "execute_result"
    }
   ],
   "source": [
    "keyword[\"category\"].value_counts()"
   ]
  },
  {
   "cell_type": "code",
   "execution_count": 52,
   "id": "6e05a1ad",
   "metadata": {},
   "outputs": [
    {
     "data": {
      "text/plain": [
       "' order 84 -19/20 \\npassage: 8 -0 (cook absent) on 11/18/2019    effective 11/28/2019  \\n \\nethan k. strimling (mayor)  \\nbelinda s. ray (1)  \\nspencer r. thibodeau (2)  \\nbrian e. batson (3)  \\njustin costa (4)  city of portland  \\nin the city council  kimberly cook (5)  \\njill c. duson (a/l)  \\npious ali (a/l)  \\nnicholas m. mavodones, jr (a/l)  \\n \\n \\n \\norder approving th e application for, accept ance  and \\nappropriation of an up to $250,000 brownfield  assessment  fund \\ngrant  \\n \\n \\n \\nordered, that the application for up to $250,000 brownfields assessment grant from the \\nunited states environmental protection agency is hereby approved; and  \\n \\nbe it further ordered, that a brownfields assessment grant in the amount of up to \\n$250,000 from the u.s. environmental protection agency, if awarded, is hereby \\naccepted for the purposes of funding assessments of contaminated sites; and \\n \\nbe it furth er ordered, that, if awarded and accepted, the brownfields assessment \\ngrant monies of up to $250,000 be hereby appropriated  into the revolving loan \\nfund for that purpose ; and  \\n \\nbe it further ordered,  the city manager or his or her designee is authorized to \\nexecute any and all documents necessary to apply for, accept and appropriate the \\ngrant, and otherwise carry out the intent of this order.  \\n \\n \\n \\n '"
      ]
     },
     "execution_count": 52,
     "metadata": {},
     "output_type": "execute_result"
    }
   ],
   "source": [
    "df[\"Description\"][1]"
   ]
  },
  {
   "cell_type": "code",
   "execution_count": null,
   "id": "d4d38057",
   "metadata": {},
   "outputs": [],
   "source": []
  },
  {
   "cell_type": "code",
   "execution_count": null,
   "id": "da622d5b",
   "metadata": {},
   "outputs": [],
   "source": []
  },
  {
   "cell_type": "code",
   "execution_count": null,
   "id": "d9e9e17c",
   "metadata": {},
   "outputs": [],
   "source": []
  },
  {
   "cell_type": "code",
   "execution_count": null,
   "id": "7491b50e",
   "metadata": {
    "scrolled": true
   },
   "outputs": [],
   "source": []
  },
  {
   "cell_type": "code",
   "execution_count": 53,
   "id": "fe7f967a",
   "metadata": {},
   "outputs": [],
   "source": [
    "# doc: document text string\n",
    "# returns tokenized document\n",
    "# strip_tags removes meta tags from the text\n",
    "# simple preprocess converts a document into a list of lowercase tokens, ignoring tokens that are too short or too long \n",
    "# simple preprocess also removes numerical values as well as punktuation characters\n",
    "def tokenize(doc):\n",
    "    return simple_preprocess(strip_tags(doc), deacc=True, min_len=2, max_len=15)"
   ]
  },
  {
   "cell_type": "code",
   "execution_count": 54,
   "id": "1d8a84c3",
   "metadata": {},
   "outputs": [],
   "source": [
    "# tokenize and tag documents combined title + description for Lbl2Vec training\n",
    "df[\"Description_tok\"] = df.apply(lambda row: TaggedDocument(tokenize(row['Description']), [str(row.name)]), axis=1)\n"
   ]
  },
  {
   "cell_type": "code",
   "execution_count": 55,
   "id": "7ec4cf19",
   "metadata": {
    "scrolled": true
   },
   "outputs": [
    {
     "data": {
      "text/plain": [
       "TaggedDocument(words=['order', 'passage', 'on', 'effective', 'kate', 'snyder', 'mayor', 'belinda', 'ray', 'spencer', 'thibodeau', 'tae', 'chong', 'justin', 'costa', 'city', 'of', 'portland', 'in', 'the', 'city', 'council', 'kimberly', 'cook', 'jill', 'duson', 'pious', 'ali', 'nicholas', 'mavodones', 'jr', 'order', 'ccept', 'ing', 'and', 'appropriati', 'ng', 'grant', 'from', 'the', 'sam', 'cohen', 'foundation', 'for', 'the', 'english', 'speakers', 'of', 'other', 'languages', 'collaborative', 'project', 'ordered', 'that', 'sam', 'cohen', 'foundation', 'grant', 'in', 'the', 'amount', 'of', 'is', 'hereby', 'accepted', 'for', 'the', 'engli', 'sh', 'speakers', 'of', 'other', 'language', 'collaborative', 'pr', 'oject', 'and', 'be', 'it', 'further', 'ordered', 'that', 'the', 'is', 'hereby', 'appropriated', 'for', 'use', 'by', 'the', 'engli', 'sh', 'speakers', 'of', 'other', 'languages', 'collaborative', 'roject', 'and', 'be', 'it', 'further', 'ordered', 'the', 'city', 'manager', 'or', 'his', 'or', 'her', 'designee', 'is', 'authorized', 'to', 'execute', 'any', 'and', 'all', 'documents', 'necessary', 'to', 'accept', 'and', 'appropriate', 'the', 'grant', 'and', 'otherwise', 'carry', 'out', 'the', 'intent', 'of', 'this', 'order'], tags=['10'])"
      ]
     },
     "execution_count": 55,
     "metadata": {},
     "output_type": "execute_result"
    }
   ],
   "source": [
    "df['Description_tok'][10]"
   ]
  },
  {
   "cell_type": "code",
   "execution_count": 56,
   "id": "b387dd89",
   "metadata": {
    "scrolled": true
   },
   "outputs": [
    {
     "data": {
      "text/html": [
       "<div>\n",
       "<style scoped>\n",
       "    .dataframe tbody tr th:only-of-type {\n",
       "        vertical-align: middle;\n",
       "    }\n",
       "\n",
       "    .dataframe tbody tr th {\n",
       "        vertical-align: top;\n",
       "    }\n",
       "\n",
       "    .dataframe thead th {\n",
       "        text-align: right;\n",
       "    }\n",
       "</style>\n",
       "<table border=\"1\" class=\"dataframe\">\n",
       "  <thead>\n",
       "    <tr style=\"text-align: right;\">\n",
       "      <th></th>\n",
       "      <th>link</th>\n",
       "      <th>category</th>\n",
       "      <th>title</th>\n",
       "      <th>Description</th>\n",
       "      <th>Description_tok</th>\n",
       "    </tr>\n",
       "  </thead>\n",
       "  <tbody>\n",
       "    <tr>\n",
       "      <th>33</th>\n",
       "      <td>https://content.civicplus.com/api/assets/e1184...</td>\n",
       "      <td>Infrastructure</td>\n",
       "      <td>ORDER APPROVING AN OPTION TO LEASE AGREEMENT W...</td>\n",
       "      <td>\\norder 146 -19/20 \\npassage: 9 -0 on 3/ 2/20...</td>\n",
       "      <td>([order, passage, on, effective, kate, snyder,...</td>\n",
       "    </tr>\n",
       "    <tr>\n",
       "      <th>34</th>\n",
       "      <td>https://content.civicplus.com/api/assets/e1184...</td>\n",
       "      <td>Infrastructure</td>\n",
       "      <td>ORDER ACCEPTING AND ADOPTING THE 2020 HOUSING ...</td>\n",
       "      <td>\\norder 146 -19/20 \\npassage: 9 -0 on 3/ 2/20...</td>\n",
       "      <td>([order, passage, on, effective, kate, snyder,...</td>\n",
       "    </tr>\n",
       "    <tr>\n",
       "      <th>35</th>\n",
       "      <td>https://content.civicplus.com/api/assets/18278...</td>\n",
       "      <td>Safety</td>\n",
       "      <td>ORDER ACCEPTING A HOUSING AND URBAN DEVELOPMEN...</td>\n",
       "      <td>order 103 -19/20 \\nmotion to waive the second ...</td>\n",
       "      <td>([order, motion, to, waive, the, second, readi...</td>\n",
       "    </tr>\n",
       "    <tr>\n",
       "      <th>36</th>\n",
       "      <td>https://content.civicplus.com/api/assets/c73c8...</td>\n",
       "      <td>Infrastructure</td>\n",
       "      <td>ORDER APPROPRIATING $193,266 IN HOME INVESTMEN...</td>\n",
       "      <td>order 34 -19/20 \\npassage: 9 -0 on 9/4/2019   ...</td>\n",
       "      <td>([order, passage, on, effective, ethan, striml...</td>\n",
       "    </tr>\n",
       "    <tr>\n",
       "      <th>37</th>\n",
       "      <td>https://content.civicplus.com/api/assets/8c493...</td>\n",
       "      <td>Zoning</td>\n",
       "      <td>ORDER APPROVING THE SECOND AMENDMENT TO CONDIT...</td>\n",
       "      <td>order 13 -19/20 \\npassag e: 7-0 (batson and co...</td>\n",
       "      <td>([order, passag, batson, and, costa, absent, o...</td>\n",
       "    </tr>\n",
       "  </tbody>\n",
       "</table>\n",
       "</div>"
      ],
      "text/plain": [
       "                                                 link        category  \\\n",
       "33  https://content.civicplus.com/api/assets/e1184...  Infrastructure   \n",
       "34  https://content.civicplus.com/api/assets/e1184...  Infrastructure   \n",
       "35  https://content.civicplus.com/api/assets/18278...          Safety   \n",
       "36  https://content.civicplus.com/api/assets/c73c8...  Infrastructure   \n",
       "37  https://content.civicplus.com/api/assets/8c493...          Zoning   \n",
       "\n",
       "                                                title  \\\n",
       "33  ORDER APPROVING AN OPTION TO LEASE AGREEMENT W...   \n",
       "34  ORDER ACCEPTING AND ADOPTING THE 2020 HOUSING ...   \n",
       "35  ORDER ACCEPTING A HOUSING AND URBAN DEVELOPMEN...   \n",
       "36  ORDER APPROPRIATING $193,266 IN HOME INVESTMEN...   \n",
       "37  ORDER APPROVING THE SECOND AMENDMENT TO CONDIT...   \n",
       "\n",
       "                                          Description  \\\n",
       "33   \\norder 146 -19/20 \\npassage: 9 -0 on 3/ 2/20...   \n",
       "34   \\norder 146 -19/20 \\npassage: 9 -0 on 3/ 2/20...   \n",
       "35  order 103 -19/20 \\nmotion to waive the second ...   \n",
       "36  order 34 -19/20 \\npassage: 9 -0 on 9/4/2019   ...   \n",
       "37  order 13 -19/20 \\npassag e: 7-0 (batson and co...   \n",
       "\n",
       "                                      Description_tok  \n",
       "33  ([order, passage, on, effective, kate, snyder,...  \n",
       "34  ([order, passage, on, effective, kate, snyder,...  \n",
       "35  ([order, motion, to, waive, the, second, readi...  \n",
       "36  ([order, passage, on, effective, ethan, striml...  \n",
       "37  ([order, passag, batson, and, costa, absent, o...  "
      ]
     },
     "execution_count": 56,
     "metadata": {},
     "output_type": "execute_result"
    }
   ],
   "source": [
    "df.tail()"
   ]
  },
  {
   "cell_type": "code",
   "execution_count": 57,
   "id": "bbd22312",
   "metadata": {
    "collapsed": true
   },
   "outputs": [
    {
     "data": {
      "text/html": [
       "<div>\n",
       "<style scoped>\n",
       "    .dataframe tbody tr th:only-of-type {\n",
       "        vertical-align: middle;\n",
       "    }\n",
       "\n",
       "    .dataframe tbody tr th {\n",
       "        vertical-align: top;\n",
       "    }\n",
       "\n",
       "    .dataframe thead th {\n",
       "        text-align: right;\n",
       "    }\n",
       "</style>\n",
       "<table border=\"1\" class=\"dataframe\">\n",
       "  <thead>\n",
       "    <tr style=\"text-align: right;\">\n",
       "      <th></th>\n",
       "      <th>link</th>\n",
       "      <th>category</th>\n",
       "      <th>title</th>\n",
       "      <th>Description</th>\n",
       "      <th>Description_tok</th>\n",
       "      <th>doc_key</th>\n",
       "    </tr>\n",
       "  </thead>\n",
       "  <tbody>\n",
       "    <tr>\n",
       "      <th>0</th>\n",
       "      <td>https://content.civicplus.com/api/assets/ea087...</td>\n",
       "      <td>Environmental</td>\n",
       "      <td>ORDER APPROVING THE APPLICATION FOR, ACCEPTANC...</td>\n",
       "      <td>order 84 -19/20 \\npassage: 8 -0 (cook absent)...</td>\n",
       "      <td>([order, passage, cook, absent, on, effective,...</td>\n",
       "      <td>0</td>\n",
       "    </tr>\n",
       "    <tr>\n",
       "      <th>1</th>\n",
       "      <td>https://content.civicplus.com/api/assets/299d3...</td>\n",
       "      <td>Infrastructure</td>\n",
       "      <td>ORDER APPROVING MODIFICATION TO TWO-PARTY AGRE...</td>\n",
       "      <td>order 83 -19/20 \\npassage: 8 -0 (cook absent) ...</td>\n",
       "      <td>([order, passage, cook, absent, on, effective,...</td>\n",
       "      <td>1</td>\n",
       "    </tr>\n",
       "    <tr>\n",
       "      <th>2</th>\n",
       "      <td>https://content.civicplus.com/api/assets/e1184...</td>\n",
       "      <td>Infrastructure</td>\n",
       "      <td>ORDER ACCEPTING AND ADOPTING THE 2020 HOUSING ...</td>\n",
       "      <td>\\norder 146 -19/20 \\npassage: 9 -0 on 3/ 2/20...</td>\n",
       "      <td>([order, passage, on, effective, kate, snyder,...</td>\n",
       "      <td>2</td>\n",
       "    </tr>\n",
       "    <tr>\n",
       "      <th>3</th>\n",
       "      <td>https://content.civicplus.com/api/assets/1768f...</td>\n",
       "      <td>Infrastructure</td>\n",
       "      <td>ORDER APPROPRIATING $36,000 FROM THE HOUSING T...</td>\n",
       "      <td>order 54 -19/20 \\npassage: 8 -0 (ali absent) o...</td>\n",
       "      <td>([order, passage, ali, absent, on, effective, ...</td>\n",
       "      <td>3</td>\n",
       "    </tr>\n",
       "    <tr>\n",
       "      <th>4</th>\n",
       "      <td>https://content.civicplus.com/api/assets/af3b4...</td>\n",
       "      <td>Safety</td>\n",
       "      <td>AMENDMENT TO PORTLAND CITY CODE CHAPTER 10 RE:...</td>\n",
       "      <td>order 59 -19/20 \\nmotion to postpone to novem...</td>\n",
       "      <td>([order, motion, to, postpone, to, november, a...</td>\n",
       "      <td>4</td>\n",
       "    </tr>\n",
       "  </tbody>\n",
       "</table>\n",
       "</div>"
      ],
      "text/plain": [
       "                                                link        category  \\\n",
       "0  https://content.civicplus.com/api/assets/ea087...   Environmental   \n",
       "1  https://content.civicplus.com/api/assets/299d3...  Infrastructure   \n",
       "2  https://content.civicplus.com/api/assets/e1184...  Infrastructure   \n",
       "3  https://content.civicplus.com/api/assets/1768f...  Infrastructure   \n",
       "4  https://content.civicplus.com/api/assets/af3b4...          Safety   \n",
       "\n",
       "                                               title  \\\n",
       "0  ORDER APPROVING THE APPLICATION FOR, ACCEPTANC...   \n",
       "1  ORDER APPROVING MODIFICATION TO TWO-PARTY AGRE...   \n",
       "2  ORDER ACCEPTING AND ADOPTING THE 2020 HOUSING ...   \n",
       "3  ORDER APPROPRIATING $36,000 FROM THE HOUSING T...   \n",
       "4  AMENDMENT TO PORTLAND CITY CODE CHAPTER 10 RE:...   \n",
       "\n",
       "                                         Description  \\\n",
       "0   order 84 -19/20 \\npassage: 8 -0 (cook absent)...   \n",
       "1  order 83 -19/20 \\npassage: 8 -0 (cook absent) ...   \n",
       "2   \\norder 146 -19/20 \\npassage: 9 -0 on 3/ 2/20...   \n",
       "3  order 54 -19/20 \\npassage: 8 -0 (ali absent) o...   \n",
       "4   order 59 -19/20 \\nmotion to postpone to novem...   \n",
       "\n",
       "                                     Description_tok doc_key  \n",
       "0  ([order, passage, cook, absent, on, effective,...       0  \n",
       "1  ([order, passage, cook, absent, on, effective,...       1  \n",
       "2  ([order, passage, on, effective, kate, snyder,...       2  \n",
       "3  ([order, passage, ali, absent, on, effective, ...       3  \n",
       "4  ([order, motion, to, postpone, to, november, a...       4  "
      ]
     },
     "execution_count": 57,
     "metadata": {},
     "output_type": "execute_result"
    }
   ],
   "source": [
    "df.reset_index(drop=True,inplace=True)\n",
    "df['doc_key'] = df.index.astype(str)\n",
    "df.head()"
   ]
  },
  {
   "cell_type": "code",
   "execution_count": 73,
   "id": "43848635",
   "metadata": {},
   "outputs": [],
   "source": [
    "df_train = df[:250]\n",
    "df_train['data_set_type'] = 'train'"
   ]
  },
  {
   "cell_type": "code",
   "execution_count": 74,
   "id": "4df06209",
   "metadata": {
    "scrolled": false
   },
   "outputs": [
    {
     "name": "stdout",
     "output_type": "stream",
     "text": [
      "train data shape (36, 7)\n",
      "test data shape (0, 7)\n"
     ]
    },
    {
     "data": {
      "text/html": [
       "<div>\n",
       "<style scoped>\n",
       "    .dataframe tbody tr th:only-of-type {\n",
       "        vertical-align: middle;\n",
       "    }\n",
       "\n",
       "    .dataframe tbody tr th {\n",
       "        vertical-align: top;\n",
       "    }\n",
       "\n",
       "    .dataframe thead th {\n",
       "        text-align: right;\n",
       "    }\n",
       "</style>\n",
       "<table border=\"1\" class=\"dataframe\">\n",
       "  <thead>\n",
       "    <tr style=\"text-align: right;\">\n",
       "      <th></th>\n",
       "      <th>link</th>\n",
       "      <th>category</th>\n",
       "      <th>title</th>\n",
       "      <th>Description</th>\n",
       "      <th>Description_tok</th>\n",
       "      <th>doc_key</th>\n",
       "      <th>data_set_type</th>\n",
       "    </tr>\n",
       "  </thead>\n",
       "  <tbody>\n",
       "    <tr>\n",
       "      <th>0</th>\n",
       "      <td>https://content.civicplus.com/api/assets/ea087...</td>\n",
       "      <td>Environmental</td>\n",
       "      <td>ORDER APPROVING THE APPLICATION FOR, ACCEPTANC...</td>\n",
       "      <td>order 84 -19/20 \\npassage: 8 -0 (cook absent)...</td>\n",
       "      <td>([order, passage, cook, absent, on, effective,...</td>\n",
       "      <td>0</td>\n",
       "      <td>train</td>\n",
       "    </tr>\n",
       "    <tr>\n",
       "      <th>1</th>\n",
       "      <td>https://content.civicplus.com/api/assets/299d3...</td>\n",
       "      <td>Infrastructure</td>\n",
       "      <td>ORDER APPROVING MODIFICATION TO TWO-PARTY AGRE...</td>\n",
       "      <td>order 83 -19/20 \\npassage: 8 -0 (cook absent) ...</td>\n",
       "      <td>([order, passage, cook, absent, on, effective,...</td>\n",
       "      <td>1</td>\n",
       "      <td>train</td>\n",
       "    </tr>\n",
       "    <tr>\n",
       "      <th>2</th>\n",
       "      <td>https://content.civicplus.com/api/assets/e1184...</td>\n",
       "      <td>Infrastructure</td>\n",
       "      <td>ORDER ACCEPTING AND ADOPTING THE 2020 HOUSING ...</td>\n",
       "      <td>\\norder 146 -19/20 \\npassage: 9 -0 on 3/ 2/20...</td>\n",
       "      <td>([order, passage, on, effective, kate, snyder,...</td>\n",
       "      <td>2</td>\n",
       "      <td>train</td>\n",
       "    </tr>\n",
       "    <tr>\n",
       "      <th>3</th>\n",
       "      <td>https://content.civicplus.com/api/assets/1768f...</td>\n",
       "      <td>Infrastructure</td>\n",
       "      <td>ORDER APPROPRIATING $36,000 FROM THE HOUSING T...</td>\n",
       "      <td>order 54 -19/20 \\npassage: 8 -0 (ali absent) o...</td>\n",
       "      <td>([order, passage, ali, absent, on, effective, ...</td>\n",
       "      <td>3</td>\n",
       "      <td>train</td>\n",
       "    </tr>\n",
       "    <tr>\n",
       "      <th>4</th>\n",
       "      <td>https://content.civicplus.com/api/assets/af3b4...</td>\n",
       "      <td>Safety</td>\n",
       "      <td>AMENDMENT TO PORTLAND CITY CODE CHAPTER 10 RE:...</td>\n",
       "      <td>order 59 -19/20 \\nmotion to postpone to novem...</td>\n",
       "      <td>([order, motion, to, postpone, to, november, a...</td>\n",
       "      <td>4</td>\n",
       "      <td>train</td>\n",
       "    </tr>\n",
       "  </tbody>\n",
       "</table>\n",
       "</div>"
      ],
      "text/plain": [
       "                                                link        category  \\\n",
       "0  https://content.civicplus.com/api/assets/ea087...   Environmental   \n",
       "1  https://content.civicplus.com/api/assets/299d3...  Infrastructure   \n",
       "2  https://content.civicplus.com/api/assets/e1184...  Infrastructure   \n",
       "3  https://content.civicplus.com/api/assets/1768f...  Infrastructure   \n",
       "4  https://content.civicplus.com/api/assets/af3b4...          Safety   \n",
       "\n",
       "                                               title  \\\n",
       "0  ORDER APPROVING THE APPLICATION FOR, ACCEPTANC...   \n",
       "1  ORDER APPROVING MODIFICATION TO TWO-PARTY AGRE...   \n",
       "2  ORDER ACCEPTING AND ADOPTING THE 2020 HOUSING ...   \n",
       "3  ORDER APPROPRIATING $36,000 FROM THE HOUSING T...   \n",
       "4  AMENDMENT TO PORTLAND CITY CODE CHAPTER 10 RE:...   \n",
       "\n",
       "                                         Description  \\\n",
       "0   order 84 -19/20 \\npassage: 8 -0 (cook absent)...   \n",
       "1  order 83 -19/20 \\npassage: 8 -0 (cook absent) ...   \n",
       "2   \\norder 146 -19/20 \\npassage: 9 -0 on 3/ 2/20...   \n",
       "3  order 54 -19/20 \\npassage: 8 -0 (ali absent) o...   \n",
       "4   order 59 -19/20 \\nmotion to postpone to novem...   \n",
       "\n",
       "                                     Description_tok doc_key data_set_type  \n",
       "0  ([order, passage, cook, absent, on, effective,...       0         train  \n",
       "1  ([order, passage, cook, absent, on, effective,...       1         train  \n",
       "2  ([order, passage, on, effective, kate, snyder,...       2         train  \n",
       "3  ([order, passage, ali, absent, on, effective, ...       3         train  \n",
       "4  ([order, motion, to, postpone, to, november, a...       4         train  "
      ]
     },
     "execution_count": 74,
     "metadata": {},
     "output_type": "execute_result"
    }
   ],
   "source": [
    "print(\"train data shape\",df_train.shape)\n",
    "print(\"test data shape\",df_test.shape)\n",
    "\n",
    "\n",
    "# concat train and test data\n",
    "ag_full_corpus = pd.concat([df_train,df_test]).reset_index(drop=True)\n",
    "\n",
    "ag_full_corpus.head()"
   ]
  },
  {
   "cell_type": "code",
   "execution_count": 75,
   "id": "93bd9412",
   "metadata": {
    "scrolled": false
   },
   "outputs": [
    {
     "data": {
      "text/plain": [
       "link               object\n",
       "category           object\n",
       "title              object\n",
       "Description        object\n",
       "Description_tok    object\n",
       "doc_key            object\n",
       "data_set_type      object\n",
       "dtype: object"
      ]
     },
     "execution_count": 75,
     "metadata": {},
     "output_type": "execute_result"
    }
   ],
   "source": [
    "ag_full_corpus.dtypes"
   ]
  },
  {
   "cell_type": "code",
   "execution_count": 76,
   "id": "6b22f6e5",
   "metadata": {},
   "outputs": [],
   "source": [
    "# init model with parameters\n",
    "#lbl2vec_model = Lbl2Vec(keywords_list=list(labels['keywords']), \n",
    "#                        tagged_documents=ag_full_corpus['tagged_docs'][ag_full_corpus['data_set_type']=='train'],\n",
    "#                        label_names=list(labels['class_name']), similarity_threshold=0.30, min_num_docs=100, epochs=10)\n",
    "#"
   ]
  },
  {
   "cell_type": "code",
   "execution_count": 77,
   "id": "f0f2800c",
   "metadata": {
    "scrolled": false
   },
   "outputs": [
    {
     "data": {
      "text/html": [
       "<div>\n",
       "<style scoped>\n",
       "    .dataframe tbody tr th:only-of-type {\n",
       "        vertical-align: middle;\n",
       "    }\n",
       "\n",
       "    .dataframe tbody tr th {\n",
       "        vertical-align: top;\n",
       "    }\n",
       "\n",
       "    .dataframe thead th {\n",
       "        text-align: right;\n",
       "    }\n",
       "</style>\n",
       "<table border=\"1\" class=\"dataframe\">\n",
       "  <thead>\n",
       "    <tr style=\"text-align: right;\">\n",
       "      <th></th>\n",
       "      <th>category</th>\n",
       "      <th>words</th>\n",
       "      <th>number_of_keywords</th>\n",
       "    </tr>\n",
       "  </thead>\n",
       "  <tbody>\n",
       "    <tr>\n",
       "      <th>0</th>\n",
       "      <td>Environmental</td>\n",
       "      <td>[nature, ecology, conversation, green, environ...</td>\n",
       "      <td>6</td>\n",
       "    </tr>\n",
       "    <tr>\n",
       "      <th>1</th>\n",
       "      <td>Infrastructure</td>\n",
       "      <td>[installation, street, transportation, develop...</td>\n",
       "      <td>11</td>\n",
       "    </tr>\n",
       "    <tr>\n",
       "      <th>2</th>\n",
       "      <td>Education</td>\n",
       "      <td>[teaching, curriculum, school, education, lear...</td>\n",
       "      <td>6</td>\n",
       "    </tr>\n",
       "    <tr>\n",
       "      <th>3</th>\n",
       "      <td>Zoning</td>\n",
       "      <td>[housing, land, zoning, planning, regulations,...</td>\n",
       "      <td>8</td>\n",
       "    </tr>\n",
       "    <tr>\n",
       "      <th>4</th>\n",
       "      <td>Safety</td>\n",
       "      <td>[fire, emergency, health, security, safety, pr...</td>\n",
       "      <td>6</td>\n",
       "    </tr>\n",
       "  </tbody>\n",
       "</table>\n",
       "</div>"
      ],
      "text/plain": [
       "         category                                              words  \\\n",
       "0   Environmental  [nature, ecology, conversation, green, environ...   \n",
       "1  Infrastructure  [installation, street, transportation, develop...   \n",
       "2       Education  [teaching, curriculum, school, education, lear...   \n",
       "3          Zoning  [housing, land, zoning, planning, regulations,...   \n",
       "4          Safety  [fire, emergency, health, security, safety, pr...   \n",
       "\n",
       "   number_of_keywords  \n",
       "0                   6  \n",
       "1                  11  \n",
       "2                   6  \n",
       "3                   8  \n",
       "4                   6  "
      ]
     },
     "execution_count": 77,
     "metadata": {},
     "output_type": "execute_result"
    }
   ],
   "source": [
    "keyword.head()"
   ]
  },
  {
   "cell_type": "code",
   "execution_count": null,
   "id": "ea9c0969",
   "metadata": {},
   "outputs": [],
   "source": []
  },
  {
   "cell_type": "markdown",
   "id": "8d39b134",
   "metadata": {},
   "source": [
    "# LABEL 2 VECTOR"
   ]
  },
  {
   "cell_type": "code",
   "execution_count": 78,
   "id": "620c03eb",
   "metadata": {},
   "outputs": [],
   "source": [
    "# init model with parameters\n",
    "lbl2vec_model = Lbl2Vec(keywords_list=list(keyword['words']),\n",
    "                        tagged_documents=ag_full_corpus['Description_tok'][ag_full_corpus['data_set_type']=='train'],\n",
    "                        label_names=list(keyword['category']),min_count = 2,similarity_threshold=0.20, min_num_docs=32, epochs=10)\n"
   ]
  },
  {
   "cell_type": "code",
   "execution_count": 79,
   "id": "72abc46b",
   "metadata": {
    "scrolled": true
   },
   "outputs": [
    {
     "name": "stderr",
     "output_type": "stream",
     "text": [
      "2023-12-14 03:21:08,870 - Lbl2Vec - INFO - Train document and word embeddings\n",
      "2023-12-14 03:21:08,870 - Lbl2Vec - INFO - Train document and word embeddings\n",
      "2023-12-14 03:21:13,854 - Lbl2Vec - INFO - Train label embeddings\n",
      "2023-12-14 03:21:13,854 - Lbl2Vec - INFO - Train label embeddings\n",
      "2023-12-14 03:21:13,855 - Lbl2Vec - WARNING - The following keywords from the 'keywords_list' are unknown to the Doc2Vec model and therefore not used to train the model: ecology conversation environment suistainability\n",
      "2023-12-14 03:21:13,855 - Lbl2Vec - WARNING - The following keywords from the 'keywords_list' are unknown to the Doc2Vec model and therefore not used to train the model: ecology conversation environment suistainability\n",
      "2023-12-14 03:21:13,860 - Lbl2Vec - WARNING - The following keywords from the 'keywords_list' are unknown to the Doc2Vec model and therefore not used to train the model: bridges\n",
      "2023-12-14 03:21:13,860 - Lbl2Vec - WARNING - The following keywords from the 'keywords_list' are unknown to the Doc2Vec model and therefore not used to train the model: bridges\n",
      "2023-12-14 03:21:13,868 - Lbl2Vec - WARNING - The following keywords from the 'keywords_list' are unknown to the Doc2Vec model and therefore not used to train the model: teaching curriculum learning students\n",
      "2023-12-14 03:21:13,868 - Lbl2Vec - WARNING - The following keywords from the 'keywords_list' are unknown to the Doc2Vec model and therefore not used to train the model: teaching curriculum learning students\n"
     ]
    }
   ],
   "source": [
    "lbl2vec_model.fit()"
   ]
  },
  {
   "cell_type": "markdown",
   "id": "6c7d2d50",
   "metadata": {},
   "source": [
    "### Predict topics of documents used to train Lbl2Vec\n",
    "\n",
    "\n",
    "Compute similarity scores of learned document vectors from documents that were used to train the model to each of the learned label vectors. The similarity scores consist of cosine similarities and therefore have a value range of [-1,1]."
   ]
  },
  {
   "cell_type": "code",
   "execution_count": 80,
   "id": "677ce22a",
   "metadata": {},
   "outputs": [
    {
     "name": "stderr",
     "output_type": "stream",
     "text": [
      "2023-12-14 03:21:13,882 - Lbl2Vec - INFO - Get document embeddings from model\n",
      "2023-12-14 03:21:13,882 - Lbl2Vec - INFO - Get document embeddings from model\n",
      "2023-12-14 03:21:13,891 - Lbl2Vec - INFO - Calculate document<->label similarities\n",
      "2023-12-14 03:21:13,891 - Lbl2Vec - INFO - Calculate document<->label similarities\n"
     ]
    }
   ],
   "source": [
    "# predict similarity scores\n",
    "model_docs_lbl_similarities = lbl2vec_model.predict_model_docs()"
   ]
  },
  {
   "cell_type": "code",
   "execution_count": 81,
   "id": "b97cfa9b",
   "metadata": {},
   "outputs": [
    {
     "data": {
      "text/html": [
       "<div>\n",
       "<style scoped>\n",
       "    .dataframe tbody tr th:only-of-type {\n",
       "        vertical-align: middle;\n",
       "    }\n",
       "\n",
       "    .dataframe tbody tr th {\n",
       "        vertical-align: top;\n",
       "    }\n",
       "\n",
       "    .dataframe thead th {\n",
       "        text-align: right;\n",
       "    }\n",
       "</style>\n",
       "<table border=\"1\" class=\"dataframe\">\n",
       "  <thead>\n",
       "    <tr style=\"text-align: right;\">\n",
       "      <th></th>\n",
       "      <th>doc_key</th>\n",
       "      <th>most_similar_label</th>\n",
       "      <th>highest_similarity_score</th>\n",
       "      <th>Environmental</th>\n",
       "      <th>Infrastructure</th>\n",
       "      <th>Education</th>\n",
       "      <th>Zoning</th>\n",
       "      <th>Safety</th>\n",
       "    </tr>\n",
       "  </thead>\n",
       "  <tbody>\n",
       "    <tr>\n",
       "      <th>0</th>\n",
       "      <td>1</td>\n",
       "      <td>Education</td>\n",
       "      <td>0.895171</td>\n",
       "      <td>0.881649</td>\n",
       "      <td>0.881507</td>\n",
       "      <td>0.895171</td>\n",
       "      <td>0.881507</td>\n",
       "      <td>0.874936</td>\n",
       "    </tr>\n",
       "    <tr>\n",
       "      <th>1</th>\n",
       "      <td>2</td>\n",
       "      <td>Safety</td>\n",
       "      <td>0.736441</td>\n",
       "      <td>0.690863</td>\n",
       "      <td>0.687935</td>\n",
       "      <td>0.707438</td>\n",
       "      <td>0.687935</td>\n",
       "      <td>0.736441</td>\n",
       "    </tr>\n",
       "    <tr>\n",
       "      <th>2</th>\n",
       "      <td>3</td>\n",
       "      <td>Education</td>\n",
       "      <td>0.431575</td>\n",
       "      <td>0.422219</td>\n",
       "      <td>0.415309</td>\n",
       "      <td>0.431575</td>\n",
       "      <td>0.415309</td>\n",
       "      <td>0.231189</td>\n",
       "    </tr>\n",
       "    <tr>\n",
       "      <th>3</th>\n",
       "      <td>4</td>\n",
       "      <td>Education</td>\n",
       "      <td>0.953316</td>\n",
       "      <td>0.937277</td>\n",
       "      <td>0.939575</td>\n",
       "      <td>0.953316</td>\n",
       "      <td>0.939575</td>\n",
       "      <td>0.940014</td>\n",
       "    </tr>\n",
       "    <tr>\n",
       "      <th>4</th>\n",
       "      <td>5</td>\n",
       "      <td>Environmental</td>\n",
       "      <td>0.380884</td>\n",
       "      <td>0.380884</td>\n",
       "      <td>0.379719</td>\n",
       "      <td>0.307597</td>\n",
       "      <td>0.379719</td>\n",
       "      <td>0.369057</td>\n",
       "    </tr>\n",
       "  </tbody>\n",
       "</table>\n",
       "</div>"
      ],
      "text/plain": [
       "  doc_key most_similar_label  highest_similarity_score  Environmental  \\\n",
       "0       1          Education                  0.895171       0.881649   \n",
       "1       2             Safety                  0.736441       0.690863   \n",
       "2       3          Education                  0.431575       0.422219   \n",
       "3       4          Education                  0.953316       0.937277   \n",
       "4       5      Environmental                  0.380884       0.380884   \n",
       "\n",
       "   Infrastructure  Education    Zoning    Safety  \n",
       "0        0.881507   0.895171  0.881507  0.874936  \n",
       "1        0.687935   0.707438  0.687935  0.736441  \n",
       "2        0.415309   0.431575  0.415309  0.231189  \n",
       "3        0.939575   0.953316  0.939575  0.940014  \n",
       "4        0.379719   0.307597  0.379719  0.369057  "
      ]
     },
     "execution_count": 81,
     "metadata": {},
     "output_type": "execute_result"
    }
   ],
   "source": [
    "model_docs_lbl_similarities.head()"
   ]
  },
  {
   "cell_type": "markdown",
   "id": "e87cff86",
   "metadata": {},
   "source": [
    "### Evaluate prediction of documents used to train Lbl2Vec"
   ]
  },
  {
   "cell_type": "code",
   "execution_count": 82,
   "id": "378bd925",
   "metadata": {},
   "outputs": [],
   "source": [
    "# merge DataFrames to compare the predicted and true topic labels\n",
    "evaluation_train = model_docs_lbl_similarities.merge(ag_full_corpus[ag_full_corpus['data_set_type']=='train'], left_on='doc_key', right_on='doc_key')\n"
   ]
  },
  {
   "cell_type": "code",
   "execution_count": 83,
   "id": "82984478",
   "metadata": {
    "scrolled": true
   },
   "outputs": [
    {
     "data": {
      "text/html": [
       "<div>\n",
       "<style scoped>\n",
       "    .dataframe tbody tr th:only-of-type {\n",
       "        vertical-align: middle;\n",
       "    }\n",
       "\n",
       "    .dataframe tbody tr th {\n",
       "        vertical-align: top;\n",
       "    }\n",
       "\n",
       "    .dataframe thead th {\n",
       "        text-align: right;\n",
       "    }\n",
       "</style>\n",
       "<table border=\"1\" class=\"dataframe\">\n",
       "  <thead>\n",
       "    <tr style=\"text-align: right;\">\n",
       "      <th></th>\n",
       "      <th>doc_key</th>\n",
       "      <th>most_similar_label</th>\n",
       "      <th>highest_similarity_score</th>\n",
       "      <th>Environmental</th>\n",
       "      <th>Infrastructure</th>\n",
       "      <th>Education</th>\n",
       "      <th>Zoning</th>\n",
       "      <th>Safety</th>\n",
       "      <th>link</th>\n",
       "      <th>category</th>\n",
       "      <th>title</th>\n",
       "      <th>Description</th>\n",
       "      <th>Description_tok</th>\n",
       "      <th>data_set_type</th>\n",
       "    </tr>\n",
       "  </thead>\n",
       "  <tbody>\n",
       "    <tr>\n",
       "      <th>0</th>\n",
       "      <td>1</td>\n",
       "      <td>Education</td>\n",
       "      <td>0.895171</td>\n",
       "      <td>0.881649</td>\n",
       "      <td>0.881507</td>\n",
       "      <td>0.895171</td>\n",
       "      <td>0.881507</td>\n",
       "      <td>0.874936</td>\n",
       "      <td>https://content.civicplus.com/api/assets/299d3...</td>\n",
       "      <td>Infrastructure</td>\n",
       "      <td>ORDER APPROVING MODIFICATION TO TWO-PARTY AGRE...</td>\n",
       "      <td>order 83 -19/20 \\npassage: 8 -0 (cook absent) ...</td>\n",
       "      <td>([order, passage, cook, absent, on, effective,...</td>\n",
       "      <td>train</td>\n",
       "    </tr>\n",
       "    <tr>\n",
       "      <th>1</th>\n",
       "      <td>2</td>\n",
       "      <td>Safety</td>\n",
       "      <td>0.736441</td>\n",
       "      <td>0.690863</td>\n",
       "      <td>0.687935</td>\n",
       "      <td>0.707438</td>\n",
       "      <td>0.687935</td>\n",
       "      <td>0.736441</td>\n",
       "      <td>https://content.civicplus.com/api/assets/e1184...</td>\n",
       "      <td>Infrastructure</td>\n",
       "      <td>ORDER ACCEPTING AND ADOPTING THE 2020 HOUSING ...</td>\n",
       "      <td>\\norder 146 -19/20 \\npassage: 9 -0 on 3/ 2/20...</td>\n",
       "      <td>([order, passage, on, effective, kate, snyder,...</td>\n",
       "      <td>train</td>\n",
       "    </tr>\n",
       "  </tbody>\n",
       "</table>\n",
       "</div>"
      ],
      "text/plain": [
       "  doc_key most_similar_label  highest_similarity_score  Environmental  \\\n",
       "0       1          Education                  0.895171       0.881649   \n",
       "1       2             Safety                  0.736441       0.690863   \n",
       "\n",
       "   Infrastructure  Education    Zoning    Safety  \\\n",
       "0        0.881507   0.895171  0.881507  0.874936   \n",
       "1        0.687935   0.707438  0.687935  0.736441   \n",
       "\n",
       "                                                link        category  \\\n",
       "0  https://content.civicplus.com/api/assets/299d3...  Infrastructure   \n",
       "1  https://content.civicplus.com/api/assets/e1184...  Infrastructure   \n",
       "\n",
       "                                               title  \\\n",
       "0  ORDER APPROVING MODIFICATION TO TWO-PARTY AGRE...   \n",
       "1  ORDER ACCEPTING AND ADOPTING THE 2020 HOUSING ...   \n",
       "\n",
       "                                         Description  \\\n",
       "0  order 83 -19/20 \\npassage: 8 -0 (cook absent) ...   \n",
       "1   \\norder 146 -19/20 \\npassage: 9 -0 on 3/ 2/20...   \n",
       "\n",
       "                                     Description_tok data_set_type  \n",
       "0  ([order, passage, cook, absent, on, effective,...         train  \n",
       "1  ([order, passage, on, effective, kate, snyder,...         train  "
      ]
     },
     "execution_count": 83,
     "metadata": {},
     "output_type": "execute_result"
    }
   ],
   "source": [
    "evaluation_train.head(2)"
   ]
  },
  {
   "cell_type": "code",
   "execution_count": 84,
   "id": "b01055f2",
   "metadata": {
    "scrolled": true
   },
   "outputs": [
    {
     "name": "stdout",
     "output_type": "stream",
     "text": [
      "F1 score: 0.35294117647058826\n"
     ]
    }
   ],
   "source": [
    "y_true_train = evaluation_train['category']\n",
    "y_pred_train = evaluation_train['most_similar_label']\n",
    "print('F1 score:',f1_score(y_true_train, y_pred_train, average='micro'))"
   ]
  },
  {
   "cell_type": "markdown",
   "id": "ba43875d",
   "metadata": {},
   "source": [
    "##### Let's Check Accuracy "
   ]
  },
  {
   "cell_type": "code",
   "execution_count": 85,
   "id": "1f8e2230",
   "metadata": {},
   "outputs": [
    {
     "data": {
      "text/html": [
       "<div>\n",
       "<style scoped>\n",
       "    .dataframe tbody tr th:only-of-type {\n",
       "        vertical-align: middle;\n",
       "    }\n",
       "\n",
       "    .dataframe tbody tr th {\n",
       "        vertical-align: top;\n",
       "    }\n",
       "\n",
       "    .dataframe thead th {\n",
       "        text-align: right;\n",
       "    }\n",
       "</style>\n",
       "<table border=\"1\" class=\"dataframe\">\n",
       "  <thead>\n",
       "    <tr style=\"text-align: right;\">\n",
       "      <th></th>\n",
       "      <th>doc_key</th>\n",
       "      <th>most_similar_label</th>\n",
       "      <th>highest_similarity_score</th>\n",
       "      <th>Environmental</th>\n",
       "      <th>Infrastructure</th>\n",
       "      <th>Education</th>\n",
       "      <th>Zoning</th>\n",
       "      <th>Safety</th>\n",
       "      <th>link</th>\n",
       "      <th>category</th>\n",
       "      <th>title</th>\n",
       "      <th>Description</th>\n",
       "      <th>Description_tok</th>\n",
       "      <th>data_set_type</th>\n",
       "    </tr>\n",
       "  </thead>\n",
       "  <tbody>\n",
       "    <tr>\n",
       "      <th>0</th>\n",
       "      <td>1</td>\n",
       "      <td>Education</td>\n",
       "      <td>0.895171</td>\n",
       "      <td>0.881649</td>\n",
       "      <td>0.881507</td>\n",
       "      <td>0.895171</td>\n",
       "      <td>0.881507</td>\n",
       "      <td>0.874936</td>\n",
       "      <td>https://content.civicplus.com/api/assets/299d3...</td>\n",
       "      <td>Infrastructure</td>\n",
       "      <td>ORDER APPROVING MODIFICATION TO TWO-PARTY AGRE...</td>\n",
       "      <td>order 83 -19/20 \\npassage: 8 -0 (cook absent) ...</td>\n",
       "      <td>([order, passage, cook, absent, on, effective,...</td>\n",
       "      <td>train</td>\n",
       "    </tr>\n",
       "    <tr>\n",
       "      <th>1</th>\n",
       "      <td>2</td>\n",
       "      <td>Safety</td>\n",
       "      <td>0.736441</td>\n",
       "      <td>0.690863</td>\n",
       "      <td>0.687935</td>\n",
       "      <td>0.707438</td>\n",
       "      <td>0.687935</td>\n",
       "      <td>0.736441</td>\n",
       "      <td>https://content.civicplus.com/api/assets/e1184...</td>\n",
       "      <td>Infrastructure</td>\n",
       "      <td>ORDER ACCEPTING AND ADOPTING THE 2020 HOUSING ...</td>\n",
       "      <td>\\norder 146 -19/20 \\npassage: 9 -0 on 3/ 2/20...</td>\n",
       "      <td>([order, passage, on, effective, kate, snyder,...</td>\n",
       "      <td>train</td>\n",
       "    </tr>\n",
       "    <tr>\n",
       "      <th>2</th>\n",
       "      <td>3</td>\n",
       "      <td>Education</td>\n",
       "      <td>0.431575</td>\n",
       "      <td>0.422219</td>\n",
       "      <td>0.415309</td>\n",
       "      <td>0.431575</td>\n",
       "      <td>0.415309</td>\n",
       "      <td>0.231189</td>\n",
       "      <td>https://content.civicplus.com/api/assets/1768f...</td>\n",
       "      <td>Infrastructure</td>\n",
       "      <td>ORDER APPROPRIATING $36,000 FROM THE HOUSING T...</td>\n",
       "      <td>order 54 -19/20 \\npassage: 8 -0 (ali absent) o...</td>\n",
       "      <td>([order, passage, ali, absent, on, effective, ...</td>\n",
       "      <td>train</td>\n",
       "    </tr>\n",
       "    <tr>\n",
       "      <th>3</th>\n",
       "      <td>4</td>\n",
       "      <td>Education</td>\n",
       "      <td>0.953316</td>\n",
       "      <td>0.937277</td>\n",
       "      <td>0.939575</td>\n",
       "      <td>0.953316</td>\n",
       "      <td>0.939575</td>\n",
       "      <td>0.940014</td>\n",
       "      <td>https://content.civicplus.com/api/assets/af3b4...</td>\n",
       "      <td>Safety</td>\n",
       "      <td>AMENDMENT TO PORTLAND CITY CODE CHAPTER 10 RE:...</td>\n",
       "      <td>order 59 -19/20 \\nmotion to postpone to novem...</td>\n",
       "      <td>([order, motion, to, postpone, to, november, a...</td>\n",
       "      <td>train</td>\n",
       "    </tr>\n",
       "    <tr>\n",
       "      <th>4</th>\n",
       "      <td>5</td>\n",
       "      <td>Environmental</td>\n",
       "      <td>0.380884</td>\n",
       "      <td>0.380884</td>\n",
       "      <td>0.379719</td>\n",
       "      <td>0.307597</td>\n",
       "      <td>0.379719</td>\n",
       "      <td>0.369057</td>\n",
       "      <td>https://content.civicplus.com/api/assets/efb4d...</td>\n",
       "      <td>Environmental</td>\n",
       "      <td>AMENDMENT TO PORTLAND CITY CODE CHAPTER 12. GA...</td>\n",
       "      <td>order 61 -19/20 \\nmotion to amend by  adding a...</td>\n",
       "      <td>([order, motion, to, amend, by, adding, new, b...</td>\n",
       "      <td>train</td>\n",
       "    </tr>\n",
       "  </tbody>\n",
       "</table>\n",
       "</div>"
      ],
      "text/plain": [
       "  doc_key most_similar_label  highest_similarity_score  Environmental  \\\n",
       "0       1          Education                  0.895171       0.881649   \n",
       "1       2             Safety                  0.736441       0.690863   \n",
       "2       3          Education                  0.431575       0.422219   \n",
       "3       4          Education                  0.953316       0.937277   \n",
       "4       5      Environmental                  0.380884       0.380884   \n",
       "\n",
       "   Infrastructure  Education    Zoning    Safety  \\\n",
       "0        0.881507   0.895171  0.881507  0.874936   \n",
       "1        0.687935   0.707438  0.687935  0.736441   \n",
       "2        0.415309   0.431575  0.415309  0.231189   \n",
       "3        0.939575   0.953316  0.939575  0.940014   \n",
       "4        0.379719   0.307597  0.379719  0.369057   \n",
       "\n",
       "                                                link        category  \\\n",
       "0  https://content.civicplus.com/api/assets/299d3...  Infrastructure   \n",
       "1  https://content.civicplus.com/api/assets/e1184...  Infrastructure   \n",
       "2  https://content.civicplus.com/api/assets/1768f...  Infrastructure   \n",
       "3  https://content.civicplus.com/api/assets/af3b4...          Safety   \n",
       "4  https://content.civicplus.com/api/assets/efb4d...   Environmental   \n",
       "\n",
       "                                               title  \\\n",
       "0  ORDER APPROVING MODIFICATION TO TWO-PARTY AGRE...   \n",
       "1  ORDER ACCEPTING AND ADOPTING THE 2020 HOUSING ...   \n",
       "2  ORDER APPROPRIATING $36,000 FROM THE HOUSING T...   \n",
       "3  AMENDMENT TO PORTLAND CITY CODE CHAPTER 10 RE:...   \n",
       "4  AMENDMENT TO PORTLAND CITY CODE CHAPTER 12. GA...   \n",
       "\n",
       "                                         Description  \\\n",
       "0  order 83 -19/20 \\npassage: 8 -0 (cook absent) ...   \n",
       "1   \\norder 146 -19/20 \\npassage: 9 -0 on 3/ 2/20...   \n",
       "2  order 54 -19/20 \\npassage: 8 -0 (ali absent) o...   \n",
       "3   order 59 -19/20 \\nmotion to postpone to novem...   \n",
       "4  order 61 -19/20 \\nmotion to amend by  adding a...   \n",
       "\n",
       "                                     Description_tok data_set_type  \n",
       "0  ([order, passage, cook, absent, on, effective,...         train  \n",
       "1  ([order, passage, on, effective, kate, snyder,...         train  \n",
       "2  ([order, passage, ali, absent, on, effective, ...         train  \n",
       "3  ([order, motion, to, postpone, to, november, a...         train  \n",
       "4  ([order, motion, to, amend, by, adding, new, b...         train  "
      ]
     },
     "execution_count": 85,
     "metadata": {},
     "output_type": "execute_result"
    }
   ],
   "source": [
    "final_frame = evaluation_train.copy()\n",
    "final_frame.head()"
   ]
  },
  {
   "cell_type": "code",
   "execution_count": 86,
   "id": "ed7bebf9",
   "metadata": {},
   "outputs": [],
   "source": [
    "new_frame = final_frame[[\"category\",\"most_similar_label\"]]\n"
   ]
  },
  {
   "cell_type": "code",
   "execution_count": 87,
   "id": "a28e4ac3",
   "metadata": {},
   "outputs": [],
   "source": [
    "new_frame.loc[new_frame.category == new_frame.most_similar_label, \"score\"] = 1\n",
    "new_frame.loc[new_frame.category != new_frame.most_similar_label, \"score\"] = 0"
   ]
  },
  {
   "cell_type": "code",
   "execution_count": 88,
   "id": "0bebf8b1",
   "metadata": {},
   "outputs": [
    {
     "data": {
      "text/html": [
       "<div>\n",
       "<style scoped>\n",
       "    .dataframe tbody tr th:only-of-type {\n",
       "        vertical-align: middle;\n",
       "    }\n",
       "\n",
       "    .dataframe tbody tr th {\n",
       "        vertical-align: top;\n",
       "    }\n",
       "\n",
       "    .dataframe thead th {\n",
       "        text-align: right;\n",
       "    }\n",
       "</style>\n",
       "<table border=\"1\" class=\"dataframe\">\n",
       "  <thead>\n",
       "    <tr style=\"text-align: right;\">\n",
       "      <th></th>\n",
       "      <th>category</th>\n",
       "      <th>most_similar_label</th>\n",
       "      <th>score</th>\n",
       "    </tr>\n",
       "  </thead>\n",
       "  <tbody>\n",
       "    <tr>\n",
       "      <th>0</th>\n",
       "      <td>Infrastructure</td>\n",
       "      <td>Education</td>\n",
       "      <td>0.0</td>\n",
       "    </tr>\n",
       "    <tr>\n",
       "      <th>1</th>\n",
       "      <td>Infrastructure</td>\n",
       "      <td>Safety</td>\n",
       "      <td>0.0</td>\n",
       "    </tr>\n",
       "    <tr>\n",
       "      <th>2</th>\n",
       "      <td>Infrastructure</td>\n",
       "      <td>Education</td>\n",
       "      <td>0.0</td>\n",
       "    </tr>\n",
       "    <tr>\n",
       "      <th>3</th>\n",
       "      <td>Safety</td>\n",
       "      <td>Education</td>\n",
       "      <td>0.0</td>\n",
       "    </tr>\n",
       "    <tr>\n",
       "      <th>4</th>\n",
       "      <td>Environmental</td>\n",
       "      <td>Environmental</td>\n",
       "      <td>1.0</td>\n",
       "    </tr>\n",
       "  </tbody>\n",
       "</table>\n",
       "</div>"
      ],
      "text/plain": [
       "         category most_similar_label  score\n",
       "0  Infrastructure          Education    0.0\n",
       "1  Infrastructure             Safety    0.0\n",
       "2  Infrastructure          Education    0.0\n",
       "3          Safety          Education    0.0\n",
       "4   Environmental      Environmental    1.0"
      ]
     },
     "execution_count": 88,
     "metadata": {},
     "output_type": "execute_result"
    }
   ],
   "source": [
    "new_frame.head()"
   ]
  },
  {
   "cell_type": "code",
   "execution_count": 89,
   "id": "afceb87c",
   "metadata": {},
   "outputs": [
    {
     "data": {
      "text/plain": [
       "0.35294117647058826"
      ]
     },
     "execution_count": 89,
     "metadata": {},
     "output_type": "execute_result"
    }
   ],
   "source": [
    "### Accuracy is simple \n",
    "\n",
    "new_frame[\"score\"].sum()/len(new_frame)"
   ]
  },
  {
   "cell_type": "markdown",
   "id": "972d5f7d",
   "metadata": {},
   "source": [
    "# LABEL 2 Transformer VECTOR"
   ]
  },
  {
   "cell_type": "code",
   "execution_count": null,
   "id": "555cd258",
   "metadata": {},
   "outputs": [],
   "source": []
  },
  {
   "cell_type": "code",
   "execution_count": 98,
   "id": "5c250e12",
   "metadata": {},
   "outputs": [],
   "source": [
    "X_train, X_test, y_train, y_test = train_test_split(ag_full_corpus['Description'],ag_full_corpus['category'], test_size=0.001, random_state=42)"
   ]
  },
  {
   "cell_type": "code",
   "execution_count": 99,
   "id": "fb8fe901",
   "metadata": {
    "scrolled": false
   },
   "outputs": [
    {
     "name": "stderr",
     "output_type": "stream",
     "text": [
      "2023-12-14 03:25:26,452 - Lbl2TransformerVec - INFO - Compute keyword embeddings\n",
      "2023-12-14 03:25:26,452 - Lbl2TransformerVec - INFO - Compute keyword embeddings\n",
      "2023-12-14 03:25:29,045 - Lbl2TransformerVec - INFO - Compute document embeddings\n",
      "2023-12-14 03:25:29,045 - Lbl2TransformerVec - INFO - Compute document embeddings\n",
      "2023-12-14 03:27:42,743 - Lbl2TransformerVec - INFO - Train label embeddings\n",
      "2023-12-14 03:27:42,743 - Lbl2TransformerVec - INFO - Train label embeddings\n"
     ]
    }
   ],
   "source": [
    "#init model with parameters\n",
    "model = Lbl2TransformerVec(keywords_list=list(keyword['words']), documents=X_train)\n",
    "\n",
    "# train model\n",
    "model.fit()"
   ]
  },
  {
   "cell_type": "code",
   "execution_count": 100,
   "id": "f091a287",
   "metadata": {
    "scrolled": true
   },
   "outputs": [
    {
     "name": "stderr",
     "output_type": "stream",
     "text": [
      "2023-12-14 03:27:42,802 - Lbl2TransformerVec - INFO - Get document embeddings from model\n",
      "2023-12-14 03:27:42,802 - Lbl2TransformerVec - INFO - Get document embeddings from model\n",
      "2023-12-14 03:27:42,805 - Lbl2TransformerVec - INFO - Calculate document<->label similarities\n",
      "2023-12-14 03:27:42,805 - Lbl2TransformerVec - INFO - Calculate document<->label similarities\n"
     ]
    }
   ],
   "source": [
    "# predict similarity scores\n",
    "model_docs_lbl_similarities = model.predict_model_docs()\n",
    "\n"
   ]
  },
  {
   "cell_type": "code",
   "execution_count": 101,
   "id": "227ed2cb",
   "metadata": {},
   "outputs": [
    {
     "data": {
      "text/html": [
       "<div>\n",
       "<style scoped>\n",
       "    .dataframe tbody tr th:only-of-type {\n",
       "        vertical-align: middle;\n",
       "    }\n",
       "\n",
       "    .dataframe tbody tr th {\n",
       "        vertical-align: top;\n",
       "    }\n",
       "\n",
       "    .dataframe thead th {\n",
       "        text-align: right;\n",
       "    }\n",
       "</style>\n",
       "<table border=\"1\" class=\"dataframe\">\n",
       "  <thead>\n",
       "    <tr style=\"text-align: right;\">\n",
       "      <th></th>\n",
       "      <th>category</th>\n",
       "      <th>words</th>\n",
       "      <th>number_of_keywords</th>\n",
       "    </tr>\n",
       "  </thead>\n",
       "  <tbody>\n",
       "    <tr>\n",
       "      <th>0</th>\n",
       "      <td>Environmental</td>\n",
       "      <td>[nature, ecology, conversation, green, environ...</td>\n",
       "      <td>6</td>\n",
       "    </tr>\n",
       "    <tr>\n",
       "      <th>1</th>\n",
       "      <td>Infrastructure</td>\n",
       "      <td>[installation, street, transportation, develop...</td>\n",
       "      <td>11</td>\n",
       "    </tr>\n",
       "    <tr>\n",
       "      <th>2</th>\n",
       "      <td>Education</td>\n",
       "      <td>[teaching, curriculum, school, education, lear...</td>\n",
       "      <td>6</td>\n",
       "    </tr>\n",
       "    <tr>\n",
       "      <th>3</th>\n",
       "      <td>Zoning</td>\n",
       "      <td>[housing, land, zoning, planning, regulations,...</td>\n",
       "      <td>8</td>\n",
       "    </tr>\n",
       "    <tr>\n",
       "      <th>4</th>\n",
       "      <td>Safety</td>\n",
       "      <td>[fire, emergency, health, security, safety, pr...</td>\n",
       "      <td>6</td>\n",
       "    </tr>\n",
       "  </tbody>\n",
       "</table>\n",
       "</div>"
      ],
      "text/plain": [
       "         category                                              words  \\\n",
       "0   Environmental  [nature, ecology, conversation, green, environ...   \n",
       "1  Infrastructure  [installation, street, transportation, develop...   \n",
       "2       Education  [teaching, curriculum, school, education, lear...   \n",
       "3          Zoning  [housing, land, zoning, planning, regulations,...   \n",
       "4          Safety  [fire, emergency, health, security, safety, pr...   \n",
       "\n",
       "   number_of_keywords  \n",
       "0                   6  \n",
       "1                  11  \n",
       "2                   6  \n",
       "3                   8  \n",
       "4                   6  "
      ]
     },
     "execution_count": 101,
     "metadata": {},
     "output_type": "execute_result"
    }
   ],
   "source": [
    "keyword"
   ]
  },
  {
   "cell_type": "code",
   "execution_count": 102,
   "id": "97bb48e8",
   "metadata": {
    "scrolled": true
   },
   "outputs": [
    {
     "data": {
      "text/html": [
       "<div>\n",
       "<style scoped>\n",
       "    .dataframe tbody tr th:only-of-type {\n",
       "        vertical-align: middle;\n",
       "    }\n",
       "\n",
       "    .dataframe tbody tr th {\n",
       "        vertical-align: top;\n",
       "    }\n",
       "\n",
       "    .dataframe thead th {\n",
       "        text-align: right;\n",
       "    }\n",
       "</style>\n",
       "<table border=\"1\" class=\"dataframe\">\n",
       "  <thead>\n",
       "    <tr style=\"text-align: right;\">\n",
       "      <th></th>\n",
       "      <th>doc_key</th>\n",
       "      <th>most_similar_label</th>\n",
       "      <th>highest_similarity_score</th>\n",
       "      <th>label_0</th>\n",
       "      <th>label_1</th>\n",
       "      <th>label_2</th>\n",
       "      <th>label_3</th>\n",
       "      <th>label_4</th>\n",
       "    </tr>\n",
       "  </thead>\n",
       "  <tbody>\n",
       "    <tr>\n",
       "      <th>22</th>\n",
       "      <td>22</td>\n",
       "      <td>label_4</td>\n",
       "      <td>0.804411</td>\n",
       "      <td>0.712056</td>\n",
       "      <td>0.780137</td>\n",
       "      <td>0.773161</td>\n",
       "      <td>0.31887</td>\n",
       "      <td>0.804411</td>\n",
       "    </tr>\n",
       "  </tbody>\n",
       "</table>\n",
       "</div>"
      ],
      "text/plain": [
       "    doc_key most_similar_label  highest_similarity_score   label_0   label_1  \\\n",
       "22       22            label_4                  0.804411  0.712056  0.780137   \n",
       "\n",
       "     label_2  label_3   label_4  \n",
       "22  0.773161  0.31887  0.804411  "
      ]
     },
     "execution_count": 102,
     "metadata": {},
     "output_type": "execute_result"
    }
   ],
   "source": [
    "model_docs_lbl_similarities.sample(1)"
   ]
  },
  {
   "cell_type": "code",
   "execution_count": 103,
   "id": "1681f885",
   "metadata": {},
   "outputs": [
    {
     "data": {
      "text/html": [
       "<div>\n",
       "<style scoped>\n",
       "    .dataframe tbody tr th:only-of-type {\n",
       "        vertical-align: middle;\n",
       "    }\n",
       "\n",
       "    .dataframe tbody tr th {\n",
       "        vertical-align: top;\n",
       "    }\n",
       "\n",
       "    .dataframe thead th {\n",
       "        text-align: right;\n",
       "    }\n",
       "</style>\n",
       "<table border=\"1\" class=\"dataframe\">\n",
       "  <thead>\n",
       "    <tr style=\"text-align: right;\">\n",
       "      <th></th>\n",
       "      <th>doc_key</th>\n",
       "      <th>most_similar_label</th>\n",
       "      <th>highest_similarity_score</th>\n",
       "      <th>label_0</th>\n",
       "      <th>label_1</th>\n",
       "      <th>label_2</th>\n",
       "      <th>label_3</th>\n",
       "      <th>label_4</th>\n",
       "      <th>prediction</th>\n",
       "    </tr>\n",
       "  </thead>\n",
       "  <tbody>\n",
       "    <tr>\n",
       "      <th>0</th>\n",
       "      <td>0</td>\n",
       "      <td>label_3</td>\n",
       "      <td>1.000000</td>\n",
       "      <td>0.256766</td>\n",
       "      <td>0.291182</td>\n",
       "      <td>0.269839</td>\n",
       "      <td>1.000000</td>\n",
       "      <td>0.323972</td>\n",
       "      <td>Zoning</td>\n",
       "    </tr>\n",
       "    <tr>\n",
       "      <th>1</th>\n",
       "      <td>1</td>\n",
       "      <td>label_4</td>\n",
       "      <td>0.529678</td>\n",
       "      <td>0.446110</td>\n",
       "      <td>0.511807</td>\n",
       "      <td>0.513902</td>\n",
       "      <td>0.448819</td>\n",
       "      <td>0.529678</td>\n",
       "      <td>Safety</td>\n",
       "    </tr>\n",
       "    <tr>\n",
       "      <th>2</th>\n",
       "      <td>2</td>\n",
       "      <td>label_3</td>\n",
       "      <td>0.495461</td>\n",
       "      <td>0.465151</td>\n",
       "      <td>0.453934</td>\n",
       "      <td>0.377555</td>\n",
       "      <td>0.495461</td>\n",
       "      <td>0.438389</td>\n",
       "      <td>Zoning</td>\n",
       "    </tr>\n",
       "    <tr>\n",
       "      <th>3</th>\n",
       "      <td>3</td>\n",
       "      <td>label_2</td>\n",
       "      <td>0.960554</td>\n",
       "      <td>0.692638</td>\n",
       "      <td>0.794938</td>\n",
       "      <td>0.960554</td>\n",
       "      <td>0.267855</td>\n",
       "      <td>0.734609</td>\n",
       "      <td>Education</td>\n",
       "    </tr>\n",
       "    <tr>\n",
       "      <th>4</th>\n",
       "      <td>4</td>\n",
       "      <td>label_1</td>\n",
       "      <td>0.470221</td>\n",
       "      <td>0.444783</td>\n",
       "      <td>0.470221</td>\n",
       "      <td>0.467993</td>\n",
       "      <td>0.442461</td>\n",
       "      <td>0.468819</td>\n",
       "      <td>Infrastructure</td>\n",
       "    </tr>\n",
       "  </tbody>\n",
       "</table>\n",
       "</div>"
      ],
      "text/plain": [
       "   doc_key most_similar_label  highest_similarity_score   label_0   label_1  \\\n",
       "0        0            label_3                  1.000000  0.256766  0.291182   \n",
       "1        1            label_4                  0.529678  0.446110  0.511807   \n",
       "2        2            label_3                  0.495461  0.465151  0.453934   \n",
       "3        3            label_2                  0.960554  0.692638  0.794938   \n",
       "4        4            label_1                  0.470221  0.444783  0.470221   \n",
       "\n",
       "    label_2   label_3   label_4      prediction  \n",
       "0  0.269839  1.000000  0.323972          Zoning  \n",
       "1  0.513902  0.448819  0.529678          Safety  \n",
       "2  0.377555  0.495461  0.438389          Zoning  \n",
       "3  0.960554  0.267855  0.734609       Education  \n",
       "4  0.467993  0.442461  0.468819  Infrastructure  "
      ]
     },
     "execution_count": 103,
     "metadata": {},
     "output_type": "execute_result"
    }
   ],
   "source": [
    "model_docs_lbl_similarities['prediction'] = model_docs_lbl_similarities['most_similar_label'].map({\n",
    "    'label_0': 'Environmental', 'label_1': 'Infrastructure','label_2':'Education','label_3':'Zoning','label_4':'Safety'})\n",
    "model_docs_lbl_similarities.head()"
   ]
  },
  {
   "cell_type": "code",
   "execution_count": 104,
   "id": "83161394",
   "metadata": {},
   "outputs": [
    {
     "data": {
      "text/plain": [
       "prediction\n",
       "Education         10\n",
       "Zoning             8\n",
       "Safety             8\n",
       "Infrastructure     7\n",
       "Environmental      2\n",
       "Name: count, dtype: int64"
      ]
     },
     "execution_count": 104,
     "metadata": {},
     "output_type": "execute_result"
    }
   ],
   "source": [
    "model_docs_lbl_similarities[\"prediction\"].value_counts()"
   ]
  },
  {
   "cell_type": "code",
   "execution_count": 105,
   "id": "a1162052",
   "metadata": {},
   "outputs": [
    {
     "name": "stdout",
     "output_type": "stream",
     "text": [
      "F1 score: 0.5714285714285714\n"
     ]
    }
   ],
   "source": [
    "# evaluation_train = model_docs_lbl_similarities.merge(df, left_on='doc_key', right_on='doc_key')\n",
    "y_true_train = y_train\n",
    "y_pred_train = model_docs_lbl_similarities['prediction']\n",
    "print('F1 score:',f1_score(y_true_train, y_pred_train, average='micro'))"
   ]
  },
  {
   "cell_type": "code",
   "execution_count": 112,
   "id": "b6b12b1b",
   "metadata": {},
   "outputs": [
    {
     "data": {
      "text/plain": [
       "0.35294117647058826"
      ]
     },
     "execution_count": 112,
     "metadata": {},
     "output_type": "execute_result"
    }
   ],
   "source": [
    "d = {'TRUE': y_train,'PRED': y_pred_train}\n",
    "ff = pd.DataFrame(data=d)\n",
    "\n",
    "ff.loc[ff.TRUE == ff.PRED, \"score\"] = 1\n",
    "ff.loc[ff.TRUE != ff.PRED, \"score\"] = 0\n",
    "\n",
    "### Accuracy is simple \n",
    "\n",
    "new_frame[\"score\"].sum()/len(new_frame)"
   ]
  },
  {
   "cell_type": "code",
   "execution_count": null,
   "id": "dbe09b3e",
   "metadata": {},
   "outputs": [],
   "source": []
  },
  {
   "cell_type": "code",
   "execution_count": null,
   "id": "e95bd3f0",
   "metadata": {},
   "outputs": [],
   "source": []
  },
  {
   "cell_type": "code",
   "execution_count": null,
   "id": "18e485ea",
   "metadata": {},
   "outputs": [],
   "source": []
  },
  {
   "cell_type": "code",
   "execution_count": null,
   "id": "b02f424c",
   "metadata": {},
   "outputs": [],
   "source": []
  },
  {
   "cell_type": "code",
   "execution_count": null,
   "id": "cc35e9a9",
   "metadata": {},
   "outputs": [],
   "source": []
  }
 ],
 "metadata": {
  "kernelspec": {
   "display_name": "Python 3 (ipykernel)",
   "language": "python",
   "name": "python3"
  },
  "language_info": {
   "codemirror_mode": {
    "name": "ipython",
    "version": 3
   },
   "file_extension": ".py",
   "mimetype": "text/x-python",
   "name": "python",
   "nbconvert_exporter": "python",
   "pygments_lexer": "ipython3",
   "version": "3.11.5"
  }
 },
 "nbformat": 4,
 "nbformat_minor": 5
}
